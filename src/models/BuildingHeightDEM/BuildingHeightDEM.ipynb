{
 "cells": [
  {
   "cell_type": "markdown",
   "id": "0c32a679",
   "metadata": {},
   "source": [
    "# Estimation of building height using digital elevation data\n",
    "\n",
    "This work strives to test a hypothesis. The hypothesis is that a building height can be estimated by means of the difference between digital terrain model (DTM) and digital surface model (DSM). To test the hypothesis, city of Halle in Germany is considerd in combination with openly available data from Saxony-Anhalt (https://www.lvermgeo.sachsen-anhalt.de/de/kostenfreie_geobasisdaten_lvermgeo.html) and Open Street Map (https://www.openstreetmap.org). \n",
    "\n",
    "The following procedure is used to test the hypothesis. In the __first__ part, DSM, DTM, and geometry of the buildings are extracted. In the __second__ part, DSM and DTM data are intersected on building geometry and the differenced between the DSM and DTM heights are calculated. And in the __third__ part, a weighted average method is used to estimate flat height with confidence interval of buildings. "
   ]
  },
  {
   "cell_type": "code",
   "execution_count": 1,
   "id": "ae93eb30",
   "metadata": {},
   "outputs": [],
   "source": [
    "import geopandas as gpd\n",
    "import pandas as pd\n",
    "import osmnx as ox\n",
    "from shapely.geometry import LineString, Point, Polygon\n",
    "\n",
    "import os "
   ]
  },
  {
   "cell_type": "code",
   "execution_count": 2,
   "id": "0013be17",
   "metadata": {},
   "outputs": [],
   "source": [
    "# Toggle between users\n",
    "\n",
    "# Babak\n",
    "upath = r'C:\\Users\\beb\\OneDrive - NILU'"
   ]
  },
  {
   "cell_type": "markdown",
   "id": "f9d911db",
   "metadata": {},
   "source": [
    "## ''Part 1''"
   ]
  },
  {
   "cell_type": "markdown",
   "id": "2b78173f",
   "metadata": {},
   "source": [
    "#### Reading and concatination of DTM and DSM files"
   ]
  },
  {
   "cell_type": "code",
   "execution_count": 3,
   "id": "ba31f917",
   "metadata": {},
   "outputs": [
    {
     "name": "stdout",
     "output_type": "stream",
     "text": [
      "CPU times: total: 0 ns\n",
      "Wall time: 9.97 ms\n"
     ]
    }
   ],
   "source": [
    "%%time\n",
    "# get list of DTM files in the following directory\n",
    "fd_dtm = os.path.join(upath, r'doc\\FAIRiCUBE\\WP2\\data\\DTM')\n",
    "dtmfiles = []\n",
    "\n",
    "for fn in os.listdir(fd_dtm):\n",
    "    if os.path.isfile(os.path.join(fd_dtm, fn)):\n",
    "        dtmfiles.append(os.path.join(fd_dtm,fn))\n",
    "\n",
    "\n",
    "# get list of DSM files in the following directory\n",
    "fd_dsm = os.path.join(upath, r'doc\\FAIRiCUBE\\WP2\\data\\DSM')\n",
    "dsmfiles = []\n",
    "\n",
    "for fn in os.listdir(fd_dsm):\n",
    "    if os.path.isfile(os.path.join(fd_dsm, fn)):\n",
    "        dsmfiles.append(os.path.join(fd_dsm,fn))"
   ]
  },
  {
   "cell_type": "code",
   "execution_count": 4,
   "id": "105c32a9",
   "metadata": {},
   "outputs": [
    {
     "name": "stdout",
     "output_type": "stream",
     "text": [
      "Index number of the read DTM file = 0\n",
      "Index number of the read DTM file = 1\n",
      "Index number of the read DTM file = 2\n",
      "Index number of the read DTM file = 3\n",
      "Index number of the read DTM file = 4\n",
      "Index number of the read DTM file = 5\n",
      "Index number of the read DTM file = 6\n",
      "Index number of the read DTM file = 7\n",
      "Index number of the read DTM file = 8\n",
      "Index number of the read DTM file = 9\n",
      "Index number of the read DTM file = 10\n",
      "Index number of the read DTM file = 11\n",
      "Index number of the read DTM file = 12\n",
      "Index number of the read DTM file = 13\n",
      "Index number of the read DTM file = 14\n",
      "Index number of the read DTM file = 15\n",
      "Index number of the read DTM file = 16\n",
      "Index number of the read DTM file = 17\n",
      "Index number of the read DTM file = 18\n",
      "Index number of the read DTM file = 19\n",
      "Index number of the read DTM file = 20\n",
      "Index number of the read DTM file = 21\n",
      "Index number of the read DTM file = 22\n",
      "Index number of the read DTM file = 23\n",
      "Index number of the read DTM file = 24\n",
      "Index number of the read DTM file = 25\n",
      "Index number of the read DTM file = 26\n",
      "Index number of the read DTM file = 27\n",
      "Index number of the read DTM file = 28\n",
      "Index number of the read DTM file = 29\n",
      "Index number of the read DSM file = 0\n",
      "Index number of the read DSM file = 1\n",
      "Index number of the read DSM file = 2\n",
      "Index number of the read DSM file = 3\n",
      "Index number of the read DSM file = 4\n",
      "Index number of the read DSM file = 5\n",
      "Index number of the read DSM file = 6\n",
      "Index number of the read DSM file = 7\n",
      "Index number of the read DSM file = 8\n",
      "Index number of the read DSM file = 9\n",
      "Index number of the read DSM file = 10\n",
      "Index number of the read DSM file = 11\n",
      "Index number of the read DSM file = 12\n",
      "Index number of the read DSM file = 13\n",
      "Index number of the read DSM file = 14\n",
      "Index number of the read DSM file = 15\n",
      "Index number of the read DSM file = 16\n",
      "Index number of the read DSM file = 17\n",
      "Index number of the read DSM file = 18\n",
      "Index number of the read DSM file = 19\n",
      "Index number of the read DSM file = 20\n",
      "Index number of the read DSM file = 21\n",
      "Index number of the read DSM file = 22\n",
      "Index number of the read DSM file = 23\n",
      "Index number of the read DSM file = 24\n",
      "Index number of the read DSM file = 25\n",
      "Index number of the read DSM file = 26\n",
      "Index number of the read DSM file = 27\n",
      "Index number of the read DSM file = 28\n",
      "Index number of the read DSM file = 29\n",
      "CPU times: total: 47min 50s\n",
      "Wall time: 55min 37s\n"
     ]
    }
   ],
   "source": [
    "%%time\n",
    "# extractin .xyz files asspacited with the DTM and DSM data and convert them to geo-files and later concat them.\n",
    "\n",
    "# geodataframe containg DTM and DSM\n",
    "gdtm = gpd.GeoDataFrame(columns = ['x','y','z','geometry'], geometry = 'geometry')\n",
    "gdsm = gpd.GeoDataFrame(columns = ['x','y','z','geometry'], geometry = 'geometry')\n",
    "\n",
    "for dtm in dtmfiles: #dtmfiles[:1]\n",
    "    print('Index number of the read DTM file = ' + str(dtmfiles.index(dtm)))\n",
    "    df = []\n",
    "    df = pd.read_table(dtm, delim_whitespace=True, names=['x', 'y', 'z'])\n",
    "    gdtm = pd.concat([gdtm,\n",
    "                      gpd.GeoDataFrame(df, \n",
    "                                       crs = 'epsg:25832', \n",
    "                                       geometry = gpd.points_from_xy(df.x,df.y))], \n",
    "                     ignore_index=True)\n",
    "\n",
    "for dsm in dsmfiles:\n",
    "    print('Index number of the read DSM file = ' + str(dsmfiles.index(dsm)))\n",
    "    df = []\n",
    "    df = pd.read_table(dsm, delim_whitespace=True, names=['x', 'y', 'z'])\n",
    "    gdsm = pd.concat([gdsm,\n",
    "                      gpd.GeoDataFrame(df, \n",
    "                                       crs = 'epsg:25832', \n",
    "                                       geometry = gpd.points_from_xy(df.x,df.y))], \n",
    "                     ignore_index=True)\n",
    "\n",
    "# .buffer(1,cap_style = 3)"
   ]
  },
  {
   "cell_type": "markdown",
   "id": "e124d295",
   "metadata": {},
   "source": [
    "#### Extraction of building geometries from openstreetmap"
   ]
  },
  {
   "cell_type": "code",
   "execution_count": 5,
   "id": "a8f53443",
   "metadata": {},
   "outputs": [
    {
     "name": "stdout",
     "output_type": "stream",
     "text": [
      "CPU times: total: 35.3 s\n",
      "Wall time: 36 s\n"
     ]
    }
   ],
   "source": [
    "%%time\n",
    "# Setting a boundary box for the city of Halle in Germany\n",
    "south, east, north, west = [51.3617,12.2793,51.5837,11.6651]\n",
    "\n",
    "# Extracting data associated with building\n",
    "buildings = ox.geometries_from_bbox(north, south, east, west, tags = {'building': True})\n",
    "\n",
    "# attributes of interest associated with buildings\n",
    "bcols = ['geometry', 'building', 'building:levels']\n",
    "bdata = buildings[bcols]\n",
    "\n",
    "# extracting only polygon geometries for buildigns\n",
    "bdata = bdata[bdata['geometry'].geom_type == 'Polygon']"
   ]
  },
  {
   "cell_type": "markdown",
   "id": "adc1b4ac",
   "metadata": {},
   "source": [
    "#### Carrying out a series of GIS processing"
   ]
  },
  {
   "cell_type": "code",
   "execution_count": 6,
   "id": "62678461",
   "metadata": {},
   "outputs": [
    {
     "name": "stderr",
     "output_type": "stream",
     "text": [
      "<timed exec>:15: FutureWarning: Setting geometries to a GeoDataFrame without a geometry column will currently preserve the CRS, if present. This is deprecated, and in the future the CRS will be lost in this case. You can use set_crs(..) on the result to set the CRS manually.\n",
      "<timed exec>:15: FutureWarning: Setting geometries to a GeoDataFrame without a geometry column will currently preserve the CRS, if present. This is deprecated, and in the future the CRS will be lost in this case. You can use set_crs(..) on the result to set the CRS manually.\n"
     ]
    },
    {
     "name": "stdout",
     "output_type": "stream",
     "text": [
      "CPU times: total: 1h 57min 36s\n",
      "Wall time: 2h 11min 26s\n"
     ]
    }
   ],
   "source": [
    "%%time\n",
    "# droping DTM and DSM points that are not overlaying with building geometry\n",
    "# converting decimal degree to meter via \".to_crs(epsg=3763)\"\n",
    "for i in ['gdtm','gdsm']:\n",
    "    locals()['b_'+i] = gpd.overlay(bdata.to_crs(epsg=25832).reset_index(),\n",
    "                                   locals()[i].set_crs(epsg=25832), \n",
    "                                   how='intersection',\n",
    "                                   keep_geom_type=False)\n",
    "\n",
    "# buffering (2-by-2 meter) remaining points from the previous transformer that are within the geometry of buildings\n",
    "for i in ['b_gdtm','b_gdsm']:\n",
    "    dum = []\n",
    "    dum = locals()[i].copy()\n",
    "    \n",
    "    del dum['geometry']\n",
    "    dum['geometry'] = Polygon([(0, 0), (0, 0), (0, 0)])\n",
    "    dum['geometry'] = locals()[i].buffer(1,cap_style = 3)\n",
    "    locals()['b'+i] = dum\n",
    "\n",
    "# filltering out buffered points that are not 100% within the building geometry\n",
    "for i in ['bb_gdtm','bb_gdsm']:\n",
    "    \n",
    "    dum = []\n",
    "    dum = gpd.overlay(bdata.to_crs(epsg=25832).reset_index(),\n",
    "                      locals()[i][['x','y','z','geometry']],\n",
    "                      how='intersection',\n",
    "                      keep_geom_type=False)\n",
    "    \n",
    "    locals()['bbw'+i[-5:]] = dum[dum.area == 4]\n",
    "\n",
    "\n",
    "# intersecting DTM and DSM\n",
    "dem = gpd.overlay(bbw_gdtm[['osmid','building','building:levels','x','y','z','geometry']],\n",
    "                  bbw_gdsm[['z','geometry']],\n",
    "                  how='intersection',\n",
    "                  keep_geom_type=False)\n",
    "\n",
    "# calculating the difference \n",
    "dem['z_meter'] = (dem['z_2']-dem['z_1']).astype(float)"
   ]
  },
  {
   "cell_type": "markdown",
   "id": "a4531729",
   "metadata": {},
   "source": [
    "#### Estimation of building height\n",
    "In this approach, the created DEM file is grouped by building's 'OSM ID's and then mean, median, min, and max are calculated."
   ]
  },
  {
   "cell_type": "code",
   "execution_count": 8,
   "id": "8cb99dc1",
   "metadata": {
    "scrolled": true
   },
   "outputs": [
    {
     "name": "stderr",
     "output_type": "stream",
     "text": [
      "<>:1: DeprecationWarning: invalid escape sequence '\\F'\n",
      "<>:1: DeprecationWarning: invalid escape sequence '\\F'\n",
      "C:\\Users\\beb\\AppData\\Local\\Temp\\ipykernel_19584\\4135358725.py:1: DeprecationWarning: invalid escape sequence '\\F'\n",
      "  save_dir = 'doc\\FAIRiCUBE\\WP2\\data\\DEM_halle'\n"
     ]
    }
   ],
   "source": [
    "save_dir = 'doc\\FAIRiCUBE\\WP2\\data\\DEM_halle'\n",
    "\n",
    "# dissolving the created \"dem\" dataframe by DTM x and y \n",
    "dem_diss_b = dem.dissolve(by=['osmid', 'building'], \n",
    "                        aggfunc = {'z_meter': 'mean'\n",
    "                                  })\n",
    "\n",
    "# save as shapefile\n",
    "dem_diss_b.to_file(os.path.join(upath , save_dir, 'dem_diss_b.shp'))"
   ]
  },
  {
   "cell_type": "markdown",
   "id": "1cb099d3",
   "metadata": {},
   "source": [
    "#### CUBE representation of DEM  (creating a raster file using DTM as the reference geometry)\n",
    "In this approach, the created DEM file is grouped by DTM's 'x' and 'y' coordinates and later the mean of heights associated with DTM and DSM are calculated. NB. here, CUBEs that are not 2-by-2 are filtered out."
   ]
  },
  {
   "cell_type": "code",
   "execution_count": 9,
   "id": "a64e6471",
   "metadata": {},
   "outputs": [],
   "source": [
    "# dissolving the created \"dem\" dataframe by DTM x and y \n",
    "dem_diss_c = dem.dissolve(by=['x','y'], \n",
    "                          aggfunc = {'osmid': 'mean',\n",
    "                                     'building': 'first',\n",
    "                                     'z_1': 'mean',\n",
    "                                     'z_2': 'mean',\n",
    "                                     'z_meter': 'mean'\n",
    "                                    })\n",
    "# rename some columns\n",
    "dem_diss_c = dem_diss_c.rename(columns = {'z_1':'z_terrain',\n",
    "                                          'z_2': 'z_surface'})\n",
    "\n",
    "\n",
    "\n",
    "# save as shapefile\n",
    "dem_diss_c.to_file(os.path.join(upath , save_dir, 'dem_diss_c.shp'))"
   ]
  },
  {
   "cell_type": "code",
   "execution_count": null,
   "id": "69fed885",
   "metadata": {},
   "outputs": [],
   "source": []
  },
  {
   "cell_type": "code",
   "execution_count": null,
   "id": "262dfc91",
   "metadata": {},
   "outputs": [],
   "source": []
  },
  {
   "cell_type": "code",
   "execution_count": null,
   "id": "d489baf1",
   "metadata": {},
   "outputs": [],
   "source": []
  }
 ],
 "metadata": {
  "kernelspec": {
   "display_name": "py10",
   "language": "python",
   "name": "py10"
  },
  "language_info": {
   "codemirror_mode": {
    "name": "ipython",
    "version": 3
   },
   "file_extension": ".py",
   "mimetype": "text/x-python",
   "name": "python",
   "nbconvert_exporter": "python",
   "pygments_lexer": "ipython3",
   "version": "3.10.4"
  }
 },
 "nbformat": 4,
 "nbformat_minor": 5
}
