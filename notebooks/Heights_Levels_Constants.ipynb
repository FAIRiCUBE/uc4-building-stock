{
 "cells": [
  {
   "cell_type": "markdown",
   "id": "72366c0b",
   "metadata": {},
   "source": [
    "# Compute heights using number of levels times some selceted constant"
   ]
  },
  {
   "cell_type": "markdown",
   "id": "04b4a6ec",
   "metadata": {},
   "source": [
    "According to [1] the most used constants as level heights are between 2.8m and 3.5m, but we tried more (from 2.4m to 4.3m).\n",
    "Before testing any constant, we first try the average of level heights as a potential constant (which we learn from available data, i.e., divide height by number of levels and then return the average).\n",
    "\n",
    "[1] Biljecki, Filip, Hugo Ledoux, and Jantien Stoter. \"Generating 3D city models without elevation data.\" Computers, Environment and Urban Systems 64 (2017): 1-18."
   ]
  },
  {
   "cell_type": "markdown",
   "id": "f0cd2a2a",
   "metadata": {},
   "source": [
    "### Import data from Open Street Map using boundaries of the selected German city (HALLE):\n",
    "Boundaries --> https://www.openstreetmap.org/export#map=12/51.4729/11.9724&layers=D"
   ]
  },
  {
   "cell_type": "code",
   "execution_count": 1,
   "id": "e53fb878",
   "metadata": {},
   "outputs": [
    {
     "name": "stderr",
     "output_type": "stream",
     "text": [
      "C:\\Users\\bbel\\AppData\\Local\\Programs\\Python\\Python39\\lib\\site-packages\\geopandas\\_compat.py:112: UserWarning: The Shapely GEOS version (3.10.1-CAPI-1.16.0) is incompatible with the GEOS version PyGEOS was compiled with (3.10.3-CAPI-1.16.1). Conversions between both will be slow.\n",
      "  warnings.warn(\n"
     ]
    },
    {
     "data": {
      "text/html": [
       "<div>\n",
       "<style scoped>\n",
       "    .dataframe tbody tr th:only-of-type {\n",
       "        vertical-align: middle;\n",
       "    }\n",
       "\n",
       "    .dataframe tbody tr th {\n",
       "        vertical-align: top;\n",
       "    }\n",
       "\n",
       "    .dataframe thead th {\n",
       "        text-align: right;\n",
       "    }\n",
       "</style>\n",
       "<table border=\"1\" class=\"dataframe\">\n",
       "  <thead>\n",
       "    <tr style=\"text-align: right;\">\n",
       "      <th></th>\n",
       "      <th></th>\n",
       "      <th>entrance</th>\n",
       "      <th>geometry</th>\n",
       "      <th>wheelchair</th>\n",
       "      <th>amenity</th>\n",
       "      <th>height</th>\n",
       "      <th>width</th>\n",
       "      <th>level</th>\n",
       "      <th>created_by</th>\n",
       "      <th>access</th>\n",
       "      <th>barrier</th>\n",
       "      <th>...</th>\n",
       "      <th>depth</th>\n",
       "      <th>resource</th>\n",
       "      <th>ways</th>\n",
       "      <th>old_name2</th>\n",
       "      <th>monument:genesis</th>\n",
       "      <th>ebusinesslotse</th>\n",
       "      <th>ebusinesslotse:profil</th>\n",
       "      <th>ebusinesslotse:role</th>\n",
       "      <th>ebusinesslotse:url</th>\n",
       "      <th>rail</th>\n",
       "    </tr>\n",
       "    <tr>\n",
       "      <th>element_type</th>\n",
       "      <th>osmid</th>\n",
       "      <th></th>\n",
       "      <th></th>\n",
       "      <th></th>\n",
       "      <th></th>\n",
       "      <th></th>\n",
       "      <th></th>\n",
       "      <th></th>\n",
       "      <th></th>\n",
       "      <th></th>\n",
       "      <th></th>\n",
       "      <th></th>\n",
       "      <th></th>\n",
       "      <th></th>\n",
       "      <th></th>\n",
       "      <th></th>\n",
       "      <th></th>\n",
       "      <th></th>\n",
       "      <th></th>\n",
       "      <th></th>\n",
       "      <th></th>\n",
       "      <th></th>\n",
       "    </tr>\n",
       "  </thead>\n",
       "  <tbody>\n",
       "    <tr>\n",
       "      <th rowspan=\"5\" valign=\"top\">node</th>\n",
       "      <th>288798170</th>\n",
       "      <td>NaN</td>\n",
       "      <td>POINT (12.09269 51.38702)</td>\n",
       "      <td>no</td>\n",
       "      <td>NaN</td>\n",
       "      <td>15</td>\n",
       "      <td>NaN</td>\n",
       "      <td>NaN</td>\n",
       "      <td>NaN</td>\n",
       "      <td>NaN</td>\n",
       "      <td>NaN</td>\n",
       "      <td>...</td>\n",
       "      <td>NaN</td>\n",
       "      <td>NaN</td>\n",
       "      <td>NaN</td>\n",
       "      <td>NaN</td>\n",
       "      <td>NaN</td>\n",
       "      <td>NaN</td>\n",
       "      <td>NaN</td>\n",
       "      <td>NaN</td>\n",
       "      <td>NaN</td>\n",
       "      <td>NaN</td>\n",
       "    </tr>\n",
       "    <tr>\n",
       "      <th>415265417</th>\n",
       "      <td>NaN</td>\n",
       "      <td>POINT (12.31967 51.37029)</td>\n",
       "      <td>yes</td>\n",
       "      <td>NaN</td>\n",
       "      <td>NaN</td>\n",
       "      <td>NaN</td>\n",
       "      <td>NaN</td>\n",
       "      <td>NaN</td>\n",
       "      <td>NaN</td>\n",
       "      <td>NaN</td>\n",
       "      <td>...</td>\n",
       "      <td>NaN</td>\n",
       "      <td>NaN</td>\n",
       "      <td>NaN</td>\n",
       "      <td>NaN</td>\n",
       "      <td>NaN</td>\n",
       "      <td>NaN</td>\n",
       "      <td>NaN</td>\n",
       "      <td>NaN</td>\n",
       "      <td>NaN</td>\n",
       "      <td>NaN</td>\n",
       "    </tr>\n",
       "    <tr>\n",
       "      <th>442150170</th>\n",
       "      <td>NaN</td>\n",
       "      <td>POINT (11.52240 51.51803)</td>\n",
       "      <td>NaN</td>\n",
       "      <td>NaN</td>\n",
       "      <td>NaN</td>\n",
       "      <td>NaN</td>\n",
       "      <td>NaN</td>\n",
       "      <td>NaN</td>\n",
       "      <td>NaN</td>\n",
       "      <td>NaN</td>\n",
       "      <td>...</td>\n",
       "      <td>NaN</td>\n",
       "      <td>NaN</td>\n",
       "      <td>NaN</td>\n",
       "      <td>NaN</td>\n",
       "      <td>NaN</td>\n",
       "      <td>NaN</td>\n",
       "      <td>NaN</td>\n",
       "      <td>NaN</td>\n",
       "      <td>NaN</td>\n",
       "      <td>NaN</td>\n",
       "    </tr>\n",
       "    <tr>\n",
       "      <th>502399091</th>\n",
       "      <td>NaN</td>\n",
       "      <td>POINT (11.72556 51.49072)</td>\n",
       "      <td>NaN</td>\n",
       "      <td>restaurant</td>\n",
       "      <td>NaN</td>\n",
       "      <td>NaN</td>\n",
       "      <td>NaN</td>\n",
       "      <td>NaN</td>\n",
       "      <td>NaN</td>\n",
       "      <td>NaN</td>\n",
       "      <td>...</td>\n",
       "      <td>NaN</td>\n",
       "      <td>NaN</td>\n",
       "      <td>NaN</td>\n",
       "      <td>NaN</td>\n",
       "      <td>NaN</td>\n",
       "      <td>NaN</td>\n",
       "      <td>NaN</td>\n",
       "      <td>NaN</td>\n",
       "      <td>NaN</td>\n",
       "      <td>NaN</td>\n",
       "    </tr>\n",
       "    <tr>\n",
       "      <th>918346410</th>\n",
       "      <td>NaN</td>\n",
       "      <td>POINT (12.33702 51.37445)</td>\n",
       "      <td>NaN</td>\n",
       "      <td>NaN</td>\n",
       "      <td>NaN</td>\n",
       "      <td>NaN</td>\n",
       "      <td>NaN</td>\n",
       "      <td>NaN</td>\n",
       "      <td>NaN</td>\n",
       "      <td>fence</td>\n",
       "      <td>...</td>\n",
       "      <td>NaN</td>\n",
       "      <td>NaN</td>\n",
       "      <td>NaN</td>\n",
       "      <td>NaN</td>\n",
       "      <td>NaN</td>\n",
       "      <td>NaN</td>\n",
       "      <td>NaN</td>\n",
       "      <td>NaN</td>\n",
       "      <td>NaN</td>\n",
       "      <td>NaN</td>\n",
       "    </tr>\n",
       "  </tbody>\n",
       "</table>\n",
       "<p>5 rows × 634 columns</p>\n",
       "</div>"
      ],
      "text/plain": [
       "                       entrance                   geometry wheelchair  \\\n",
       "element_type osmid                                                      \n",
       "node         288798170      NaN  POINT (12.09269 51.38702)         no   \n",
       "             415265417      NaN  POINT (12.31967 51.37029)        yes   \n",
       "             442150170      NaN  POINT (11.52240 51.51803)        NaN   \n",
       "             502399091      NaN  POINT (11.72556 51.49072)        NaN   \n",
       "             918346410      NaN  POINT (12.33702 51.37445)        NaN   \n",
       "\n",
       "                           amenity height width level created_by access  \\\n",
       "element_type osmid                                                        \n",
       "node         288798170         NaN     15   NaN   NaN        NaN    NaN   \n",
       "             415265417         NaN    NaN   NaN   NaN        NaN    NaN   \n",
       "             442150170         NaN    NaN   NaN   NaN        NaN    NaN   \n",
       "             502399091  restaurant    NaN   NaN   NaN        NaN    NaN   \n",
       "             918346410         NaN    NaN   NaN   NaN        NaN    NaN   \n",
       "\n",
       "                       barrier  ... depth resource ways old_name2  \\\n",
       "element_type osmid              ...                                 \n",
       "node         288798170     NaN  ...   NaN      NaN  NaN       NaN   \n",
       "             415265417     NaN  ...   NaN      NaN  NaN       NaN   \n",
       "             442150170     NaN  ...   NaN      NaN  NaN       NaN   \n",
       "             502399091     NaN  ...   NaN      NaN  NaN       NaN   \n",
       "             918346410   fence  ...   NaN      NaN  NaN       NaN   \n",
       "\n",
       "                       monument:genesis ebusinesslotse ebusinesslotse:profil  \\\n",
       "element_type osmid                                                             \n",
       "node         288798170              NaN            NaN                   NaN   \n",
       "             415265417              NaN            NaN                   NaN   \n",
       "             442150170              NaN            NaN                   NaN   \n",
       "             502399091              NaN            NaN                   NaN   \n",
       "             918346410              NaN            NaN                   NaN   \n",
       "\n",
       "                       ebusinesslotse:role ebusinesslotse:url rail  \n",
       "element_type osmid                                                  \n",
       "node         288798170                 NaN                NaN  NaN  \n",
       "             415265417                 NaN                NaN  NaN  \n",
       "             442150170                 NaN                NaN  NaN  \n",
       "             502399091                 NaN                NaN  NaN  \n",
       "             918346410                 NaN                NaN  NaN  \n",
       "\n",
       "[5 rows x 634 columns]"
      ]
     },
     "execution_count": 1,
     "metadata": {},
     "output_type": "execute_result"
    }
   ],
   "source": [
    "import math\n",
    "import numpy as np\n",
    "import osmnx as ox\n",
    "import utm\n",
    "from typing import List\n",
    "\n",
    "south, east, north, west = 51.3435, 12.5023, 51.6020, 11.4419\n",
    "\n",
    "#Get building data from open street map.\n",
    "buildings = ox.geometries_from_bbox(north, south, east, west, tags={'building': True})\n",
    "\n",
    "data = buildings\n",
    "data.head()"
   ]
  },
  {
   "cell_type": "markdown",
   "id": "999dc4d5",
   "metadata": {},
   "source": [
    "### Statistics"
   ]
  },
  {
   "cell_type": "code",
   "execution_count": 2,
   "id": "5398fb31",
   "metadata": {},
   "outputs": [
    {
     "name": "stdout",
     "output_type": "stream",
     "text": [
      "Number of buildings:  233680\n",
      "Available Heights:  1282 ( 0.5486134885313249 %)\n",
      "Available Levels:  20136 ( 8.616912016432728 %)\n",
      "Available Heights & Levels:  853 ( 0.3650290996234166 %)\n"
     ]
    }
   ],
   "source": [
    "size = len(data)\n",
    "heights = len(data[~data['height'].isna()])\n",
    "levels = len(data[~data['building:levels'].isna()])\n",
    "heights_levels = len(data[~data['building:levels'].isna() & ~data['height'].isna()])\n",
    "print(\"Number of buildings: \", size)\n",
    "print(\"Available Heights: \", heights, \"(\", 100*heights/size,\"%)\")\n",
    "print(\"Available Levels: \", levels, \"(\", 100*levels/size,\"%)\")\n",
    "print(\"Available Heights & Levels: \", heights_levels, \"(\", 100*heights_levels/size,\"%)\")"
   ]
  },
  {
   "cell_type": "markdown",
   "id": "4a136103",
   "metadata": {},
   "source": [
    " ### Convert building levels from String to Float\n",
    "Problem: it depends on the region/language, e.g., RC means level 0 in French"
   ]
  },
  {
   "cell_type": "code",
   "execution_count": 3,
   "id": "41138a34",
   "metadata": {},
   "outputs": [
    {
     "name": "stderr",
     "output_type": "stream",
     "text": [
      "C:\\Users\\bbel\\AppData\\Local\\Temp\\ipykernel_24020\\2464060021.py:4: FutureWarning: The default value of regex will change from True to False in a future version.\n",
      "  data['building:levels'] = data['building:levels'].str.replace('Erdgeschoss und 2. Etage', '2')\n"
     ]
    }
   ],
   "source": [
    "data['building:levels'] = data['building:levels'].str.replace(';', '')\n",
    "data['building:levels'] = data['building:levels'].str.replace(',', '')\n",
    "data['building:levels'] = data['building:levels'].str.replace('RC', '0')\n",
    "data['building:levels'] = data['building:levels'].str.replace('Erdgeschoss und 2. Etage', '2')\n",
    "data['building:levels'] = data['building:levels'].str.replace('s', '0')\n",
    "data['building:levels'] = data['building:levels'].str.replace('3 - 4', '4').astype(float)"
   ]
  },
  {
   "cell_type": "markdown",
   "id": "e8746018",
   "metadata": {},
   "source": [
    "### Convert height from String to Float"
   ]
  },
  {
   "cell_type": "code",
   "execution_count": 4,
   "id": "300c7fb6",
   "metadata": {},
   "outputs": [],
   "source": [
    "data['height'] = data['height'].str.replace(',', '.')\n",
    "data['height'] = data['height'].str.replace('~', '')\n",
    "data['height'] = data['height'].str.replace('m', '').astype(float)"
   ]
  },
  {
   "cell_type": "markdown",
   "id": "49475f05",
   "metadata": {},
   "source": [
    "### Update the number of levels\n",
    "For most countries ground floor = 0 --> increment number of floors by 1"
   ]
  },
  {
   "cell_type": "code",
   "execution_count": 5,
   "id": "ca9f9a15",
   "metadata": {},
   "outputs": [],
   "source": [
    "data['building:levels'] = data['building:levels'] + 1"
   ]
  },
  {
   "cell_type": "markdown",
   "id": "fb94e1e3",
   "metadata": {},
   "source": [
    "### Compute level height using available data"
   ]
  },
  {
   "cell_type": "code",
   "execution_count": 6,
   "id": "c46de68a",
   "metadata": {},
   "outputs": [],
   "source": [
    "data['LevelHeight'] = data['height'] / data['building:levels']"
   ]
  },
  {
   "cell_type": "markdown",
   "id": "dd69e53f",
   "metadata": {},
   "source": [
    "### Find the optimal constant, for which the error is minimized\n",
    "MAE: Mean Absolute Error\n",
    "\n",
    "RMSE: Root Mean Squared Error"
   ]
  },
  {
   "cell_type": "code",
   "execution_count": 7,
   "id": "5333a1e3",
   "metadata": {},
   "outputs": [
    {
     "name": "stdout",
     "output_type": "stream",
     "text": [
      "------------------------*MEAN-----------------------------\n",
      "Constant:  2.5063137845994206 m\n",
      "MAE:  3.0408470177789217 m\n",
      "RMSE:  4.328916005595225 m\n",
      "Min:  0.012627569198841115\n",
      "Max:  38.96211729240348\n",
      "------------------------OPT-----------------------------\n",
      "Constant:  3.0000000000000018 m\n",
      "MAE:  2.7162016412661205 m\n",
      "RMSE:  3.4456847981234073 m\n"
     ]
    }
   ],
   "source": [
    "#First constant: Compute height using the mean as constant\n",
    "data['heightComputed'] = data['building:levels'] * data['LevelHeight'].mean()\n",
    "data['Distance'] = abs(data['height'] - data['heightComputed'])\n",
    "data['Distance*2'] = (data['height'] - data['heightComputed']) ** 2\n",
    "subData = data[~data['Distance'].isna()]\n",
    "print('------------------------*MEAN-----------------------------')\n",
    "error = subData['Distance'].sum() / len(subData)\n",
    "error2 = math.sqrt(subData['Distance*2'].sum() / len(subData))\n",
    "print('Constant: ', data['LevelHeight'].mean(), 'm')\n",
    "print('MAE: ', error, 'm')\n",
    "print('RMSE: ', error2, 'm')\n",
    "print('Min: ', subData['Distance'].min())\n",
    "print('Max: ', subData['Distance'].max())\n",
    "\n",
    "#Height = Constant* Building:levels\n",
    "constant = 1.0\n",
    "Optconstant = data['LevelHeight'].mean()\n",
    "OptError = error\n",
    "OptError2 = error2\n",
    "# Try 50 constants and select the one that yields the best Mean Absolute Error\n",
    "for i in range(50):\n",
    "    data['heightComputed'] = data['building:levels'] * constant\n",
    "    data['Distance'] = abs(data['height'] - data['heightComputed'])\n",
    "    data['Distance*2'] = (data['height'] - data['heightComputed'])**2\n",
    "    subData = data[~data['Distance'].isna()]\n",
    "\n",
    "    error = subData['Distance'].sum() / len(subData)\n",
    "    error2 = math.sqrt(subData['Distance*2'].sum() / len(subData))\n",
    "    if error < OptError:\n",
    "        OptError = error\n",
    "        Optconstant = constant\n",
    "        OptError2 = error2\n",
    "    constant = constant + 0.1\n",
    "\n",
    "print('------------------------OPT-----------------------------')\n",
    "print('Constant: ', Optconstant, 'm')\n",
    "print('MAE: ', OptError, 'm')\n",
    "print('RMSE: ', OptError2, 'm')"
   ]
  },
  {
   "cell_type": "markdown",
   "id": "bec8c5bc",
   "metadata": {},
   "source": [
    "### Use the optimal constant to compute building heights\n",
    "Probelm: we have only 8% of buildings with available heights, these are the only on which we can compute hights  "
   ]
  },
  {
   "cell_type": "code",
   "execution_count": 8,
   "id": "b6dd9f3b",
   "metadata": {},
   "outputs": [],
   "source": [
    "data['heightComputed'] = data['building:levels'] * Optconstant"
   ]
  },
  {
   "cell_type": "code",
   "execution_count": 9,
   "id": "24d1e74b",
   "metadata": {},
   "outputs": [
    {
     "data": {
      "text/plain": [
       "20136"
      ]
     },
     "execution_count": 9,
     "metadata": {},
     "output_type": "execute_result"
    }
   ],
   "source": [
    "len(data[~data['heightComputed'].isna()])"
   ]
  },
  {
   "cell_type": "markdown",
   "id": "4ba88a83",
   "metadata": {},
   "source": [
    "### Clip into the administrative boundary"
   ]
  },
  {
   "cell_type": "code",
   "execution_count": 10,
   "id": "453b3c2c",
   "metadata": {},
   "outputs": [],
   "source": [
    "import geopandas as gpd\n",
    "border = gpd.read_file('halle.geojson')\n",
    "final = gpd.clip(data, border)"
   ]
  },
  {
   "cell_type": "markdown",
   "id": "a582ad6f",
   "metadata": {},
   "source": [
    "### Save into a GeoJason file as vector data "
   ]
  },
  {
   "cell_type": "code",
   "execution_count": 11,
   "id": "b6acee41",
   "metadata": {},
   "outputs": [],
   "source": [
    "cols = ['geometry', 'building', 'building:levels', 'height', 'heightComputed'] \n",
    "final = final[cols]\n",
    "with open('halle_method1.geojson' , 'w') as file:\n",
    "    file.write(final.to_json())  "
   ]
  },
  {
   "cell_type": "code",
   "execution_count": 12,
   "id": "0e39ee60",
   "metadata": {},
   "outputs": [
    {
     "data": {
      "text/plain": [
       "<AxesSubplot: >"
      ]
     },
     "execution_count": 12,
     "metadata": {},
     "output_type": "execute_result"
    },
    {
     "data": {
      "image/png": "[encoded data removed]",
      "text/plain": [
       "<Figure size 640x480 with 1 Axes>"
      ]
     },
     "metadata": {},
     "output_type": "display_data"
    }
   ],
   "source": [
    "final.plot()"
   ]
  },
  {
   "cell_type": "markdown",
   "id": "dd8866b9",
   "metadata": {},
   "source": [
    "### Stats"
   ]
  },
  {
   "cell_type": "code",
   "execution_count": 13,
   "id": "2ccfffb5",
   "metadata": {},
   "outputs": [
    {
     "name": "stdout",
     "output_type": "stream",
     "text": [
      "Number of buildings:  40636\n",
      "Computed heights:  8440\n"
     ]
    }
   ],
   "source": [
    "print(\"Number of buildings: \", len(final))\n",
    "print(\"Computed heights: \", len(final[~final['heightComputed'].isna()])) "
   ]
  },
  {
   "cell_type": "code",
   "execution_count": 17,
   "id": "c020f9e6",
   "metadata": {},
   "outputs": [
    {
     "data": {
      "text/html": [
       "<div>\n",
       "<style scoped>\n",
       "    .dataframe tbody tr th:only-of-type {\n",
       "        vertical-align: middle;\n",
       "    }\n",
       "\n",
       "    .dataframe tbody tr th {\n",
       "        vertical-align: top;\n",
       "    }\n",
       "\n",
       "    .dataframe thead th {\n",
       "        text-align: right;\n",
       "    }\n",
       "</style>\n",
       "<table border=\"1\" class=\"dataframe\">\n",
       "  <thead>\n",
       "    <tr style=\"text-align: right;\">\n",
       "      <th></th>\n",
       "      <th></th>\n",
       "      <th>geometry</th>\n",
       "      <th>building</th>\n",
       "      <th>building:levels</th>\n",
       "      <th>height</th>\n",
       "      <th>heightComputed</th>\n",
       "    </tr>\n",
       "    <tr>\n",
       "      <th>element_type</th>\n",
       "      <th>osmid</th>\n",
       "      <th></th>\n",
       "      <th></th>\n",
       "      <th></th>\n",
       "      <th></th>\n",
       "      <th></th>\n",
       "    </tr>\n",
       "  </thead>\n",
       "  <tbody>\n",
       "    <tr>\n",
       "      <th rowspan=\"5\" valign=\"top\">way</th>\n",
       "      <th>171862503</th>\n",
       "      <td>POLYGON ((11.97736 51.42796, 11.97744 51.42793...</td>\n",
       "      <td>yes</td>\n",
       "      <td>NaN</td>\n",
       "      <td>NaN</td>\n",
       "      <td>NaN</td>\n",
       "    </tr>\n",
       "    <tr>\n",
       "      <th>171862477</th>\n",
       "      <td>POLYGON ((11.97698 51.42797, 11.97695 51.42794...</td>\n",
       "      <td>yes</td>\n",
       "      <td>NaN</td>\n",
       "      <td>NaN</td>\n",
       "      <td>NaN</td>\n",
       "    </tr>\n",
       "    <tr>\n",
       "      <th>171862465</th>\n",
       "      <td>POLYGON ((11.97703 51.42804, 11.97712 51.42802...</td>\n",
       "      <td>yes</td>\n",
       "      <td>NaN</td>\n",
       "      <td>NaN</td>\n",
       "      <td>NaN</td>\n",
       "    </tr>\n",
       "    <tr>\n",
       "      <th>171862496</th>\n",
       "      <td>POLYGON ((11.97694 51.42807, 11.97703 51.42804...</td>\n",
       "      <td>yes</td>\n",
       "      <td>NaN</td>\n",
       "      <td>NaN</td>\n",
       "      <td>NaN</td>\n",
       "    </tr>\n",
       "    <tr>\n",
       "      <th>171862489</th>\n",
       "      <td>POLYGON ((11.97673 51.42813, 11.97682 51.42810...</td>\n",
       "      <td>yes</td>\n",
       "      <td>NaN</td>\n",
       "      <td>NaN</td>\n",
       "      <td>NaN</td>\n",
       "    </tr>\n",
       "  </tbody>\n",
       "</table>\n",
       "</div>"
      ],
      "text/plain": [
       "                                                                 geometry  \\\n",
       "element_type osmid                                                          \n",
       "way          171862503  POLYGON ((11.97736 51.42796, 11.97744 51.42793...   \n",
       "             171862477  POLYGON ((11.97698 51.42797, 11.97695 51.42794...   \n",
       "             171862465  POLYGON ((11.97703 51.42804, 11.97712 51.42802...   \n",
       "             171862496  POLYGON ((11.97694 51.42807, 11.97703 51.42804...   \n",
       "             171862489  POLYGON ((11.97673 51.42813, 11.97682 51.42810...   \n",
       "\n",
       "                       building  building:levels  height  heightComputed  \n",
       "element_type osmid                                                        \n",
       "way          171862503      yes              NaN     NaN             NaN  \n",
       "             171862477      yes              NaN     NaN             NaN  \n",
       "             171862465      yes              NaN     NaN             NaN  \n",
       "             171862496      yes              NaN     NaN             NaN  \n",
       "             171862489      yes              NaN     NaN             NaN  "
      ]
     },
     "execution_count": 17,
     "metadata": {},
     "output_type": "execute_result"
    }
   ],
   "source": [
    "final.head()"
   ]
  },
  {
   "cell_type": "code",
   "execution_count": 18,
   "id": "41a497e0",
   "metadata": {},
   "outputs": [
    {
     "data": {
      "text/html": [
       "<div>\n",
       "<style scoped>\n",
       "    .dataframe tbody tr th:only-of-type {\n",
       "        vertical-align: middle;\n",
       "    }\n",
       "\n",
       "    .dataframe tbody tr th {\n",
       "        vertical-align: top;\n",
       "    }\n",
       "\n",
       "    .dataframe thead th {\n",
       "        text-align: right;\n",
       "    }\n",
       "</style>\n",
       "<table border=\"1\" class=\"dataframe\">\n",
       "  <thead>\n",
       "    <tr style=\"text-align: right;\">\n",
       "      <th></th>\n",
       "      <th></th>\n",
       "      <th>entrance</th>\n",
       "      <th>geometry</th>\n",
       "      <th>wheelchair</th>\n",
       "      <th>amenity</th>\n",
       "      <th>height</th>\n",
       "      <th>width</th>\n",
       "      <th>level</th>\n",
       "      <th>created_by</th>\n",
       "      <th>access</th>\n",
       "      <th>barrier</th>\n",
       "      <th>...</th>\n",
       "      <th>monument:genesis</th>\n",
       "      <th>ebusinesslotse</th>\n",
       "      <th>ebusinesslotse:profil</th>\n",
       "      <th>ebusinesslotse:role</th>\n",
       "      <th>ebusinesslotse:url</th>\n",
       "      <th>rail</th>\n",
       "      <th>LevelHeight</th>\n",
       "      <th>heightComputed</th>\n",
       "      <th>Distance</th>\n",
       "      <th>Distance*2</th>\n",
       "    </tr>\n",
       "    <tr>\n",
       "      <th>element_type</th>\n",
       "      <th>osmid</th>\n",
       "      <th></th>\n",
       "      <th></th>\n",
       "      <th></th>\n",
       "      <th></th>\n",
       "      <th></th>\n",
       "      <th></th>\n",
       "      <th></th>\n",
       "      <th></th>\n",
       "      <th></th>\n",
       "      <th></th>\n",
       "      <th></th>\n",
       "      <th></th>\n",
       "      <th></th>\n",
       "      <th></th>\n",
       "      <th></th>\n",
       "      <th></th>\n",
       "      <th></th>\n",
       "      <th></th>\n",
       "      <th></th>\n",
       "      <th></th>\n",
       "      <th></th>\n",
       "    </tr>\n",
       "  </thead>\n",
       "  <tbody>\n",
       "    <tr>\n",
       "      <th rowspan=\"5\" valign=\"top\">node</th>\n",
       "      <th>288798170</th>\n",
       "      <td>NaN</td>\n",
       "      <td>POINT (12.09269 51.38702)</td>\n",
       "      <td>no</td>\n",
       "      <td>NaN</td>\n",
       "      <td>15.0</td>\n",
       "      <td>NaN</td>\n",
       "      <td>NaN</td>\n",
       "      <td>NaN</td>\n",
       "      <td>NaN</td>\n",
       "      <td>NaN</td>\n",
       "      <td>...</td>\n",
       "      <td>NaN</td>\n",
       "      <td>NaN</td>\n",
       "      <td>NaN</td>\n",
       "      <td>NaN</td>\n",
       "      <td>NaN</td>\n",
       "      <td>NaN</td>\n",
       "      <td>NaN</td>\n",
       "      <td>NaN</td>\n",
       "      <td>NaN</td>\n",
       "      <td>NaN</td>\n",
       "    </tr>\n",
       "    <tr>\n",
       "      <th>415265417</th>\n",
       "      <td>NaN</td>\n",
       "      <td>POINT (12.31967 51.37029)</td>\n",
       "      <td>yes</td>\n",
       "      <td>NaN</td>\n",
       "      <td>NaN</td>\n",
       "      <td>NaN</td>\n",
       "      <td>NaN</td>\n",
       "      <td>NaN</td>\n",
       "      <td>NaN</td>\n",
       "      <td>NaN</td>\n",
       "      <td>...</td>\n",
       "      <td>NaN</td>\n",
       "      <td>NaN</td>\n",
       "      <td>NaN</td>\n",
       "      <td>NaN</td>\n",
       "      <td>NaN</td>\n",
       "      <td>NaN</td>\n",
       "      <td>NaN</td>\n",
       "      <td>NaN</td>\n",
       "      <td>NaN</td>\n",
       "      <td>NaN</td>\n",
       "    </tr>\n",
       "    <tr>\n",
       "      <th>442150170</th>\n",
       "      <td>NaN</td>\n",
       "      <td>POINT (11.52240 51.51803)</td>\n",
       "      <td>NaN</td>\n",
       "      <td>NaN</td>\n",
       "      <td>NaN</td>\n",
       "      <td>NaN</td>\n",
       "      <td>NaN</td>\n",
       "      <td>NaN</td>\n",
       "      <td>NaN</td>\n",
       "      <td>NaN</td>\n",
       "      <td>...</td>\n",
       "      <td>NaN</td>\n",
       "      <td>NaN</td>\n",
       "      <td>NaN</td>\n",
       "      <td>NaN</td>\n",
       "      <td>NaN</td>\n",
       "      <td>NaN</td>\n",
       "      <td>NaN</td>\n",
       "      <td>NaN</td>\n",
       "      <td>NaN</td>\n",
       "      <td>NaN</td>\n",
       "    </tr>\n",
       "    <tr>\n",
       "      <th>502399091</th>\n",
       "      <td>NaN</td>\n",
       "      <td>POINT (11.72556 51.49072)</td>\n",
       "      <td>NaN</td>\n",
       "      <td>restaurant</td>\n",
       "      <td>NaN</td>\n",
       "      <td>NaN</td>\n",
       "      <td>NaN</td>\n",
       "      <td>NaN</td>\n",
       "      <td>NaN</td>\n",
       "      <td>NaN</td>\n",
       "      <td>...</td>\n",
       "      <td>NaN</td>\n",
       "      <td>NaN</td>\n",
       "      <td>NaN</td>\n",
       "      <td>NaN</td>\n",
       "      <td>NaN</td>\n",
       "      <td>NaN</td>\n",
       "      <td>NaN</td>\n",
       "      <td>NaN</td>\n",
       "      <td>NaN</td>\n",
       "      <td>NaN</td>\n",
       "    </tr>\n",
       "    <tr>\n",
       "      <th>918346410</th>\n",
       "      <td>NaN</td>\n",
       "      <td>POINT (12.33702 51.37445)</td>\n",
       "      <td>NaN</td>\n",
       "      <td>NaN</td>\n",
       "      <td>NaN</td>\n",
       "      <td>NaN</td>\n",
       "      <td>NaN</td>\n",
       "      <td>NaN</td>\n",
       "      <td>NaN</td>\n",
       "      <td>fence</td>\n",
       "      <td>...</td>\n",
       "      <td>NaN</td>\n",
       "      <td>NaN</td>\n",
       "      <td>NaN</td>\n",
       "      <td>NaN</td>\n",
       "      <td>NaN</td>\n",
       "      <td>NaN</td>\n",
       "      <td>NaN</td>\n",
       "      <td>NaN</td>\n",
       "      <td>NaN</td>\n",
       "      <td>NaN</td>\n",
       "    </tr>\n",
       "  </tbody>\n",
       "</table>\n",
       "<p>5 rows × 638 columns</p>\n",
       "</div>"
      ],
      "text/plain": [
       "                       entrance                   geometry wheelchair  \\\n",
       "element_type osmid                                                      \n",
       "node         288798170      NaN  POINT (12.09269 51.38702)         no   \n",
       "             415265417      NaN  POINT (12.31967 51.37029)        yes   \n",
       "             442150170      NaN  POINT (11.52240 51.51803)        NaN   \n",
       "             502399091      NaN  POINT (11.72556 51.49072)        NaN   \n",
       "             918346410      NaN  POINT (12.33702 51.37445)        NaN   \n",
       "\n",
       "                           amenity  height width level created_by access  \\\n",
       "element_type osmid                                                         \n",
       "node         288798170         NaN    15.0   NaN   NaN        NaN    NaN   \n",
       "             415265417         NaN     NaN   NaN   NaN        NaN    NaN   \n",
       "             442150170         NaN     NaN   NaN   NaN        NaN    NaN   \n",
       "             502399091  restaurant     NaN   NaN   NaN        NaN    NaN   \n",
       "             918346410         NaN     NaN   NaN   NaN        NaN    NaN   \n",
       "\n",
       "                       barrier  ... monument:genesis ebusinesslotse  \\\n",
       "element_type osmid              ...                                   \n",
       "node         288798170     NaN  ...              NaN            NaN   \n",
       "             415265417     NaN  ...              NaN            NaN   \n",
       "             442150170     NaN  ...              NaN            NaN   \n",
       "             502399091     NaN  ...              NaN            NaN   \n",
       "             918346410   fence  ...              NaN            NaN   \n",
       "\n",
       "                       ebusinesslotse:profil ebusinesslotse:role  \\\n",
       "element_type osmid                                                 \n",
       "node         288798170                   NaN                 NaN   \n",
       "             415265417                   NaN                 NaN   \n",
       "             442150170                   NaN                 NaN   \n",
       "             502399091                   NaN                 NaN   \n",
       "             918346410                   NaN                 NaN   \n",
       "\n",
       "                       ebusinesslotse:url rail LevelHeight heightComputed  \\\n",
       "element_type osmid                                                          \n",
       "node         288798170                NaN  NaN         NaN            NaN   \n",
       "             415265417                NaN  NaN         NaN            NaN   \n",
       "             442150170                NaN  NaN         NaN            NaN   \n",
       "             502399091                NaN  NaN         NaN            NaN   \n",
       "             918346410                NaN  NaN         NaN            NaN   \n",
       "\n",
       "                       Distance Distance*2  \n",
       "element_type osmid                          \n",
       "node         288798170      NaN        NaN  \n",
       "             415265417      NaN        NaN  \n",
       "             442150170      NaN        NaN  \n",
       "             502399091      NaN        NaN  \n",
       "             918346410      NaN        NaN  \n",
       "\n",
       "[5 rows x 638 columns]"
      ]
     },
     "execution_count": 18,
     "metadata": {},
     "output_type": "execute_result"
    }
   ],
   "source": [
    "data.head()"
   ]
  },
  {
   "cell_type": "markdown",
   "id": "e54db49a",
   "metadata": {},
   "source": [
    "### Convert vector data to raster data and save as a Tiff file\n",
    "PS: I had to lower the resolution to 0.0001 to get the complete data!"
   ]
  },
  {
   "cell_type": "code",
   "execution_count": 90,
   "id": "4fe3f986",
   "metadata": {},
   "outputs": [],
   "source": [
    "from geocube.api.core import make_geocube\n",
    "out_grid = make_geocube(vector_data=final, measurements=['heightComputed'] , resolution=(0.0001, -0.0001))"
   ]
  },
  {
   "cell_type": "code",
   "execution_count": 92,
   "id": "a4ae6ac9",
   "metadata": {},
   "outputs": [],
   "source": [
    "out_grid['heightComputed'].rio.to_raster('halle_method1_raster.tiff')"
   ]
  },
  {
   "cell_type": "code",
   "execution_count": null,
   "id": "ea469aa5",
   "metadata": {},
   "outputs": [],
   "source": []
  }
 ],
 "metadata": {
  "kernelspec": {
   "display_name": "Python 3 (ipykernel)",
   "language": "python",
   "name": "python3"
  },
  "language_info": {
   "codemirror_mode": {
    "name": "ipython",
    "version": 3
   },
   "file_extension": ".py",
   "mimetype": "text/x-python",
   "name": "python",
   "nbconvert_exporter": "python",
   "pygments_lexer": "ipython3",
   "version": "3.9.13"
  }
 },
 "nbformat": 4,
 "nbformat_minor": 5
}
