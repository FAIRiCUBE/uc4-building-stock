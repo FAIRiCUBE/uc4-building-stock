{
 "cells": [
  {
   "cell_type": "code",
   "execution_count": 1,
   "id": "d35b2cb9-71ca-4e1c-93ac-69c60a87fb78",
   "metadata": {},
   "outputs": [],
   "source": [
    "from geocube.api.core import make_geocube\n",
    "from geocube.rasterize import rasterize_image\n",
    "from functools import partial\n",
    "from rasterio.enums import MergeAlg\n",
    "import geopandas as gpd\n",
    "import matplotlib.pyplot as plt"
   ]
  },
  {
   "cell_type": "code",
   "execution_count": 2,
   "id": "3ed3558d-a84d-44cc-ad79-05eacb64e55c",
   "metadata": {},
   "outputs": [],
   "source": [
    "buildings = gpd.read_file('building_halle.geojson')"
   ]
  },
  {
   "cell_type": "code",
   "execution_count": 3,
   "id": "648741a3-7639-417b-87e5-527647e6b751",
   "metadata": {},
   "outputs": [
    {
     "data": {
      "text/html": [
       "<div>\n",
       "<style scoped>\n",
       "    .dataframe tbody tr th:only-of-type {\n",
       "        vertical-align: middle;\n",
       "    }\n",
       "\n",
       "    .dataframe tbody tr th {\n",
       "        vertical-align: top;\n",
       "    }\n",
       "\n",
       "    .dataframe thead th {\n",
       "        text-align: right;\n",
       "    }\n",
       "</style>\n",
       "<table border=\"1\" class=\"dataframe\">\n",
       "  <thead>\n",
       "    <tr style=\"text-align: right;\">\n",
       "      <th></th>\n",
       "      <th>id</th>\n",
       "      <th>ID_BUILD</th>\n",
       "      <th>ID_SOURCE</th>\n",
       "      <th>HEIGHT_WALL</th>\n",
       "      <th>HEIGHT_ROOF</th>\n",
       "      <th>NB_LEV</th>\n",
       "      <th>TYPE</th>\n",
       "      <th>MAIN_USE</th>\n",
       "      <th>ZINDEX</th>\n",
       "      <th>ID_BLOCK</th>\n",
       "      <th>ID_RSU</th>\n",
       "      <th>geometry</th>\n",
       "    </tr>\n",
       "  </thead>\n",
       "  <tbody>\n",
       "    <tr>\n",
       "      <th>0</th>\n",
       "      <td>78118</td>\n",
       "      <td>78119</td>\n",
       "      <td>w180289203</td>\n",
       "      <td>3.554208</td>\n",
       "      <td>3.554208</td>\n",
       "      <td>1</td>\n",
       "      <td>residential</td>\n",
       "      <td>residential</td>\n",
       "      <td>0</td>\n",
       "      <td>72349</td>\n",
       "      <td>14742</td>\n",
       "      <td>POLYGON ((11.99822 51.42148, 11.99824 51.42143...</td>\n",
       "    </tr>\n",
       "    <tr>\n",
       "      <th>1</th>\n",
       "      <td>78119</td>\n",
       "      <td>78120</td>\n",
       "      <td>w180289215</td>\n",
       "      <td>6.576059</td>\n",
       "      <td>6.576059</td>\n",
       "      <td>2</td>\n",
       "      <td>church</td>\n",
       "      <td>religious</td>\n",
       "      <td>0</td>\n",
       "      <td>72350</td>\n",
       "      <td>14742</td>\n",
       "      <td>POLYGON ((11.99848 51.42183, 11.99847 51.42174...</td>\n",
       "    </tr>\n",
       "    <tr>\n",
       "      <th>2</th>\n",
       "      <td>78046</td>\n",
       "      <td>78047</td>\n",
       "      <td>w200420911</td>\n",
       "      <td>6.393401</td>\n",
       "      <td>6.393401</td>\n",
       "      <td>2</td>\n",
       "      <td>residential</td>\n",
       "      <td>residential</td>\n",
       "      <td>0</td>\n",
       "      <td>12448</td>\n",
       "      <td>14742</td>\n",
       "      <td>POLYGON ((12.00237 51.42180, 12.00224 51.42186...</td>\n",
       "    </tr>\n",
       "    <tr>\n",
       "      <th>3</th>\n",
       "      <td>50970</td>\n",
       "      <td>50971</td>\n",
       "      <td>w180289193</td>\n",
       "      <td>7.057839</td>\n",
       "      <td>7.057839</td>\n",
       "      <td>2</td>\n",
       "      <td>residential</td>\n",
       "      <td>residential</td>\n",
       "      <td>0</td>\n",
       "      <td>57654</td>\n",
       "      <td>14742</td>\n",
       "      <td>POLYGON ((11.99915 51.42180, 11.99899 51.42177...</td>\n",
       "    </tr>\n",
       "    <tr>\n",
       "      <th>4</th>\n",
       "      <td>78060</td>\n",
       "      <td>78061</td>\n",
       "      <td>w200420925</td>\n",
       "      <td>5.148638</td>\n",
       "      <td>5.148638</td>\n",
       "      <td>1</td>\n",
       "      <td>residential</td>\n",
       "      <td>residential</td>\n",
       "      <td>0</td>\n",
       "      <td>12448</td>\n",
       "      <td>14742</td>\n",
       "      <td>POLYGON ((12.00225 51.42187, 12.00221 51.42188...</td>\n",
       "    </tr>\n",
       "  </tbody>\n",
       "</table>\n",
       "</div>"
      ],
      "text/plain": [
       "      id  ID_BUILD   ID_SOURCE  HEIGHT_WALL  HEIGHT_ROOF  NB_LEV         TYPE  \\\n",
       "0  78118     78119  w180289203     3.554208     3.554208       1  residential   \n",
       "1  78119     78120  w180289215     6.576059     6.576059       2       church   \n",
       "2  78046     78047  w200420911     6.393401     6.393401       2  residential   \n",
       "3  50970     50971  w180289193     7.057839     7.057839       2  residential   \n",
       "4  78060     78061  w200420925     5.148638     5.148638       1  residential   \n",
       "\n",
       "      MAIN_USE  ZINDEX  ID_BLOCK  ID_RSU  \\\n",
       "0  residential       0     72349   14742   \n",
       "1    religious       0     72350   14742   \n",
       "2  residential       0     12448   14742   \n",
       "3  residential       0     57654   14742   \n",
       "4  residential       0     12448   14742   \n",
       "\n",
       "                                            geometry  \n",
       "0  POLYGON ((11.99822 51.42148, 11.99824 51.42143...  \n",
       "1  POLYGON ((11.99848 51.42183, 11.99847 51.42174...  \n",
       "2  POLYGON ((12.00237 51.42180, 12.00224 51.42186...  \n",
       "3  POLYGON ((11.99915 51.42180, 11.99899 51.42177...  \n",
       "4  POLYGON ((12.00225 51.42187, 12.00221 51.42188...  "
      ]
     },
     "execution_count": 3,
     "metadata": {},
     "output_type": "execute_result"
    }
   ],
   "source": [
    "buildings.head()"
   ]
  },
  {
   "cell_type": "code",
   "execution_count": 4,
   "id": "c9c74f67-cde6-42af-9fd9-9d0eb95b2234",
   "metadata": {},
   "outputs": [
    {
     "data": {
      "text/plain": [
       "<Geographic 2D CRS: EPSG:4326>\n",
       "Name: WGS 84\n",
       "Axis Info [ellipsoidal]:\n",
       "- Lat[north]: Geodetic latitude (degree)\n",
       "- Lon[east]: Geodetic longitude (degree)\n",
       "Area of Use:\n",
       "- name: World.\n",
       "- bounds: (-180.0, -90.0, 180.0, 90.0)\n",
       "Datum: World Geodetic System 1984 ensemble\n",
       "- Ellipsoid: WGS 84\n",
       "- Prime Meridian: Greenwich"
      ]
     },
     "execution_count": 4,
     "metadata": {},
     "output_type": "execute_result"
    }
   ],
   "source": [
    "buildings.crs"
   ]
  },
  {
   "cell_type": "code",
   "execution_count": 5,
   "id": "29a7e97c-61c8-4a00-9ee2-6b1416663f71",
   "metadata": {
    "tags": []
   },
   "outputs": [],
   "source": [
    "# Reproject to EPSG:25832 (ETRS89/UTM zone 32N). See https://epsg.io/25832\n",
    "# rep_buildings = buildings.to_crs('EPSG:25832')\n",
    "# Reproject to EPSG:3035 - ETRS89-extended / LAEA Europe\n",
    "rep_buildings = buildings.to_crs('EPSG:3035')"
   ]
  },
  {
   "cell_type": "code",
   "execution_count": 6,
   "id": "ad60745f-c082-459c-8771-cf65f3834d40",
   "metadata": {
    "tags": []
   },
   "outputs": [
    {
     "data": {
      "text/plain": [
       "<Derived Projected CRS: EPSG:3035>\n",
       "Name: ETRS89-extended / LAEA Europe\n",
       "Axis Info [cartesian]:\n",
       "- Y[north]: Northing (metre)\n",
       "- X[east]: Easting (metre)\n",
       "Area of Use:\n",
       "- name: Europe - European Union (EU) countries and candidates. Europe - onshore and offshore: Albania; Andorra; Austria; Belgium; Bosnia and Herzegovina; Bulgaria; Croatia; Cyprus; Czechia; Denmark; Estonia; Faroe Islands; Finland; France; Germany; Gibraltar; Greece; Hungary; Iceland; Ireland; Italy; Kosovo; Latvia; Liechtenstein; Lithuania; Luxembourg; Malta; Monaco; Montenegro; Netherlands; North Macedonia; Norway including Svalbard and Jan Mayen; Poland; Portugal including Madeira and Azores; Romania; San Marino; Serbia; Slovakia; Slovenia; Spain including Canary Islands; Sweden; Switzerland; Turkey; United Kingdom (UK) including Channel Islands and Isle of Man; Vatican City State.\n",
       "- bounds: (-35.58, 24.6, 44.83, 84.73)\n",
       "Coordinate Operation:\n",
       "- name: Europe Equal Area 2001\n",
       "- method: Lambert Azimuthal Equal Area\n",
       "Datum: European Terrestrial Reference System 1989 ensemble\n",
       "- Ellipsoid: GRS 1980\n",
       "- Prime Meridian: Greenwich"
      ]
     },
     "execution_count": 6,
     "metadata": {},
     "output_type": "execute_result"
    }
   ],
   "source": [
    "rep_buildings.crs"
   ]
  },
  {
   "cell_type": "code",
   "execution_count": 7,
   "id": "a5ad87c5-21db-4a30-99c0-621646b3eb55",
   "metadata": {
    "tags": []
   },
   "outputs": [],
   "source": [
    "heights = rep_buildings[[\"HEIGHT_WALL\", \"geometry\"]]"
   ]
  },
  {
   "cell_type": "code",
   "execution_count": 8,
   "id": "9eb28c5b-2027-4788-8117-e83ed29865ad",
   "metadata": {
    "tags": []
   },
   "outputs": [
    {
     "data": {
      "text/plain": [
       "geopandas.geodataframe.GeoDataFrame"
      ]
     },
     "execution_count": 8,
     "metadata": {},
     "output_type": "execute_result"
    }
   ],
   "source": [
    "type(heights)"
   ]
  },
  {
   "cell_type": "code",
   "execution_count": 9,
   "id": "00ad8a3d-3cd1-4ad7-9a3c-4ad428e4ea3f",
   "metadata": {
    "tags": []
   },
   "outputs": [
    {
     "data": {
      "text/html": [
       "<div>\n",
       "<style scoped>\n",
       "    .dataframe tbody tr th:only-of-type {\n",
       "        vertical-align: middle;\n",
       "    }\n",
       "\n",
       "    .dataframe tbody tr th {\n",
       "        vertical-align: top;\n",
       "    }\n",
       "\n",
       "    .dataframe thead th {\n",
       "        text-align: right;\n",
       "    }\n",
       "</style>\n",
       "<table border=\"1\" class=\"dataframe\">\n",
       "  <thead>\n",
       "    <tr style=\"text-align: right;\">\n",
       "      <th></th>\n",
       "      <th>HEIGHT_WALL</th>\n",
       "      <th>geometry</th>\n",
       "    </tr>\n",
       "  </thead>\n",
       "  <tbody>\n",
       "    <tr>\n",
       "      <th>0</th>\n",
       "      <td>3.554208</td>\n",
       "      <td>POLYGON ((4459976.180 3147533.667, 4459977.527...</td>\n",
       "    </tr>\n",
       "    <tr>\n",
       "      <th>1</th>\n",
       "      <td>6.576059</td>\n",
       "      <td>POLYGON ((4459992.754 3147573.422, 4459992.543...</td>\n",
       "    </tr>\n",
       "    <tr>\n",
       "      <th>2</th>\n",
       "      <td>6.393401</td>\n",
       "      <td>POLYGON ((4460263.415 3147577.621, 4460254.391...</td>\n",
       "    </tr>\n",
       "    <tr>\n",
       "      <th>3</th>\n",
       "      <td>7.057839</td>\n",
       "      <td>POLYGON ((4460039.448 3147570.961, 4460028.925...</td>\n",
       "    </tr>\n",
       "    <tr>\n",
       "      <th>4</th>\n",
       "      <td>5.148638</td>\n",
       "      <td>POLYGON ((4460254.906 3147584.467, 4460252.325...</td>\n",
       "    </tr>\n",
       "  </tbody>\n",
       "</table>\n",
       "</div>"
      ],
      "text/plain": [
       "   HEIGHT_WALL                                           geometry\n",
       "0     3.554208  POLYGON ((4459976.180 3147533.667, 4459977.527...\n",
       "1     6.576059  POLYGON ((4459992.754 3147573.422, 4459992.543...\n",
       "2     6.393401  POLYGON ((4460263.415 3147577.621, 4460254.391...\n",
       "3     7.057839  POLYGON ((4460039.448 3147570.961, 4460028.925...\n",
       "4     5.148638  POLYGON ((4460254.906 3147584.467, 4460252.325..."
      ]
     },
     "execution_count": 9,
     "metadata": {},
     "output_type": "execute_result"
    }
   ],
   "source": [
    "heights.head()"
   ]
  },
  {
   "cell_type": "code",
   "execution_count": 10,
   "id": "b904605d-d456-4978-9d9c-67837cf72f5f",
   "metadata": {
    "tags": []
   },
   "outputs": [],
   "source": [
    "# Rasterize\n",
    "rastheights = make_geocube(vector_data=heights, measurements=['HEIGHT_WALL'], resolution=[-10, 10], fill=65535)"
   ]
  },
  {
   "cell_type": "code",
   "execution_count": 11,
   "id": "41a11b5e-4771-404f-b8a7-70a8785a9a3f",
   "metadata": {
    "tags": []
   },
   "outputs": [],
   "source": [
    "rastheights.rio.to_raster('geoclimate_heights.tiff')"
   ]
  },
  {
   "cell_type": "code",
   "execution_count": null,
   "id": "4d7bd4d3-edc8-4f12-af74-5e63c174b9ef",
   "metadata": {},
   "outputs": [],
   "source": []
  }
 ],
 "metadata": {
  "kernelspec": {
   "display_name": "Python 3 (ipykernel)",
   "language": "python",
   "name": "python3"
  },
  "language_info": {
   "codemirror_mode": {
    "name": "ipython",
    "version": 3
   },
   "file_extension": ".py",
   "mimetype": "text/x-python",
   "name": "python",
   "nbconvert_exporter": "python",
   "pygments_lexer": "ipython3",
   "version": "3.10.6"
  }
 },
 "nbformat": 4,
 "nbformat_minor": 5
}
