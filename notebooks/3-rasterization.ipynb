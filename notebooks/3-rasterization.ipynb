{
 "cells": [
  {
   "cell_type": "code",
   "execution_count": null,
   "id": "d35b2cb9-71ca-4e1c-93ac-69c60a87fb78",
   "metadata": {},
   "outputs": [],
   "source": [
    "from geocube.api.core import make_geocube\n",
    "from geocube.rasterize import rasterize_image\n",
    "from functools import partial\n",
    "from rasterio.enums import MergeAlg\n",
    "import geopandas as gpd\n",
    "import matplotlib.pyplot as plt"
   ]
  },
  {
   "cell_type": "code",
   "execution_count": null,
   "id": "3ed3558d-a84d-44cc-ad79-05eacb64e55c",
   "metadata": {},
   "outputs": [],
   "source": [
    "buildings = gpd.read_file('building_halle.geojson')"
   ]
  },
  {
   "cell_type": "code",
   "execution_count": null,
   "id": "648741a3-7639-417b-87e5-527647e6b751",
   "metadata": {},
   "outputs": [],
   "source": [
    "buildings.head()"
   ]
  },
  {
   "cell_type": "code",
   "execution_count": null,
   "id": "c9c74f67-cde6-42af-9fd9-9d0eb95b2234",
   "metadata": {},
   "outputs": [],
   "source": [
    "buildings.crs"
   ]
  },
  {
   "cell_type": "code",
   "execution_count": null,
   "id": "29a7e97c-61c8-4a00-9ee2-6b1416663f71",
   "metadata": {
    "tags": []
   },
   "outputs": [],
   "source": [
    "# Reproject to EPSG:25832 (ETRS89/UTM zone 32N). See https://epsg.io/25832\n",
    "rep_buildings = buildings.to_crs('EPSG:25832')"
   ]
  },
  {
   "cell_type": "code",
   "execution_count": null,
   "id": "ad60745f-c082-459c-8771-cf65f3834d40",
   "metadata": {
    "tags": []
   },
   "outputs": [],
   "source": [
    "rep_buildings.crs"
   ]
  },
  {
   "cell_type": "code",
   "execution_count": null,
   "id": "a5ad87c5-21db-4a30-99c0-621646b3eb55",
   "metadata": {
    "tags": []
   },
   "outputs": [],
   "source": [
    "heights = rep_buildings[[\"HEIGHT_WALL\", \"geometry\"]]"
   ]
  },
  {
   "cell_type": "code",
   "execution_count": null,
   "id": "9eb28c5b-2027-4788-8117-e83ed29865ad",
   "metadata": {
    "tags": []
   },
   "outputs": [],
   "source": [
    "type(heights)"
   ]
  },
  {
   "cell_type": "code",
   "execution_count": null,
   "id": "00ad8a3d-3cd1-4ad7-9a3c-4ad428e4ea3f",
   "metadata": {
    "tags": []
   },
   "outputs": [],
   "source": [
    "heights.head()"
   ]
  },
  {
   "cell_type": "code",
   "execution_count": null,
   "id": "b904605d-d456-4978-9d9c-67837cf72f5f",
   "metadata": {
    "tags": []
   },
   "outputs": [],
   "source": [
    "# Rasterize\n",
    "rastheights = make_geocube(vector_data=heights, measurements=['HEIGHT_WALL'], resolution=[-1, 1], fill=0)"
   ]
  },
  {
   "cell_type": "code",
   "execution_count": null,
   "id": "41a11b5e-4771-404f-b8a7-70a8785a9a3f",
   "metadata": {
    "tags": []
   },
   "outputs": [],
   "source": [
    "rastheights.rio.to_raster('geoclimate_heights.tiff')"
   ]
  },
  {
   "cell_type": "code",
   "execution_count": null,
   "id": "4d7bd4d3-edc8-4f12-af74-5e63c174b9ef",
   "metadata": {},
   "outputs": [],
   "source": []
  }
 ],
 "metadata": {
  "kernelspec": {
   "display_name": "Python 3 (ipykernel)",
   "language": "python",
   "name": "python3"
  },
  "language_info": {
   "codemirror_mode": {
    "name": "ipython",
    "version": 3
   },
   "file_extension": ".py",
   "mimetype": "text/x-python",
   "name": "python",
   "nbconvert_exporter": "python",
   "pygments_lexer": "ipython3",
   "version": "3.10.6"
  }
 },
 "nbformat": 4,
 "nbformat_minor": 5
}
