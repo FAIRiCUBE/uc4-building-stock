{
 "cells": [
  {
   "cell_type": "markdown",
   "id": "34684737-3ba8-418d-9656-3d92880159f1",
   "metadata": {},
   "source": [
    "<div class=\"alert alert-block alert-warning\">\n",
    "    Purpose: Load data generated with <a href=\"https://github.com/orbisgis/geoclimate\">geoclimate</a>, clip the dataset using the administrative boundary (<b>halle.geojson</b>) and create a new dataset (<b>building_halle.geojson</b>) for further work.  \n",
    "</div>"
   ]
  },
  {
   "cell_type": "code",
   "execution_count": null,
   "id": "f6a3183f-bc5c-44ef-ac1d-2c1d6b4ed29a",
   "metadata": {},
   "outputs": [],
   "source": [
    "import geopandas as gpd\n",
    "import folium\n",
    "import numpy as np"
   ]
  },
  {
   "cell_type": "markdown",
   "id": "e2cb26a6-5e25-432f-b27d-d85c0e828108",
   "metadata": {},
   "source": [
    "## Administrative boundaries - Halle, Germany"
   ]
  },
  {
   "cell_type": "code",
   "execution_count": null,
   "id": "d6fe2039-38db-4e99-ba99-8c1a3489fd26",
   "metadata": {},
   "outputs": [],
   "source": [
    "center = (51.473334, 11.966667)"
   ]
  },
  {
   "cell_type": "code",
   "execution_count": null,
   "id": "d10fea84-016e-4901-9008-bc2677405046",
   "metadata": {},
   "outputs": [],
   "source": [
    "# map = folium.Map(center, min_zoom=12, max_bounds=True, prefer_canvas=True,)"
   ]
  },
  {
   "cell_type": "code",
   "execution_count": null,
   "id": "03b99633-5fd6-4705-846f-8e8c6523e167",
   "metadata": {},
   "outputs": [],
   "source": [
    "## Retrieving admninistrative boundaries\n",
    "# See: https://peteris.rocks/blog/openstreetmap-administrative-boundaries-in-geojson/"
   ]
  },
  {
   "cell_type": "code",
   "execution_count": null,
   "id": "b6a02673-e6c1-4f4c-a26e-44be207e9f39",
   "metadata": {},
   "outputs": [],
   "source": [
    "# admbnd = folium.GeoJson('halle.geojson', name='Halle', style_function = lambda x: {'fillColor': 'none', 'stroke': 'false', 'color': 'gray'})\n",
    "# admbnd.add_to(map)"
   ]
  },
  {
   "cell_type": "code",
   "execution_count": null,
   "id": "acabd55c-0ea7-4769-a279-caedb4334e96",
   "metadata": {},
   "outputs": [],
   "source": [
    "# bldosm = folium.GeoJson('building_osm.geojson', name='OSM buildings')\n",
    "# bldosm.add_to(map)"
   ]
  },
  {
   "cell_type": "code",
   "execution_count": null,
   "id": "ccd57a71-0bd2-4a30-bd59-88887afd5d39",
   "metadata": {},
   "outputs": [],
   "source": [
    "border = gpd.read_file('halle.geojson')"
   ]
  },
  {
   "cell_type": "markdown",
   "id": "78748624-710c-415c-8937-60aca4fc5119",
   "metadata": {},
   "source": [
    "## Buildings"
   ]
  },
  {
   "cell_type": "code",
   "execution_count": null,
   "id": "1ccb6223-a059-47f7-b78a-e23e73076338",
   "metadata": {},
   "outputs": [],
   "source": [
    "buildings = gpd.read_file('building.geojson')"
   ]
  },
  {
   "cell_type": "markdown",
   "id": "74e20b51-8aab-4b07-8103-f7dda49595d0",
   "metadata": {},
   "source": [
    "## Homogenize crs's"
   ]
  },
  {
   "cell_type": "code",
   "execution_count": null,
   "id": "9e6e7091-612f-40a9-bcfa-f26920fff287",
   "metadata": {},
   "outputs": [],
   "source": [
    "buildings.crs"
   ]
  },
  {
   "cell_type": "code",
   "execution_count": null,
   "id": "ff669311-8199-4aa2-8cc7-58808ed5ffb7",
   "metadata": {},
   "outputs": [],
   "source": [
    "border.crs"
   ]
  },
  {
   "cell_type": "code",
   "execution_count": null,
   "id": "a38776f4-c58c-444a-9fb1-c636e1617de9",
   "metadata": {},
   "outputs": [],
   "source": [
    "# Homogenize crs\n",
    "buildings = buildings.to_crs(4326)"
   ]
  },
  {
   "cell_type": "code",
   "execution_count": null,
   "id": "2a7ad54d-2f79-41db-8a8e-5338a3e99801",
   "metadata": {},
   "outputs": [],
   "source": [
    "# Keep only geometries consisting of polygons\n",
    "buildings = buildings[buildings.geometry.geom_type=='Polygon']"
   ]
  },
  {
   "cell_type": "code",
   "execution_count": null,
   "id": "de7cb5b1-bc57-454a-961b-ff1dddbc846f",
   "metadata": {},
   "outputs": [],
   "source": [
    "# Remove buildings outside border\n",
    "buildings = gpd.clip(buildings, border)"
   ]
  },
  {
   "cell_type": "code",
   "execution_count": null,
   "id": "5e3a8a36-3ab5-4f00-a958-3f0a4a349aea",
   "metadata": {},
   "outputs": [],
   "source": [
    "buildings = buildings[~buildings.geometry.is_empty & ~buildings.geometry.isna()]"
   ]
  },
  {
   "cell_type": "code",
   "execution_count": null,
   "id": "288a867a-4380-46be-be7c-e210ac6ed415",
   "metadata": {},
   "outputs": [],
   "source": [
    "buildings"
   ]
  },
  {
   "cell_type": "code",
   "execution_count": null,
   "id": "ff62ba69-56e9-44ea-8fb3-a5a86ddc7570",
   "metadata": {},
   "outputs": [],
   "source": [
    "len(buildings.index)"
   ]
  },
  {
   "cell_type": "markdown",
   "id": "c429301b-64fa-40b4-a22a-547a8ace29b1",
   "metadata": {},
   "source": [
    "## Building type classification"
   ]
  },
  {
   "cell_type": "code",
   "execution_count": null,
   "id": "de6deed2-99eb-401c-8cf3-cfe47a68f360",
   "metadata": {},
   "outputs": [],
   "source": [
    "buildings.TYPE.unique()"
   ]
  },
  {
   "cell_type": "markdown",
   "id": "7d11f670-b862-44b7-b3cb-7c2ca81b606a",
   "metadata": {},
   "source": [
    "## Building use classification"
   ]
  },
  {
   "cell_type": "code",
   "execution_count": null,
   "id": "e9124c02-e9eb-4107-9eee-a50d7c695d5b",
   "metadata": {},
   "outputs": [],
   "source": [
    "buildings.MAIN_USE.unique()"
   ]
  },
  {
   "cell_type": "code",
   "execution_count": null,
   "id": "b57585fa-dfe2-4a8f-a6d3-ef84043f2c6f",
   "metadata": {},
   "outputs": [],
   "source": [
    "with open('building_halle.geojson' , 'w') as file:\n",
    "    file.write(buildings.to_json())    "
   ]
  },
  {
   "cell_type": "code",
   "execution_count": null,
   "id": "6762e6b4-1d29-4895-b21c-839095e68216",
   "metadata": {},
   "outputs": [],
   "source": [
    "# folium.LayerControl().add_to(map)"
   ]
  },
  {
   "cell_type": "code",
   "execution_count": null,
   "id": "a898c14d-c3db-4a10-8d3a-624bf108bf91",
   "metadata": {},
   "outputs": [],
   "source": [
    "# map"
   ]
  },
  {
   "cell_type": "code",
   "execution_count": null,
   "id": "96e45993-0804-4546-9335-d9916bf55ad1",
   "metadata": {},
   "outputs": [],
   "source": []
  }
 ],
 "metadata": {
  "kernelspec": {
   "display_name": "Python 3",
   "language": "python",
   "name": "python3"
  },
  "language_info": {
   "codemirror_mode": {
    "name": "ipython",
    "version": 3
   },
   "file_extension": ".py",
   "mimetype": "text/x-python",
   "name": "python",
   "nbconvert_exporter": "python",
   "pygments_lexer": "ipython3",
   "version": "3.10.6"
  }
 },
 "nbformat": 4,
 "nbformat_minor": 5
}
