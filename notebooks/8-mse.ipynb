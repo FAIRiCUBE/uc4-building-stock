{
 "cells": [
  {
   "cell_type": "markdown",
   "id": "3805f99d-b4cc-49a6-a9b3-14777909f8a7",
   "metadata": {},
   "source": [
    "# COMPUTATION OF MSE\n",
    "\n",
    "<div class=\"alert alert-block alert-warning\">\n",
    "    Purpose: Compute the Mean Squared Error (MSE) between the true heights and heights estimated by the different methods.\n",
    "</div>"
   ]
  },
  {
   "cell_type": "code",
   "execution_count": 1,
   "id": "b733694e-0ee7-458f-a2b7-ad5f3e675c38",
   "metadata": {
    "tags": []
   },
   "outputs": [],
   "source": [
    "import enum\n",
    "import numpy as np\n",
    "import os\n",
    "from osgeo import (gdal, gdal_array)\n",
    "from osgeo.gdalconst import GA_ReadOnly\n",
    "import rasterio"
   ]
  },
  {
   "cell_type": "code",
   "execution_count": 2,
   "id": "a5a93498-f6e3-473e-8db1-c6432e469e53",
   "metadata": {
    "tags": []
   },
   "outputs": [],
   "source": [
    "def openRaster(fn, access=0):\n",
    "    ds = gdal.Open(fn, access)\n",
    "    if ds is None:\n",
    "        print(\"Error opening raster dataset\")\n",
    "    return ds\n",
    "    \n",
    "def getRasterBand(fn, band=1):\n",
    "    ds = openRaster(fn)\n",
    "    band = ds.GetRasterBand(1).ReadAsArray()\n",
    "    return band\n",
    "    \n",
    "def createRasterFromCopy(fn, ds, data, driverFmt=\"GTiff\"):\n",
    "    driver = gdal.GetDriverByName(driverFmt)\n",
    "    outds = driver.CreateCopy(fn, ds, strict=0)\n",
    "    outds.GetRasterBand(1).WriteArray(data)\n",
    "    ds=None\n",
    "    outds=None\n",
    "\n",
    "def plot(ds, title):\n",
    "    fig, ax = plt.subplots(figsize=(12, 10))\n",
    "    ds.plot(ax=ax)\n",
    "    ax.set_title(title)\n",
    "    ax.set_xlabel('Longitude [deg]')\n",
    "    ax.set_ylabel('Latitude [deg]')\n",
    "    \n",
    "class GdalDTypes(enum.Enum):\n",
    "    \"\"\" Class to map GDAL data types to numpy\"\"\"\n",
    "    uint8 = 1\n",
    "    int8 = 1\n",
    "    uint16 = 2\n",
    "    int16 = 3\n",
    "    uint32 = 4\n",
    "    int32 = 5\n",
    "    float32 = 6\n",
    "    float64 = 7\n",
    "    complex64 =  10\n",
    "    complex128 = 11\n",
    "    \n",
    "# TODO: Make a dataclass    \n",
    "def print_raster_info(ds, name=None):\n",
    "    if name: \n",
    "        print(name)\n",
    "    print(f'shape: {raster_shape(ds)}')\n",
    "    print(f'dtype: {raster_dtype(ds)}\\n')    \n",
    "    \n",
    "def raster_shape(ds):\n",
    "    return (ds.RasterCount, ds.RasterXSize, ds.RasterYSize)\n",
    "\n",
    "def raster_dtype(ds):\n",
    "    return GdalDTypes(ds.GetRasterBand(1).DataType).name"
   ]
  },
  {
   "cell_type": "markdown",
   "id": "1df81747-0e20-4bf4-9e1d-78d5d1162077",
   "metadata": {},
   "source": [
    "## Paths"
   ]
  },
  {
   "cell_type": "code",
   "execution_count": 3,
   "id": "81d4e5c5-ca1e-4ede-b367-caf09864800c",
   "metadata": {
    "tags": []
   },
   "outputs": [],
   "source": [
    "srcdir = 'GeoTiff Heights'\n",
    "truth = os.path.join(srcdir, 'Hall_Truth.tiff')\n",
    "demdtm = os.path.join(srcdir, 'Halle_dem_dtm_heights.tiff')\n",
    "geoclm = os.path.join(srcdir, 'Halle_Geoclimate.tiff')\n",
    "meth1 = os.path.join(srcdir, 'halle_method1_raster_Final_Test.tiff')\n",
    "ua12 = os.path.join(srcdir, 'Halle_UA12.tif')"
   ]
  },
  {
   "cell_type": "code",
   "execution_count": 4,
   "id": "e1a936c6-79cc-417a-82b2-ae3c5aac3ffa",
   "metadata": {
    "tags": []
   },
   "outputs": [],
   "source": [
    "atlasimgpath = 'clipped_halle_urban_atlas_2012.tiff'\n",
    "geoimgpath = 'geoclimate_heights.tiff'"
   ]
  },
  {
   "cell_type": "markdown",
   "id": "a3d86e2d-6b9e-40e5-8070-2fd96ec3e415",
   "metadata": {},
   "source": [
    "## Datasets"
   ]
  },
  {
   "cell_type": "code",
   "execution_count": 5,
   "id": "8061de6f-f0b0-437e-a79d-f38dae666361",
   "metadata": {
    "tags": []
   },
   "outputs": [],
   "source": [
    "truthds = gdal.Open(truth)\n",
    "demdtmds = gdal.Open(demdtm)\n",
    "geoclmds = gdal.Open(geoclm)\n",
    "meth1ds = gdal.Open(meth1)\n",
    "ua12ds = gdal.Open(ua12)"
   ]
  },
  {
   "cell_type": "markdown",
   "id": "36acb838-61c1-432d-b3ae-a826b71c8bb6",
   "metadata": {},
   "source": [
    "## Basic layer info"
   ]
  },
  {
   "cell_type": "code",
   "execution_count": 6,
   "id": "ca2a7926-05bf-4987-a4e5-6802501d2e12",
   "metadata": {
    "tags": []
   },
   "outputs": [
    {
     "name": "stdout",
     "output_type": "stream",
     "text": [
      "Truth\n",
      "shape: (1, 1625, 1601)\n",
      "dtype: float64\n",
      "\n",
      "Dem - Dtm\n",
      "shape: (1, 1202, 1011)\n",
      "dtype: float64\n",
      "\n",
      "Geoclimate\n",
      "shape: (1, 1526, 1367)\n",
      "dtype: float64\n",
      "\n",
      "Method1\n",
      "shape: (1, 1218, 1126)\n",
      "dtype: float64\n",
      "\n",
      "UA12\n",
      "shape: (1, 1575, 1466)\n",
      "dtype: uint16\n",
      "\n"
     ]
    }
   ],
   "source": [
    "print_raster_info(truthds, 'Truth')\n",
    "print_raster_info(demdtmds, 'Dem - Dtm')\n",
    "print_raster_info(geoclmds, 'Geoclimate')\n",
    "print_raster_info(meth1ds, 'Method1')\n",
    "print_raster_info(ua12ds, 'UA12')"
   ]
  },
  {
   "cell_type": "markdown",
   "id": "738598a6-2819-40eb-9469-ba7375636a5f",
   "metadata": {},
   "source": [
    "<font color=red> **REMARK:** The dtypes and shapes of the two raster layers are different</font>. "
   ]
  },
  {
   "cell_type": "markdown",
   "id": "44be4712-6269-44ce-b4e4-617db8ab3b84",
   "metadata": {},
   "source": [
    "## Data type conversion"
   ]
  },
  {
   "cell_type": "code",
   "execution_count": 7,
   "id": "90fb4627-b9bf-48d8-97c3-25b605a9609c",
   "metadata": {
    "tags": []
   },
   "outputs": [],
   "source": [
    "def to_uint16_dataset(srcds):\n",
    "    uint16array = srcds.ReadAsArray().astype('uint16')\n",
    "    geotransform = srcds.GetGeoTransform()\n",
    "    spatialreference = srcds.GetProjection()\n",
    "    nband, ncol, nrow = raster_shape(srcds)\n",
    "    ds = gdal_array.OpenArray(uint16array)\n",
    "    ds.SetGeoTransform(geotransform)\n",
    "    ds.SetProjection(spatialreference)\n",
    "    ds.GetRasterBand(1).WriteArray(uint16array)\n",
    "    return ds"
   ]
  },
  {
   "cell_type": "code",
   "execution_count": 8,
   "id": "2ae76c75-3dfa-41ea-ae25-a28648f934c7",
   "metadata": {
    "tags": []
   },
   "outputs": [],
   "source": [
    "u16truthds = to_uint16_dataset(truthds)\n",
    "u16demdtmds = to_uint16_dataset(demdtmds)\n",
    "u16geoclmds = to_uint16_dataset(geoclmds)\n",
    "u16meth1ds = to_uint16_dataset(meth1ds)"
   ]
  },
  {
   "cell_type": "code",
   "execution_count": 9,
   "id": "bbbf8cd9-dae5-4527-b2e3-a005380c8470",
   "metadata": {
    "tags": []
   },
   "outputs": [
    {
     "name": "stdout",
     "output_type": "stream",
     "text": [
      "uint16 Truth\n",
      "shape: (1, 1625, 1601)\n",
      "dtype: uint16\n",
      "\n",
      "uint16 Dem - Dtm\n",
      "shape: (1, 1202, 1011)\n",
      "dtype: uint16\n",
      "\n",
      "uint16 Geoclimate\n",
      "shape: (1, 1526, 1367)\n",
      "dtype: uint16\n",
      "\n",
      "uint16 Method 1\n",
      "shape: (1, 1218, 1126)\n",
      "dtype: uint16\n",
      "\n",
      "uint16 UA12\n",
      "shape: (1, 1575, 1466)\n",
      "dtype: uint16\n",
      "\n"
     ]
    }
   ],
   "source": [
    "print_raster_info(u16truthds, 'uint16 Truth')\n",
    "print_raster_info(u16demdtmds, 'uint16 Dem - Dtm')\n",
    "print_raster_info(u16geoclmds, 'uint16 Geoclimate')\n",
    "print_raster_info(u16meth1ds, 'uint16 Method 1')\n",
    "print_raster_info(ua12ds, 'uint16 UA12')"
   ]
  },
  {
   "cell_type": "markdown",
   "id": "2be6c54d-0e2f-4709-a25c-2f08af7cd595",
   "metadata": {},
   "source": [
    "## Clipping to a common size"
   ]
  },
  {
   "cell_type": "code",
   "execution_count": 10,
   "id": "9ed3c236-c175-42a6-aa60-3eeaca064505",
   "metadata": {
    "tags": []
   },
   "outputs": [
    {
     "name": "stdout",
     "output_type": "stream",
     "text": [
      "[4451610.0, 3148570.0, 4463630.0, 3158680.0]\n"
     ]
    }
   ],
   "source": [
    "# Use the smaller image as reference\n",
    "gt = u16demdtmds.GetGeoTransform()\n",
    "minx = gt[0]\n",
    "maxy = gt[3]\n",
    "maxx = minx + gt[1] * u16demdtmds.RasterXSize\n",
    "miny = maxy + gt[5] * u16demdtmds.RasterYSize\n",
    "print([minx, miny, maxx, maxy])\n",
    "# atlasds = None"
   ]
  },
  {
   "cell_type": "code",
   "execution_count": 11,
   "id": "9a8ca5a7-9ad3-44e6-b94b-18d7a2a6441f",
   "metadata": {
    "tags": []
   },
   "outputs": [
    {
     "data": {
      "text/plain": [
       "[4451610.0, 3148570.0, 4463630.0, 3158680.0]"
      ]
     },
     "execution_count": 11,
     "metadata": {},
     "output_type": "execute_result"
    }
   ],
   "source": [
    "[minx, miny, maxx, maxy]"
   ]
  },
  {
   "cell_type": "code",
   "execution_count": 12,
   "id": "3b238133-f63e-4ca2-8d5f-9c71bdf4be28",
   "metadata": {
    "tags": []
   },
   "outputs": [],
   "source": [
    "# Horizontal and vertical resolutions\n",
    "xRes = gt[1]\n",
    "yRes = -gt[5]"
   ]
  },
  {
   "cell_type": "code",
   "execution_count": 13,
   "id": "70af26b3-a8ab-4f07-9851-c8839c28fb64",
   "metadata": {
    "tags": []
   },
   "outputs": [
    {
     "data": {
      "text/plain": [
       "(10.0, 10.0)"
      ]
     },
     "execution_count": 13,
     "metadata": {},
     "output_type": "execute_result"
    }
   ],
   "source": [
    "xRes, yRes"
   ]
  },
  {
   "cell_type": "markdown",
   "id": "ff7325d8-d1c8-423c-bd11-0f8d97753bc6",
   "metadata": {},
   "source": [
    "**<font color=red>NOTE: </font>** <font color=red>The right order of coordinates to assign to the input image is: **ulx uly lrx lry**, i.e. upper-left x and y, lower-right x and y, as reported in gdal_translate documentation</font>"
   ]
  },
  {
   "cell_type": "code",
   "execution_count": 14,
   "id": "547aea40-66dc-41e9-9acf-26f4041e7f00",
   "metadata": {
    "tags": []
   },
   "outputs": [],
   "source": [
    "cu16truthds = gdal.Translate(srcDS=u16truthds, destName=\"cu16truthds.tiff\", projWin=[minx, maxy, maxx, miny], outputType=gdal.GDT_UInt16, format=\"GTiff\", noData=65535)\n",
    "cua12ds = gdal.Translate(srcDS=ua12ds, destName=\"cu16demdtmds.tiff\", projWin=[minx, maxy, maxx, miny], outputType=gdal.GDT_UInt16, format=\"GTiff\", noData=65535)\n",
    "cu16geoclmds = gdal.Translate(srcDS=u16geoclmds, destName=\"cu16geoclmds.tiff\", projWin=[minx, maxy, maxx, miny], outputType=gdal.GDT_UInt16, format=\"GTiff\", noData=65535)\n",
    "cu16meth1ds = gdal.Translate(srcDS=u16meth1ds, destName=\"cu16meth1ds.tiff\", projWin=[minx, maxy, maxx, miny], outputType=gdal.GDT_UInt16, format=\"GTiff\", noData=65535)"
   ]
  },
  {
   "cell_type": "code",
   "execution_count": 15,
   "id": "137db673-bc31-4b97-9ed6-2c32a9a5cc71",
   "metadata": {
    "tags": []
   },
   "outputs": [
    {
     "name": "stdout",
     "output_type": "stream",
     "text": [
      "uint16 Truth\n",
      "shape: (1, 1202, 1011)\n",
      "dtype: uint16\n",
      "\n",
      "uint16 Dem - Dtm\n",
      "shape: (1, 1202, 1011)\n",
      "dtype: uint16\n",
      "\n",
      "uint16 Geoclimate\n",
      "shape: (1, 1202, 1011)\n",
      "dtype: uint16\n",
      "\n",
      "uint16 Method 1\n",
      "shape: (1, 1202, 1011)\n",
      "dtype: uint16\n",
      "\n",
      "uint16 UA12\n",
      "shape: (1, 1202, 1011)\n",
      "dtype: uint16\n",
      "\n"
     ]
    }
   ],
   "source": [
    "print_raster_info(cu16truthds, 'uint16 Truth')\n",
    "# Note that the geoclimate layer was not clipped as it was the smaller one\n",
    "print_raster_info(u16demdtmds, 'uint16 Dem - Dtm')\n",
    "print_raster_info(cu16geoclmds, 'uint16 Geoclimate')\n",
    "print_raster_info(cu16meth1ds, 'uint16 Method 1')\n",
    "print_raster_info(cua12ds, 'uint16 UA12')"
   ]
  },
  {
   "cell_type": "markdown",
   "id": "b6c4e88f-1c12-4a06-aa93-01ec158b8279",
   "metadata": {},
   "source": [
    "<font color=blue> Now all the layers have the sime data type and shape. Moreover, all the layers have the same extend. </font>"
   ]
  },
  {
   "cell_type": "markdown",
   "id": "9f6eed45-1a00-4d75-8af8-6e04daa5d6d7",
   "metadata": {},
   "source": [
    "## Creation of masked arrays"
   ]
  },
  {
   "cell_type": "code",
   "execution_count": 16,
   "id": "69649237-f087-4a81-87ab-5ba6ddffa56a",
   "metadata": {
    "tags": []
   },
   "outputs": [],
   "source": [
    "def get_masked_array(ds, nan=65535):\n",
    "    dsarray = ds.ReadAsArray()\n",
    "    return np.ma.masked_where(nan, dsarray)"
   ]
  },
  {
   "cell_type": "code",
   "execution_count": 17,
   "id": "4b47aa53-941c-493d-83dd-2c8a61c2d251",
   "metadata": {
    "tags": []
   },
   "outputs": [],
   "source": [
    "maskedtruth = get_masked_array(cu16truthds)\n",
    "maskeddemdtm = get_masked_array(u16demdtmds)\n",
    "# Note that the geoclimate layer was not clipped as it was the smaller one\n",
    "maskedgeoclm = get_masked_array(cu16geoclmds)\n",
    "maskedmeth1 = get_masked_array(cu16meth1ds)\n",
    "maskedua12 = get_masked_array(cua12ds)"
   ]
  },
  {
   "cell_type": "markdown",
   "id": "a2c96a0e-3e3c-49bb-90bf-cc45dd544a1b",
   "metadata": {},
   "source": [
    "## Getting the overlaps of the datasets with the ground truth"
   ]
  },
  {
   "cell_type": "code",
   "execution_count": 18,
   "id": "ed746669-6089-4776-b150-8d2eb2f87c90",
   "metadata": {
    "tags": []
   },
   "outputs": [],
   "source": [
    "truthdemdtmoverlapmask = np.bitwise_and(maskedtruth.mask, maskeddemdtm.mask)\n",
    "truthgeoclmoverlapmask = np.bitwise_and(maskedtruth.mask, maskedgeoclm.mask)\n",
    "truthmeth1overlapmask  = np.bitwise_and(maskedtruth.mask, maskedmeth1.mask)\n",
    "truthua12overlapmask  = np.bitwise_and(maskedtruth.mask, maskedua12.mask)"
   ]
  },
  {
   "cell_type": "markdown",
   "id": "101ae7c9-64d0-4ed0-b58f-0973982f9367",
   "metadata": {},
   "source": [
    "## Compute MSE"
   ]
  },
  {
   "cell_type": "code",
   "execution_count": 19,
   "id": "6abd1dae-20a0-4075-ae89-6e80d500f6ab",
   "metadata": {
    "tags": []
   },
   "outputs": [],
   "source": [
    "def get_error(ma1, ma2, commonmask):\n",
    "    overlapdata1 = ma1.data[commonmask].reshape(commonmask.shape)\n",
    "    overlapdata2 = ma2.data[commonmask].reshape(commonmask.shape)\n",
    "    return overlapdata1 - overlapdata2"
   ]
  },
  {
   "cell_type": "code",
   "execution_count": 20,
   "id": "8fe5415d-5d98-41c6-839b-82415c0f2e88",
   "metadata": {
    "tags": []
   },
   "outputs": [],
   "source": [
    "# Use the overlap to extract data from each of the layers to be compared\n",
    "truthdemdtmdelta = get_error(maskedtruth, maskeddemdtm, truthdemdtmoverlapmask)\n",
    "truthgeoclmdelta = get_error(maskedtruth, maskedgeoclm, truthgeoclmoverlapmask)\n",
    "truthmeth1delta  = get_error(maskedtruth, maskedmeth1, truthmeth1overlapmask)\n",
    "truthua12delta   = get_error(maskedtruth, maskedua12, truthua12overlapmask)"
   ]
  },
  {
   "cell_type": "code",
   "execution_count": 21,
   "id": "5d155027-92f7-42d9-a7df-b7293b609ff1",
   "metadata": {
    "tags": []
   },
   "outputs": [],
   "source": [
    "# Use the overlap to extract data from each of the layers to be compared\n",
    "truthdemdtmdelta2 = truthdemdtmdelta*truthdemdtmdelta\n",
    "truthgeoclmdelta2 = truthgeoclmdelta*truthgeoclmdelta\n",
    "truthmeth1delta2  = truthmeth1delta*truthmeth1delta\n",
    "truthua12delta2   = truthua12delta*truthua12delta"
   ]
  },
  {
   "cell_type": "code",
   "execution_count": 22,
   "id": "3ffcb842-1e8f-4c09-9d21-613b2481f893",
   "metadata": {
    "tags": []
   },
   "outputs": [],
   "source": [
    "msetruthdemdtm = truthdemdtmdelta2.mean()\n",
    "msetruthgeoclm = truthgeoclmdelta2.mean()\n",
    "msetruthmeth1  = truthmeth1delta2.mean()\n",
    "msetruthua12   = truthua12delta2.mean()"
   ]
  },
  {
   "cell_type": "code",
   "execution_count": 23,
   "id": "35255d25-abbe-4f15-9e75-0073ca53cc55",
   "metadata": {
    "tags": []
   },
   "outputs": [
    {
     "name": "stdout",
     "output_type": "stream",
     "text": [
      "MSE truth-demdtm:     6.79817021087505\n",
      "MSE truth-geoclimate: 10.142367402828455\n",
      "MSE truth-method1:    5.785530545036216\n",
      "MSE truth-UA12:         11.411197295638162\n"
     ]
    }
   ],
   "source": [
    "print(f'MSE truth-demdtm:     {msetruthdemdtm}')\n",
    "print(f'MSE truth-geoclimate: {msetruthgeoclm}')\n",
    "print(f'MSE truth-method1:    {msetruthmeth1}')\n",
    "print(f'MSE truth-UA12:         {msetruthua12}')"
   ]
  },
  {
   "cell_type": "code",
   "execution_count": null,
   "id": "fdff8c3c-5b38-463d-af4f-1cb6dfc1a1f3",
   "metadata": {},
   "outputs": [],
   "source": []
  }
 ],
 "metadata": {
  "kernelspec": {
   "display_name": "Python 3 (ipykernel)",
   "language": "python",
   "name": "python3"
  },
  "language_info": {
   "codemirror_mode": {
    "name": "ipython",
    "version": 3
   },
   "file_extension": ".py",
   "mimetype": "text/x-python",
   "name": "python",
   "nbconvert_exporter": "python",
   "pygments_lexer": "ipython3",
   "version": "3.10.6"
  }
 },
 "nbformat": 4,
 "nbformat_minor": 5
}
