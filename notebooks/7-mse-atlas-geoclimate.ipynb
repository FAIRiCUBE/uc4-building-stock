{
 "cells": [
  {
   "cell_type": "markdown",
   "id": "7be17f54-e628-4cca-ae0a-1c480b13fe83",
   "metadata": {},
   "source": [
    "# COMPUTATION OF MSE BETWEEN ATLAS AND GEOCLIMATE"
   ]
  },
  {
   "cell_type": "markdown",
   "id": "dbf802da-38ff-42d6-aa05-dd851879fea0",
   "metadata": {},
   "source": [
    "<div class=\"alert alert-block alert-warning\">\n",
    "    Purpose: Compute the Mean Squared Error (MSE) between the heights in the Halle urban atlas 2012 data layer and heights estimated by random forest using geoclimate.\n",
    "</div>"
   ]
  },
  {
   "cell_type": "code",
   "execution_count": null,
   "id": "b733694e-0ee7-458f-a2b7-ad5f3e675c38",
   "metadata": {
    "tags": []
   },
   "outputs": [],
   "source": [
    "import enum\n",
    "import numpy as np\n",
    "from osgeo import gdal\n",
    "from osgeo.gdalconst import GA_ReadOnly\n",
    "import rasterio"
   ]
  },
  {
   "cell_type": "code",
   "execution_count": null,
   "id": "a5a93498-f6e3-473e-8db1-c6432e469e53",
   "metadata": {
    "tags": []
   },
   "outputs": [],
   "source": [
    "def openRaster(fn, access=0):\n",
    "    ds = gdal.Open(fn, access)\n",
    "    if ds is None:\n",
    "        print(\"Error opening raster dataset\")\n",
    "    return ds\n",
    "    \n",
    "def getRasterBand(fn, band=1):\n",
    "    ds = openRaster(fn)\n",
    "    band = ds.GetRasterBand(1).ReadAsArray()\n",
    "    return band\n",
    "    \n",
    "def createRasterFromCopy(fn, ds, data, driverFmt=\"GTiff\"):\n",
    "    driver = gdal.GetDriverByName(driverFmt)\n",
    "    outds = driver.CreateCopy(fn, ds, strict=0)\n",
    "    outds.GetRasterBand(1).WriteArray(data)\n",
    "    ds=None\n",
    "    outds=None\n",
    "\n",
    "def plot(ds, title):\n",
    "    fig, ax = plt.subplots(figsize=(12, 10))\n",
    "    ds.plot(ax=ax)\n",
    "    ax.set_title(title)\n",
    "    ax.set_xlabel('Longitude [deg]')\n",
    "    ax.set_ylabel('Latitude [deg]')\n",
    "    \n",
    "class GdalDTypes(enum.Enum):\n",
    "    \"\"\" Class to map GDAL data types to numpy\"\"\"\n",
    "    uint8 = 1\n",
    "    int8 = 1\n",
    "    uint16 = 2\n",
    "    int16 = 3\n",
    "    uint32 = 4\n",
    "    int32 = 5\n",
    "    float32 = 6\n",
    "    float64 = 7\n",
    "    complex64 =  10\n",
    "    complex128 = 11\n",
    "    \n",
    "# TODO: Make a dataclass    \n",
    "def print_raster_info(ds, name=None):\n",
    "    if name: \n",
    "        print(name)\n",
    "    print(f'shape: {raster_shape(ds)}')\n",
    "    print(f'dtype: {raster_dtype(ds)}\\n')    \n",
    "    \n",
    "def raster_shape(ds):\n",
    "    return (ds.RasterCount, ds.RasterXSize, ds.RasterYSize)\n",
    "\n",
    "def raster_dtype(ds):\n",
    "    return GdalDTypes(ds.GetRasterBand(1).DataType).name"
   ]
  },
  {
   "cell_type": "code",
   "execution_count": null,
   "id": "e1a936c6-79cc-417a-82b2-ae3c5aac3ffa",
   "metadata": {
    "tags": []
   },
   "outputs": [],
   "source": [
    "atlasimgpath = 'clipped_halle_urban_atlas_2012.tiff'\n",
    "geoimgpath = 'geoclimate_heights.tiff'"
   ]
  },
  {
   "cell_type": "code",
   "execution_count": null,
   "id": "2d5fee48-8f39-4f95-8a64-fe2716f30709",
   "metadata": {
    "tags": []
   },
   "outputs": [],
   "source": [
    "atlasds = gdal.Open(atlasimgpath)\n",
    "geoclimateds = gdal.Open(geoimgpath)"
   ]
  },
  {
   "cell_type": "markdown",
   "id": "36acb838-61c1-432d-b3ae-a826b71c8bb6",
   "metadata": {},
   "source": [
    "## Basic layer info"
   ]
  },
  {
   "cell_type": "code",
   "execution_count": null,
   "id": "ca2a7926-05bf-4987-a4e5-6802501d2e12",
   "metadata": {
    "tags": []
   },
   "outputs": [],
   "source": [
    "print_raster_info(atlasds, 'Atlas')"
   ]
  },
  {
   "cell_type": "code",
   "execution_count": null,
   "id": "4594bc1c-1edc-445d-b41d-c28e96f20f04",
   "metadata": {
    "tags": []
   },
   "outputs": [],
   "source": [
    "print_raster_info(geoclimateds, 'Geoclimate')"
   ]
  },
  {
   "cell_type": "markdown",
   "id": "738598a6-2819-40eb-9469-ba7375636a5f",
   "metadata": {},
   "source": [
    "<font color=red> **REMARK:** The dtypes and shapes of the two raster layers are different</font>"
   ]
  },
  {
   "cell_type": "markdown",
   "id": "44be4712-6269-44ce-b4e4-617db8ab3b84",
   "metadata": {},
   "source": [
    "## Data type conversion"
   ]
  },
  {
   "cell_type": "code",
   "execution_count": null,
   "id": "c4d44d47-10ca-48e8-993c-b8f48159447b",
   "metadata": {
    "tags": []
   },
   "outputs": [],
   "source": [
    "dstfile = \"uint16_geoclimate_heights.tiff\""
   ]
  },
  {
   "cell_type": "code",
   "execution_count": null,
   "id": "9b7dceb6-fee1-4875-aeb6-e71dc5616796",
   "metadata": {
    "tags": []
   },
   "outputs": [],
   "source": [
    "type(geoclimateds)"
   ]
  },
  {
   "cell_type": "code",
   "execution_count": null,
   "id": "1e57a5ed-ceea-4431-bd53-9fe0cb9738d3",
   "metadata": {
    "tags": []
   },
   "outputs": [],
   "source": [
    "srcdata = geoclimateds.ReadAsArray()"
   ]
  },
  {
   "cell_type": "code",
   "execution_count": null,
   "id": "9b6855f9-b54b-4965-8793-676fe07c3066",
   "metadata": {
    "tags": []
   },
   "outputs": [],
   "source": [
    "srcdata.dtype"
   ]
  },
  {
   "cell_type": "code",
   "execution_count": null,
   "id": "36516274-b36b-4a46-b4a5-e1c7c4b2c3a6",
   "metadata": {
    "tags": []
   },
   "outputs": [],
   "source": [
    "dstdata = srcdata.astype('uint16')"
   ]
  },
  {
   "cell_type": "code",
   "execution_count": null,
   "id": "86723f8b-512f-4214-bc47-b30d0922b28a",
   "metadata": {
    "tags": []
   },
   "outputs": [],
   "source": [
    "dstdata"
   ]
  },
  {
   "cell_type": "code",
   "execution_count": null,
   "id": "f58efd94-b8bc-43f6-a7d7-3808637ea2cf",
   "metadata": {
    "tags": []
   },
   "outputs": [],
   "source": [
    "dstdata.min(), dstdata.max()"
   ]
  },
  {
   "cell_type": "code",
   "execution_count": null,
   "id": "973921f0-1498-44ef-b2da-74a668b907ce",
   "metadata": {
    "tags": []
   },
   "outputs": [],
   "source": [
    "# Get geoclimate parameters to be transfered to the new data type\n",
    "geotransform = geoclimateds.GetGeoTransform()\n",
    "spatialreference = geoclimateds.GetProjection()\n",
    "nband, ncol, nrow = raster_shape(geoclimateds)"
   ]
  },
  {
   "cell_type": "code",
   "execution_count": null,
   "id": "6a6e2e24-ae97-460a-8b4a-cde212cfd900",
   "metadata": {
    "tags": []
   },
   "outputs": [],
   "source": [
    "nband, ncol, nrow"
   ]
  },
  {
   "cell_type": "code",
   "execution_count": null,
   "id": "d5eb18c4-e026-49a0-8500-eb98107544d1",
   "metadata": {
    "tags": []
   },
   "outputs": [],
   "source": [
    "# Parameters for output dataset\n",
    "driver_name = 'GTiff'\n",
    "driver = gdal.GetDriverByName(driver_name)\n",
    "dstds = driver.Create(dstfile, ncol, nrow, nband, gdal.GDT_UInt16)\n",
    "dstds.SetGeoTransform(geotransform)\n",
    "dstds.SetProjection(spatialreference)\n",
    "dstds.GetRasterBand(1).WriteArray(dstdata)\n",
    "dstds = None"
   ]
  },
  {
   "cell_type": "code",
   "execution_count": null,
   "id": "9a8218f2-ee9e-4b08-8055-b0dbb1074ebc",
   "metadata": {
    "tags": []
   },
   "outputs": [],
   "source": [
    "uint16geods = gdal.Open(dstfile)"
   ]
  },
  {
   "cell_type": "code",
   "execution_count": null,
   "id": "9f7f9d8f-af39-4e0f-899b-e7ff936d9d62",
   "metadata": {
    "tags": []
   },
   "outputs": [],
   "source": [
    "print_raster_info(uint16geods)"
   ]
  },
  {
   "cell_type": "markdown",
   "id": "2be6c54d-0e2f-4709-a25c-2f08af7cd595",
   "metadata": {},
   "source": [
    "## Clipping of geoclimate tiff"
   ]
  },
  {
   "cell_type": "code",
   "execution_count": null,
   "id": "9ed3c236-c175-42a6-aa60-3eeaca064505",
   "metadata": {
    "tags": []
   },
   "outputs": [],
   "source": [
    "# Use the smaller image as reference, i.e., atlas\n",
    "geoTransform = atlasds.GetGeoTransform()\n",
    "minx = geoTransform[0]\n",
    "maxy = geoTransform[3]\n",
    "maxx = minx + geoTransform[1] * atlasds.RasterXSize\n",
    "miny = maxy + geoTransform[5] * atlasds.RasterYSize\n",
    "print([minx, miny, maxx, maxy])\n",
    "# atlasds = None"
   ]
  },
  {
   "cell_type": "code",
   "execution_count": null,
   "id": "9a8ca5a7-9ad3-44e6-b94b-18d7a2a6441f",
   "metadata": {
    "tags": []
   },
   "outputs": [],
   "source": [
    "[minx, miny, maxx, maxy]"
   ]
  },
  {
   "cell_type": "code",
   "execution_count": null,
   "id": "3b238133-f63e-4ca2-8d5f-9c71bdf4be28",
   "metadata": {
    "tags": []
   },
   "outputs": [],
   "source": [
    "# Horizontal and vertical resolutions\n",
    "xRes = geoTransform[1]\n",
    "yRes = -geoTransform[5]"
   ]
  },
  {
   "cell_type": "code",
   "execution_count": null,
   "id": "70af26b3-a8ab-4f07-9851-c8839c28fb64",
   "metadata": {
    "tags": []
   },
   "outputs": [],
   "source": [
    "xRes, yRes"
   ]
  },
  {
   "cell_type": "code",
   "execution_count": null,
   "id": "5273e719-489c-4d04-a6a7-a08af8cda813",
   "metadata": {
    "tags": []
   },
   "outputs": [],
   "source": [
    "gdal.Translate?"
   ]
  },
  {
   "cell_type": "code",
   "execution_count": null,
   "id": "4f1f3710-607c-414d-ae51-a47d5436f33f",
   "metadata": {
    "tags": []
   },
   "outputs": [],
   "source": [
    "gdal.TranslateOptions?"
   ]
  },
  {
   "cell_type": "code",
   "execution_count": null,
   "id": "8b9c8217-3ada-4f9c-9a0c-27120bf4cdcb",
   "metadata": {
    "tags": []
   },
   "outputs": [],
   "source": [
    "print_raster_info(atlasds, 'Atlas')"
   ]
  },
  {
   "cell_type": "code",
   "execution_count": null,
   "id": "eec3a326-77df-4acd-8467-4bd804ac418b",
   "metadata": {
    "tags": []
   },
   "outputs": [],
   "source": [
    "print_raster_info(geoclimateds, 'Geoclimate')"
   ]
  },
  {
   "cell_type": "markdown",
   "id": "ff7325d8-d1c8-423c-bd11-0f8d97753bc6",
   "metadata": {},
   "source": [
    "**<font color=red>NOTE: </font>** <font color=red>The right order of coordinates to assign to the input image is: **ulx uly lrx lry**, i.e. upper-left x and y, lower-right x and y, as reported in gdal_translate documentation</font>"
   ]
  },
  {
   "cell_type": "code",
   "execution_count": null,
   "id": "547aea40-66dc-41e9-9acf-26f4041e7f00",
   "metadata": {
    "tags": []
   },
   "outputs": [],
   "source": [
    "clipped_halle_geoclimate = gdal.Translate(srcDS=geoclimateds, destName=\"clipped_geoclimate.tiff\", projWin=[minx, maxy, maxx, miny], outputType=gdal.GDT_UInt16, format=\"GTiff\", noData=65535)"
   ]
  },
  {
   "cell_type": "code",
   "execution_count": null,
   "id": "89ced0e8-f00d-46bc-ac81-9f627040af55",
   "metadata": {
    "tags": []
   },
   "outputs": [],
   "source": [
    "print_raster_info(clipped_halle_geoclimate, 'Clipped geoclimate')"
   ]
  },
  {
   "cell_type": "markdown",
   "id": "9f6eed45-1a00-4d75-8af8-6e04daa5d6d7",
   "metadata": {},
   "source": [
    "## Creation of binary mask"
   ]
  },
  {
   "cell_type": "code",
   "execution_count": null,
   "id": "c48acaaf-0743-48a8-82da-c4d7b3367eaf",
   "metadata": {
    "tags": []
   },
   "outputs": [],
   "source": [
    "# Get the array data of each dataset\n",
    "atlasdata = atlasds.ReadAsArray()\n",
    "geoclimatedata = clipped_halle_geoclimate.ReadAsArray()"
   ]
  },
  {
   "cell_type": "code",
   "execution_count": null,
   "id": "d2a8aa7f-653e-41be-8dc5-506a7a4ff8ad",
   "metadata": {
    "tags": []
   },
   "outputs": [],
   "source": [
    "atlasdata"
   ]
  },
  {
   "cell_type": "code",
   "execution_count": null,
   "id": "45f12319-d981-48aa-beb0-d4edf0c1d025",
   "metadata": {
    "tags": []
   },
   "outputs": [],
   "source": [
    "atlasdata.shape"
   ]
  },
  {
   "cell_type": "code",
   "execution_count": null,
   "id": "f75b81af-0935-42f6-865f-8501c5aef2d2",
   "metadata": {
    "tags": []
   },
   "outputs": [],
   "source": [
    "geoclimatedata"
   ]
  },
  {
   "cell_type": "code",
   "execution_count": null,
   "id": "5f93152c-5c00-4a4b-9445-e914fa85d655",
   "metadata": {
    "tags": []
   },
   "outputs": [],
   "source": [
    "geoclimatedata.shape"
   ]
  },
  {
   "cell_type": "code",
   "execution_count": null,
   "id": "6dca3d77-737b-40c9-ac9c-59c1cfd574d9",
   "metadata": {
    "tags": []
   },
   "outputs": [],
   "source": [
    "# Create masks for valid values\n",
    "atlasmasked = np.ma.masked_where(65535, atlasdata)\n",
    "geomasked = np.ma.masked_where(65535, geoclimatedata)"
   ]
  },
  {
   "cell_type": "code",
   "execution_count": null,
   "id": "84a55689-7d17-4c4a-9408-9cfdf44db44f",
   "metadata": {
    "tags": []
   },
   "outputs": [],
   "source": [
    "atlasmasked"
   ]
  },
  {
   "cell_type": "code",
   "execution_count": null,
   "id": "553824a6-6bcb-4875-b3cd-ffaea4870e7f",
   "metadata": {
    "tags": []
   },
   "outputs": [],
   "source": [
    "geomasked"
   ]
  },
  {
   "cell_type": "code",
   "execution_count": null,
   "id": "fb6bbfa2-cd03-4e66-bf33-f8c93b166c7e",
   "metadata": {
    "tags": []
   },
   "outputs": [],
   "source": [
    "# Find the overlap of the two masked arrays\n",
    "overlapmask = np.bitwise_and(atlasmasked.mask, geomasked.mask)"
   ]
  },
  {
   "cell_type": "code",
   "execution_count": null,
   "id": "e7db05b7-4484-4a7c-a1d6-f2916a8a1048",
   "metadata": {
    "tags": []
   },
   "outputs": [],
   "source": [
    "overlapmask"
   ]
  },
  {
   "cell_type": "markdown",
   "id": "101ae7c9-64d0-4ed0-b58f-0973982f9367",
   "metadata": {},
   "source": [
    "## Compute MSE"
   ]
  },
  {
   "cell_type": "code",
   "execution_count": null,
   "id": "d86f20ea-7e52-4566-90fe-09eb65b7937a",
   "metadata": {
    "tags": []
   },
   "outputs": [],
   "source": [
    "# Use the overlap to get data from each data layer\n",
    "geooverdata = atlasmasked.data[overlapmask].reshape(overlapmask.shape)\n",
    "atlasoverdata = geomasked.data[overlapmask].reshape(overlapmask.shape)"
   ]
  },
  {
   "cell_type": "code",
   "execution_count": null,
   "id": "8ed74ea4-b5d6-4baa-b886-60385444731b",
   "metadata": {
    "tags": []
   },
   "outputs": [],
   "source": [
    "delta = geooverdata - atlasoverdata\n",
    "delta2 = delta*delta"
   ]
  },
  {
   "cell_type": "code",
   "execution_count": null,
   "id": "5440f810-2458-4ae2-86fa-455d1891520c",
   "metadata": {
    "tags": []
   },
   "outputs": [],
   "source": [
    "mse = delta2.mean()"
   ]
  },
  {
   "cell_type": "code",
   "execution_count": null,
   "id": "f018ca44-91a3-4026-9d7a-ca769382c78e",
   "metadata": {
    "tags": []
   },
   "outputs": [],
   "source": [
    "mse"
   ]
  },
  {
   "cell_type": "code",
   "execution_count": null,
   "id": "fdff8c3c-5b38-463d-af4f-1cb6dfc1a1f3",
   "metadata": {},
   "outputs": [],
   "source": []
  }
 ],
 "metadata": {
  "kernelspec": {
   "display_name": "Python 3 (ipykernel)",
   "language": "python",
   "name": "python3"
  },
  "language_info": {
   "codemirror_mode": {
    "name": "ipython",
    "version": 3
   },
   "file_extension": ".py",
   "mimetype": "text/x-python",
   "name": "python",
   "nbconvert_exporter": "python",
   "pygments_lexer": "ipython3",
   "version": "3.10.6"
  }
 },
 "nbformat": 4,
 "nbformat_minor": 5
}
