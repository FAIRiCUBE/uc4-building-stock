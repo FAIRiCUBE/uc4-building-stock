{
 "cells": [
  {
   "cell_type": "markdown",
   "id": "4a609d3a-9a75-40c0-99c7-cee7bf8dc42f",
   "metadata": {},
   "source": [
    "<div class=\"alert alert-block alert-warning\">\n",
    "    Purpose: Get data data from OSM, clip it to reduce the number of buildings to the administrative boundary (<b>halle.geojson</b>) and explore availability of building height and/or number of levels.     \n",
    "</div>"
   ]
  },
  {
   "cell_type": "markdown",
   "id": "50eb3a94-58c3-436e-8d42-437f7d538ad1",
   "metadata": {},
   "source": [
    "# Exploring OSM building heigh data"
   ]
  },
  {
   "cell_type": "code",
   "execution_count": null,
   "id": "46e41b07-4c6a-4cd7-b68d-55343c9f44ab",
   "metadata": {},
   "outputs": [],
   "source": [
    "import ast\n",
    "import folium\n",
    "import numpy as np\n",
    "import osmnx as ox \n",
    "import utm\n",
    "from typing import List\n",
    "import geopandas as gpd"
   ]
  },
  {
   "cell_type": "markdown",
   "id": "a1a0db5f-9ddb-4967-984c-1202cc42d4df",
   "metadata": {},
   "source": [
    "## Settings"
   ]
  },
  {
   "cell_type": "code",
   "execution_count": null,
   "id": "e440f1a4-a2a0-4b65-b531-a48904e9d330",
   "metadata": {},
   "outputs": [],
   "source": [
    "# Bounding box\n",
    "south, east, north, west = (51.3435, 12.5023, 51.6020, 11.4419)"
   ]
  },
  {
   "cell_type": "code",
   "execution_count": null,
   "id": "ed48e0b2-fc51-4d21-beec-cab53aacb53d",
   "metadata": {},
   "outputs": [],
   "source": [
    "border = gpd.read_file('halle.geojson')"
   ]
  },
  {
   "cell_type": "code",
   "execution_count": null,
   "id": "009ee044-e67a-4188-ab64-3656f2e65959",
   "metadata": {},
   "outputs": [],
   "source": [
    "border.crs"
   ]
  },
  {
   "cell_type": "markdown",
   "id": "b978c9df-df8c-47fd-8cab-9149d347d1cc",
   "metadata": {},
   "source": [
    "## Obtaining the buildings from OSM"
   ]
  },
  {
   "cell_type": "code",
   "execution_count": null,
   "id": "1c3e12de-ba6c-4d17-98c6-31428997b8ee",
   "metadata": {},
   "outputs": [],
   "source": [
    "buildings = ox.geometries_from_bbox(north, south, east, west, tags = {'building': True})"
   ]
  },
  {
   "cell_type": "code",
   "execution_count": null,
   "id": "6471a2f0-3798-4bdd-aa74-fc7a186e57c5",
   "metadata": {},
   "outputs": [],
   "source": [
    "cols = ['geometry', 'building', 'building:levels', 'height'] \n",
    "buildings = buildings[cols]"
   ]
  },
  {
   "cell_type": "code",
   "execution_count": null,
   "id": "ae6c1759-811b-4fd0-b0d5-d3c41d98133d",
   "metadata": {},
   "outputs": [],
   "source": [
    "buildings.crs"
   ]
  },
  {
   "cell_type": "markdown",
   "id": "a7a18fa7-6f66-4b28-aecd-d34e52c2701e",
   "metadata": {},
   "source": [
    "### Data subset"
   ]
  },
  {
   "cell_type": "code",
   "execution_count": null,
   "id": "ffd7ae33-c4ab-445d-962a-a27d064047b8",
   "metadata": {},
   "outputs": [],
   "source": [
    "buildings = gpd.clip(buildings, border)"
   ]
  },
  {
   "cell_type": "code",
   "execution_count": null,
   "id": "b465e9fe-b179-4e64-ae04-ba73d71acb54",
   "metadata": {},
   "outputs": [],
   "source": [
    "# Remove incomplete geometries\n",
    "# See note \"To get only the actual geometry objects that are neither missing nor empty, you can use a combination of both\"\n",
    "# in https://geopandas.org/en/stable/docs/user_guide/missing_empty.html\n",
    "buildings = buildings[~buildings.geometry.is_empty & ~buildings.geometry.isna()]"
   ]
  },
  {
   "cell_type": "code",
   "execution_count": null,
   "id": "5aaaa44f-c34c-453c-bd9a-2300c31a56ee",
   "metadata": {},
   "outputs": [],
   "source": [
    "buildings.head()"
   ]
  },
  {
   "cell_type": "code",
   "execution_count": null,
   "id": "4fb452bf-c600-4654-99c2-7cdfe93fa57f",
   "metadata": {},
   "outputs": [],
   "source": [
    "# Keep only geometries consisting of polygons\n",
    "buildings = buildings[buildings.geometry.geom_type=='Polygon']"
   ]
  },
  {
   "cell_type": "markdown",
   "id": "0483c2ac-aa7d-4eb5-af90-a7aed112f9c6",
   "metadata": {},
   "source": [
    "## Buildings data overview"
   ]
  },
  {
   "cell_type": "code",
   "execution_count": null,
   "id": "3304d6d4-162e-411a-8873-8277f73fb604",
   "metadata": {},
   "outputs": [],
   "source": [
    "buildings.count()"
   ]
  },
  {
   "cell_type": "code",
   "execution_count": null,
   "id": "bc2fb9b3-b68b-4a1d-a1a0-ade5928570a4",
   "metadata": {},
   "outputs": [],
   "source": [
    "with open('building_osm.geojson' , 'w') as file:\n",
    "    file.write(buildings.to_json())"
   ]
  },
  {
   "cell_type": "markdown",
   "id": "faad5be1-52c7-4c8d-b834-4f900a906d21",
   "metadata": {},
   "source": [
    "## Total buldings"
   ]
  },
  {
   "cell_type": "code",
   "execution_count": null,
   "id": "303cacce-91f3-4e57-99e5-61e7cd9459c3",
   "metadata": {},
   "outputs": [],
   "source": [
    "total_buildings = len(buildings)"
   ]
  },
  {
   "cell_type": "code",
   "execution_count": null,
   "id": "fede6ab9-f51e-45e0-942f-9f324514a372",
   "metadata": {},
   "outputs": [],
   "source": [
    "print(f'Total OSM buildings: {total_buildings}')"
   ]
  },
  {
   "cell_type": "markdown",
   "id": "3ccea70c-c071-4d60-8ee4-5eec748ec034",
   "metadata": {},
   "source": [
    "## Total buildings missing heights"
   ]
  },
  {
   "cell_type": "code",
   "execution_count": null,
   "id": "2afcee3a-2f04-42d9-a082-d82bb4b76f09",
   "metadata": {},
   "outputs": [],
   "source": [
    "missing_heights = buildings[buildings.height.isnull()]"
   ]
  },
  {
   "cell_type": "code",
   "execution_count": null,
   "id": "9e7567a5-b222-4f61-a996-876d7513ebac",
   "metadata": {},
   "outputs": [],
   "source": [
    "# Total missing heights\n",
    "len(missing_heights)"
   ]
  },
  {
   "cell_type": "markdown",
   "id": "1d21fc32-3432-497e-b60c-d0bdee71861d",
   "metadata": {},
   "source": [
    "## Buildings missing levels"
   ]
  },
  {
   "cell_type": "code",
   "execution_count": null,
   "id": "3fac36b6-3c79-471d-a3b0-fbf534f2231a",
   "metadata": {},
   "outputs": [],
   "source": [
    "# Total missing levels\n",
    "missing_levels = buildings[buildings['building:levels'].isnull()]"
   ]
  },
  {
   "cell_type": "code",
   "execution_count": null,
   "id": "c1d2ea0c-2c2c-427f-bf83-2724fcdfd8c1",
   "metadata": {},
   "outputs": [],
   "source": [
    "len(missing_levels)"
   ]
  },
  {
   "cell_type": "markdown",
   "id": "f85bd6f0-8f80-44d3-9bf6-3b670f9d701c",
   "metadata": {},
   "source": [
    "## Buildings missing levels and missing heights"
   ]
  },
  {
   "cell_type": "code",
   "execution_count": null,
   "id": "efcd2976-4252-473f-9697-cc58509ff2df",
   "metadata": {},
   "outputs": [],
   "source": [
    "missing_both = buildings[(buildings.height.isnull()) & (buildings['building:levels'].isnull())]"
   ]
  },
  {
   "cell_type": "code",
   "execution_count": null,
   "id": "4300c0ee-9a5c-4652-af17-d43a0a61ee7b",
   "metadata": {},
   "outputs": [],
   "source": [
    "len(missing_both)"
   ]
  },
  {
   "cell_type": "code",
   "execution_count": null,
   "id": "06a8ad44-6ba7-4224-abf4-ed2907673ba9",
   "metadata": {},
   "outputs": [],
   "source": [
    "len(buildings) - len(missing_both)"
   ]
  },
  {
   "cell_type": "markdown",
   "id": "3d67100d-f00d-4607-8fd3-a9316f0232d9",
   "metadata": {},
   "source": [
    "## Buildings with levels and height data"
   ]
  },
  {
   "cell_type": "code",
   "execution_count": null,
   "id": "fca6bba1-b702-4b05-8ec2-02721d6c2925",
   "metadata": {},
   "outputs": [],
   "source": [
    "having_both = buildings[(~buildings.height.isnull()) & (~buildings['building:levels'].isnull())]"
   ]
  },
  {
   "cell_type": "code",
   "execution_count": null,
   "id": "325e6cb4-b213-478b-8f4a-19cd53398e54",
   "metadata": {},
   "outputs": [],
   "source": [
    "having_both.head()"
   ]
  },
  {
   "cell_type": "code",
   "execution_count": null,
   "id": "c6f13755-396c-4c5d-bc95-e2972aa2dc12",
   "metadata": {},
   "outputs": [],
   "source": [
    "len(having_both.index)"
   ]
  },
  {
   "cell_type": "code",
   "execution_count": null,
   "id": "9e7ffcf2-7f27-4449-881c-80fde6e5f47d",
   "metadata": {},
   "outputs": [],
   "source": [
    "having_both.height.unique()"
   ]
  },
  {
   "cell_type": "markdown",
   "id": "2e990c75-ce4f-498f-9510-0d22f639be0e",
   "metadata": {},
   "source": [
    "## Kind of building"
   ]
  },
  {
   "cell_type": "code",
   "execution_count": null,
   "id": "7df97887-6a4d-4993-b442-f25268f92a32",
   "metadata": {},
   "outputs": [],
   "source": [
    "buildings.building.unique()"
   ]
  },
  {
   "cell_type": "code",
   "execution_count": null,
   "id": "f92b0dd4-769d-4e67-9cee-b54972c7d551",
   "metadata": {},
   "outputs": [],
   "source": [
    "buildings[buildings.building=='yes'].count()"
   ]
  },
  {
   "cell_type": "markdown",
   "id": "a2f10949-c7bb-46d8-85ff-1d0fb32715ba",
   "metadata": {},
   "source": [
    "## Summary"
   ]
  },
  {
   "cell_type": "code",
   "execution_count": null,
   "id": "22765425-c890-46e4-9b03-8266d48f33d2",
   "metadata": {},
   "outputs": [],
   "source": [
    "from matplotlib import pyplot as plt\n",
    "\n",
    "plt.rcParams[\"figure.figsize\"] = [7.50, 5.50]\n",
    "plt.rcParams[\"figure.autolayout\"] = True\n",
    "\n",
    "x = ['missing heights', 'missing levels', 'missing both']\n",
    "y = [len(missing_heights)/total_buildings*100.0, \n",
    "     len(missing_levels)/total_buildings*100.0, \n",
    "     len(missing_both)/total_buildings*100.0]\n",
    "\n",
    "width = 0.35\n",
    "fig, ax = plt.subplots()\n",
    "\n",
    "pps = ax.bar(x, y, width, align='center')\n",
    "\n",
    "for p in pps:\n",
    "   height = p.get_height()\n",
    "   ax.text(x=p.get_x() + p.get_width() / 2, y=height+.50,\n",
    "      s=f\"{height:.2f}%\",\n",
    "      ha='center')\n",
    "\n",
    "plt.show()"
   ]
  },
  {
   "cell_type": "code",
   "execution_count": null,
   "id": "22190bfc-18f2-44a1-86f9-03d9a1b1004e",
   "metadata": {},
   "outputs": [],
   "source": []
  }
 ],
 "metadata": {
  "kernelspec": {
   "display_name": "Python 3",
   "language": "python",
   "name": "python3"
  },
  "language_info": {
   "codemirror_mode": {
    "name": "ipython",
    "version": 3
   },
   "file_extension": ".py",
   "mimetype": "text/x-python",
   "name": "python",
   "nbconvert_exporter": "python",
   "pygments_lexer": "ipython3",
   "version": "3.10.6"
  }
 },
 "nbformat": 4,
 "nbformat_minor": 5
}
