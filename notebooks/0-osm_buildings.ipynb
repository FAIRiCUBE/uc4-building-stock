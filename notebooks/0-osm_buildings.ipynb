{
 "cells": [
  {
   "cell_type": "markdown",
   "id": "50eb3a94-58c3-436e-8d42-437f7d538ad1",
   "metadata": {},
   "source": [
    "# Exploring OSM building heigh data"
   ]
  },
  {
   "cell_type": "code",
   "execution_count": 1,
   "id": "46e41b07-4c6a-4cd7-b68d-55343c9f44ab",
   "metadata": {},
   "outputs": [
    {
     "name": "stderr",
     "output_type": "stream",
     "text": [
      "/home/wrfadmin/.local/lib/python3.10/site-packages/geopandas/_compat.py:123: UserWarning: The Shapely GEOS version (3.10.3-CAPI-1.16.1) is incompatible with the GEOS version PyGEOS was compiled with (3.10.4-CAPI-1.16.2). Conversions between both will be slow.\n",
      "  warnings.warn(\n"
     ]
    }
   ],
   "source": [
    "import ast\n",
    "import folium\n",
    "import numpy as np\n",
    "import osmnx as ox \n",
    "import utm\n",
    "from typing import List\n",
    "import geopandas as gpd"
   ]
  },
  {
   "cell_type": "markdown",
   "id": "a1a0db5f-9ddb-4967-984c-1202cc42d4df",
   "metadata": {},
   "source": [
    "## Settings"
   ]
  },
  {
   "cell_type": "code",
   "execution_count": 2,
   "id": "e440f1a4-a2a0-4b65-b531-a48904e9d330",
   "metadata": {},
   "outputs": [],
   "source": [
    "# Bounding box\n",
    "south, east, north, west = (51.3435, 12.5023, 51.6020, 11.4419)"
   ]
  },
  {
   "cell_type": "code",
   "execution_count": 3,
   "id": "ed48e0b2-fc51-4d21-beec-cab53aacb53d",
   "metadata": {},
   "outputs": [],
   "source": [
    "border = gpd.read_file('halle.geojson')"
   ]
  },
  {
   "cell_type": "code",
   "execution_count": 4,
   "id": "009ee044-e67a-4188-ab64-3656f2e65959",
   "metadata": {},
   "outputs": [
    {
     "data": {
      "text/plain": [
       "<Geographic 2D CRS: EPSG:4326>\n",
       "Name: WGS 84\n",
       "Axis Info [ellipsoidal]:\n",
       "- Lat[north]: Geodetic latitude (degree)\n",
       "- Lon[east]: Geodetic longitude (degree)\n",
       "Area of Use:\n",
       "- name: World.\n",
       "- bounds: (-180.0, -90.0, 180.0, 90.0)\n",
       "Datum: World Geodetic System 1984 ensemble\n",
       "- Ellipsoid: WGS 84\n",
       "- Prime Meridian: Greenwich"
      ]
     },
     "execution_count": 4,
     "metadata": {},
     "output_type": "execute_result"
    }
   ],
   "source": [
    "border.crs"
   ]
  },
  {
   "cell_type": "markdown",
   "id": "b978c9df-df8c-47fd-8cab-9149d347d1cc",
   "metadata": {},
   "source": [
    "## Obtaining the buildings from OSM"
   ]
  },
  {
   "cell_type": "code",
   "execution_count": 5,
   "id": "1c3e12de-ba6c-4d17-98c6-31428997b8ee",
   "metadata": {},
   "outputs": [],
   "source": [
    "buildings = ox.geometries_from_bbox(north, south, east, west, tags = {'building': True})"
   ]
  },
  {
   "cell_type": "code",
   "execution_count": 6,
   "id": "6471a2f0-3798-4bdd-aa74-fc7a186e57c5",
   "metadata": {},
   "outputs": [],
   "source": [
    "cols = ['geometry', 'building', 'building:levels', 'height'] \n",
    "buildings = buildings[cols]"
   ]
  },
  {
   "cell_type": "code",
   "execution_count": 7,
   "id": "ae6c1759-811b-4fd0-b0d5-d3c41d98133d",
   "metadata": {},
   "outputs": [
    {
     "data": {
      "text/plain": [
       "<Geographic 2D CRS: EPSG:4326>\n",
       "Name: WGS 84\n",
       "Axis Info [ellipsoidal]:\n",
       "- Lat[north]: Geodetic latitude (degree)\n",
       "- Lon[east]: Geodetic longitude (degree)\n",
       "Area of Use:\n",
       "- name: World.\n",
       "- bounds: (-180.0, -90.0, 180.0, 90.0)\n",
       "Datum: World Geodetic System 1984 ensemble\n",
       "- Ellipsoid: WGS 84\n",
       "- Prime Meridian: Greenwich"
      ]
     },
     "execution_count": 7,
     "metadata": {},
     "output_type": "execute_result"
    }
   ],
   "source": [
    "buildings.crs"
   ]
  },
  {
   "cell_type": "markdown",
   "id": "a7a18fa7-6f66-4b28-aecd-d34e52c2701e",
   "metadata": {},
   "source": [
    "### Data subset"
   ]
  },
  {
   "cell_type": "code",
   "execution_count": 8,
   "id": "ffd7ae33-c4ab-445d-962a-a27d064047b8",
   "metadata": {},
   "outputs": [],
   "source": [
    "buildings = gpd.clip(buildings, border)"
   ]
  },
  {
   "cell_type": "code",
   "execution_count": 9,
   "id": "b465e9fe-b179-4e64-ae04-ba73d71acb54",
   "metadata": {},
   "outputs": [],
   "source": [
    "# Remove incomplete geometries\n",
    "# See note \"To get only the actual geometry objects that are neither missing nor empty, you can use a combination of both\"\n",
    "# in https://geopandas.org/en/stable/docs/user_guide/missing_empty.html\n",
    "buildings = buildings[~buildings.geometry.is_empty & ~buildings.geometry.isna()]"
   ]
  },
  {
   "cell_type": "code",
   "execution_count": 10,
   "id": "5aaaa44f-c34c-453c-bd9a-2300c31a56ee",
   "metadata": {},
   "outputs": [
    {
     "data": {
      "text/html": [
       "<div>\n",
       "<style scoped>\n",
       "    .dataframe tbody tr th:only-of-type {\n",
       "        vertical-align: middle;\n",
       "    }\n",
       "\n",
       "    .dataframe tbody tr th {\n",
       "        vertical-align: top;\n",
       "    }\n",
       "\n",
       "    .dataframe thead th {\n",
       "        text-align: right;\n",
       "    }\n",
       "</style>\n",
       "<table border=\"1\" class=\"dataframe\">\n",
       "  <thead>\n",
       "    <tr style=\"text-align: right;\">\n",
       "      <th></th>\n",
       "      <th></th>\n",
       "      <th>geometry</th>\n",
       "      <th>building</th>\n",
       "      <th>building:levels</th>\n",
       "      <th>height</th>\n",
       "    </tr>\n",
       "    <tr>\n",
       "      <th>element_type</th>\n",
       "      <th>osmid</th>\n",
       "      <th></th>\n",
       "      <th></th>\n",
       "      <th></th>\n",
       "      <th></th>\n",
       "    </tr>\n",
       "  </thead>\n",
       "  <tbody>\n",
       "    <tr>\n",
       "      <th rowspan=\"5\" valign=\"top\">way</th>\n",
       "      <th>200420939</th>\n",
       "      <td>POLYGON ((12.00298 51.42138, 12.00294 51.42135...</td>\n",
       "      <td>yes</td>\n",
       "      <td>NaN</td>\n",
       "      <td>NaN</td>\n",
       "    </tr>\n",
       "    <tr>\n",
       "      <th>340413643</th>\n",
       "      <td>POLYGON ((12.00314 51.42146, 12.00304 51.42140...</td>\n",
       "      <td>yes</td>\n",
       "      <td>NaN</td>\n",
       "      <td>NaN</td>\n",
       "    </tr>\n",
       "    <tr>\n",
       "      <th>200420927</th>\n",
       "      <td>POLYGON ((12.00278 51.42138, 12.00273 51.42140...</td>\n",
       "      <td>yes</td>\n",
       "      <td>NaN</td>\n",
       "      <td>NaN</td>\n",
       "    </tr>\n",
       "    <tr>\n",
       "      <th>200420908</th>\n",
       "      <td>POLYGON ((12.00308 51.42149, 12.00299 51.42143...</td>\n",
       "      <td>yes</td>\n",
       "      <td>NaN</td>\n",
       "      <td>NaN</td>\n",
       "    </tr>\n",
       "    <tr>\n",
       "      <th>200420907</th>\n",
       "      <td>POLYGON ((12.00279 51.42163, 12.00284 51.42161...</td>\n",
       "      <td>yes</td>\n",
       "      <td>NaN</td>\n",
       "      <td>NaN</td>\n",
       "    </tr>\n",
       "  </tbody>\n",
       "</table>\n",
       "</div>"
      ],
      "text/plain": [
       "                                                                 geometry  \\\n",
       "element_type osmid                                                          \n",
       "way          200420939  POLYGON ((12.00298 51.42138, 12.00294 51.42135...   \n",
       "             340413643  POLYGON ((12.00314 51.42146, 12.00304 51.42140...   \n",
       "             200420927  POLYGON ((12.00278 51.42138, 12.00273 51.42140...   \n",
       "             200420908  POLYGON ((12.00308 51.42149, 12.00299 51.42143...   \n",
       "             200420907  POLYGON ((12.00279 51.42163, 12.00284 51.42161...   \n",
       "\n",
       "                       building building:levels height  \n",
       "element_type osmid                                      \n",
       "way          200420939      yes             NaN    NaN  \n",
       "             340413643      yes             NaN    NaN  \n",
       "             200420927      yes             NaN    NaN  \n",
       "             200420908      yes             NaN    NaN  \n",
       "             200420907      yes             NaN    NaN  "
      ]
     },
     "execution_count": 10,
     "metadata": {},
     "output_type": "execute_result"
    }
   ],
   "source": [
    "buildings.head()"
   ]
  },
  {
   "cell_type": "code",
   "execution_count": 11,
   "id": "4fb452bf-c600-4654-99c2-7cdfe93fa57f",
   "metadata": {},
   "outputs": [],
   "source": [
    "# Keep only geometries consisting of polygons\n",
    "buildings = buildings[buildings.geometry.geom_type=='Polygon']"
   ]
  },
  {
   "cell_type": "markdown",
   "id": "0483c2ac-aa7d-4eb5-af90-a7aed112f9c6",
   "metadata": {},
   "source": [
    "## Buildings data overview"
   ]
  },
  {
   "cell_type": "code",
   "execution_count": 12,
   "id": "3304d6d4-162e-411a-8873-8277f73fb604",
   "metadata": {},
   "outputs": [
    {
     "data": {
      "text/plain": [
       "geometry           40606\n",
       "building           40606\n",
       "building:levels     8246\n",
       "height                80\n",
       "dtype: int64"
      ]
     },
     "execution_count": 12,
     "metadata": {},
     "output_type": "execute_result"
    }
   ],
   "source": [
    "buildings.count()"
   ]
  },
  {
   "cell_type": "code",
   "execution_count": 13,
   "id": "bc2fb9b3-b68b-4a1d-a1a0-ade5928570a4",
   "metadata": {},
   "outputs": [],
   "source": [
    "with open('building_osm.geojson' , 'w') as file:\n",
    "    file.write(buildings.to_json())"
   ]
  },
  {
   "cell_type": "markdown",
   "id": "faad5be1-52c7-4c8d-b834-4f900a906d21",
   "metadata": {},
   "source": [
    "## Total buldings"
   ]
  },
  {
   "cell_type": "code",
   "execution_count": 14,
   "id": "303cacce-91f3-4e57-99e5-61e7cd9459c3",
   "metadata": {},
   "outputs": [],
   "source": [
    "total_buildings = len(buildings)"
   ]
  },
  {
   "cell_type": "code",
   "execution_count": 15,
   "id": "fede6ab9-f51e-45e0-942f-9f324514a372",
   "metadata": {},
   "outputs": [
    {
     "name": "stdout",
     "output_type": "stream",
     "text": [
      "Total OSM buildings: 40606\n"
     ]
    }
   ],
   "source": [
    "print(f'Total OSM buildings: {total_buildings}')"
   ]
  },
  {
   "cell_type": "markdown",
   "id": "3ccea70c-c071-4d60-8ee4-5eec748ec034",
   "metadata": {},
   "source": [
    "## Total buildings missing heights"
   ]
  },
  {
   "cell_type": "code",
   "execution_count": 16,
   "id": "2afcee3a-2f04-42d9-a082-d82bb4b76f09",
   "metadata": {},
   "outputs": [],
   "source": [
    "missing_heights = buildings[buildings.height.isnull()]"
   ]
  },
  {
   "cell_type": "code",
   "execution_count": 17,
   "id": "9e7567a5-b222-4f61-a996-876d7513ebac",
   "metadata": {},
   "outputs": [
    {
     "data": {
      "text/plain": [
       "40526"
      ]
     },
     "execution_count": 17,
     "metadata": {},
     "output_type": "execute_result"
    }
   ],
   "source": [
    "# Total missing heights\n",
    "len(missing_heights)"
   ]
  },
  {
   "cell_type": "markdown",
   "id": "1d21fc32-3432-497e-b60c-d0bdee71861d",
   "metadata": {},
   "source": [
    "## Buildings missing levels"
   ]
  },
  {
   "cell_type": "code",
   "execution_count": 18,
   "id": "3fac36b6-3c79-471d-a3b0-fbf534f2231a",
   "metadata": {},
   "outputs": [],
   "source": [
    "# Total missing levels\n",
    "missing_levels = buildings[buildings['building:levels'].isnull()]"
   ]
  },
  {
   "cell_type": "code",
   "execution_count": 19,
   "id": "c1d2ea0c-2c2c-427f-bf83-2724fcdfd8c1",
   "metadata": {},
   "outputs": [
    {
     "data": {
      "text/plain": [
       "32360"
      ]
     },
     "execution_count": 19,
     "metadata": {},
     "output_type": "execute_result"
    }
   ],
   "source": [
    "len(missing_levels)"
   ]
  },
  {
   "cell_type": "markdown",
   "id": "f85bd6f0-8f80-44d3-9bf6-3b670f9d701c",
   "metadata": {},
   "source": [
    "## Buildings missing levels and missing heights"
   ]
  },
  {
   "cell_type": "code",
   "execution_count": 20,
   "id": "efcd2976-4252-473f-9697-cc58509ff2df",
   "metadata": {},
   "outputs": [],
   "source": [
    "missing_both = buildings[(buildings.height.isnull()) & (buildings['building:levels'].isnull())]"
   ]
  },
  {
   "cell_type": "code",
   "execution_count": 21,
   "id": "4300c0ee-9a5c-4652-af17-d43a0a61ee7b",
   "metadata": {},
   "outputs": [
    {
     "data": {
      "text/plain": [
       "32332"
      ]
     },
     "execution_count": 21,
     "metadata": {},
     "output_type": "execute_result"
    }
   ],
   "source": [
    "len(missing_both)"
   ]
  },
  {
   "cell_type": "code",
   "execution_count": 22,
   "id": "06a8ad44-6ba7-4224-abf4-ed2907673ba9",
   "metadata": {},
   "outputs": [
    {
     "data": {
      "text/plain": [
       "8274"
      ]
     },
     "execution_count": 22,
     "metadata": {},
     "output_type": "execute_result"
    }
   ],
   "source": [
    "len(buildings) - len(missing_both)"
   ]
  },
  {
   "cell_type": "markdown",
   "id": "3d67100d-f00d-4607-8fd3-a9316f0232d9",
   "metadata": {},
   "source": [
    "## Buildings with levels and height data"
   ]
  },
  {
   "cell_type": "code",
   "execution_count": 23,
   "id": "fca6bba1-b702-4b05-8ec2-02721d6c2925",
   "metadata": {},
   "outputs": [],
   "source": [
    "having_both = buildings[(~buildings.height.isnull()) & (~buildings['building:levels'].isnull())]"
   ]
  },
  {
   "cell_type": "code",
   "execution_count": 24,
   "id": "325e6cb4-b213-478b-8f4a-19cd53398e54",
   "metadata": {},
   "outputs": [
    {
     "data": {
      "text/html": [
       "<div>\n",
       "<style scoped>\n",
       "    .dataframe tbody tr th:only-of-type {\n",
       "        vertical-align: middle;\n",
       "    }\n",
       "\n",
       "    .dataframe tbody tr th {\n",
       "        vertical-align: top;\n",
       "    }\n",
       "\n",
       "    .dataframe thead th {\n",
       "        text-align: right;\n",
       "    }\n",
       "</style>\n",
       "<table border=\"1\" class=\"dataframe\">\n",
       "  <thead>\n",
       "    <tr style=\"text-align: right;\">\n",
       "      <th></th>\n",
       "      <th></th>\n",
       "      <th>geometry</th>\n",
       "      <th>building</th>\n",
       "      <th>building:levels</th>\n",
       "      <th>height</th>\n",
       "    </tr>\n",
       "    <tr>\n",
       "      <th>element_type</th>\n",
       "      <th>osmid</th>\n",
       "      <th></th>\n",
       "      <th></th>\n",
       "      <th></th>\n",
       "      <th></th>\n",
       "    </tr>\n",
       "  </thead>\n",
       "  <tbody>\n",
       "    <tr>\n",
       "      <th rowspan=\"5\" valign=\"top\">way</th>\n",
       "      <th>97689009</th>\n",
       "      <td>POLYGON ((11.97551 51.43883, 11.97566 51.43885...</td>\n",
       "      <td>yes</td>\n",
       "      <td>5</td>\n",
       "      <td>16</td>\n",
       "    </tr>\n",
       "    <tr>\n",
       "      <th>97689033</th>\n",
       "      <td>POLYGON ((11.97547 51.43894, 11.97562 51.43896...</td>\n",
       "      <td>yes</td>\n",
       "      <td>5</td>\n",
       "      <td>16</td>\n",
       "    </tr>\n",
       "    <tr>\n",
       "      <th>97689053</th>\n",
       "      <td>POLYGON ((11.97543 51.43904, 11.97559 51.43906...</td>\n",
       "      <td>yes</td>\n",
       "      <td>5</td>\n",
       "      <td>16</td>\n",
       "    </tr>\n",
       "    <tr>\n",
       "      <th>97689019</th>\n",
       "      <td>POLYGON ((11.97539 51.43915, 11.97555 51.43917...</td>\n",
       "      <td>yes</td>\n",
       "      <td>5</td>\n",
       "      <td>16</td>\n",
       "    </tr>\n",
       "    <tr>\n",
       "      <th>97689064</th>\n",
       "      <td>POLYGON ((11.97535 51.43925, 11.97551 51.43927...</td>\n",
       "      <td>yes</td>\n",
       "      <td>5</td>\n",
       "      <td>16</td>\n",
       "    </tr>\n",
       "  </tbody>\n",
       "</table>\n",
       "</div>"
      ],
      "text/plain": [
       "                                                                geometry  \\\n",
       "element_type osmid                                                         \n",
       "way          97689009  POLYGON ((11.97551 51.43883, 11.97566 51.43885...   \n",
       "             97689033  POLYGON ((11.97547 51.43894, 11.97562 51.43896...   \n",
       "             97689053  POLYGON ((11.97543 51.43904, 11.97559 51.43906...   \n",
       "             97689019  POLYGON ((11.97539 51.43915, 11.97555 51.43917...   \n",
       "             97689064  POLYGON ((11.97535 51.43925, 11.97551 51.43927...   \n",
       "\n",
       "                      building building:levels height  \n",
       "element_type osmid                                     \n",
       "way          97689009      yes               5     16  \n",
       "             97689033      yes               5     16  \n",
       "             97689053      yes               5     16  \n",
       "             97689019      yes               5     16  \n",
       "             97689064      yes               5     16  "
      ]
     },
     "execution_count": 24,
     "metadata": {},
     "output_type": "execute_result"
    }
   ],
   "source": [
    "having_both.head()"
   ]
  },
  {
   "cell_type": "code",
   "execution_count": 25,
   "id": "c6f13755-396c-4c5d-bc95-e2972aa2dc12",
   "metadata": {},
   "outputs": [
    {
     "data": {
      "text/plain": [
       "52"
      ]
     },
     "execution_count": 25,
     "metadata": {},
     "output_type": "execute_result"
    }
   ],
   "source": [
    "len(having_both.index)"
   ]
  },
  {
   "cell_type": "code",
   "execution_count": 26,
   "id": "9e7ffcf2-7f27-4449-881c-80fde6e5f47d",
   "metadata": {},
   "outputs": [
    {
     "data": {
      "text/plain": [
       "array(['16', '30', '2.5', '11', '6', '18', '20', '44', '22', '10', '24',\n",
       "       '11.5', '54', '3', '5', '9', '51'], dtype=object)"
      ]
     },
     "execution_count": 26,
     "metadata": {},
     "output_type": "execute_result"
    }
   ],
   "source": [
    "having_both.height.unique()"
   ]
  },
  {
   "cell_type": "markdown",
   "id": "2e990c75-ce4f-498f-9510-0d22f639be0e",
   "metadata": {},
   "source": [
    "## Kind of building"
   ]
  },
  {
   "cell_type": "code",
   "execution_count": 27,
   "id": "7df97887-6a4d-4993-b442-f25268f92a32",
   "metadata": {},
   "outputs": [
    {
     "data": {
      "text/plain": [
       "array(['yes', 'parking', 'apartments', 'detached', 'garage',\n",
       "       'construction', 'garages', 'school', 'house', 'grandstand',\n",
       "       'retail', 'allotment_house', 'semidetached_house', 'church',\n",
       "       'residential', 'industrial', 'commercial', 'terrace', 'roof',\n",
       "       'kindergarten', 'warehouse', 'office', 'supermarket', 'shed',\n",
       "       'service', 'government', 'public', 'chapel', 'kiosk', 'stadium',\n",
       "       'bungalow', 'boathouse', 'prefabricated', 'hut', 'dormitory',\n",
       "       'ruins', 'greenhouse', 'hospital', 'civic', 'barn',\n",
       "       'sports_centre', 'transformer_tower', 'abandoned', 'signal_box',\n",
       "       'train_station', 'hotel', 'mosque', 'sports_hall', 'university',\n",
       "       'stable', 'concert_hall', 'bridge', 'carport', 'water_tower',\n",
       "       'synagogue', 'transportation', 'depot', 'tent', 'toilets',\n",
       "       'social_facility', 'no', 'farm_auxiliary'], dtype=object)"
      ]
     },
     "execution_count": 27,
     "metadata": {},
     "output_type": "execute_result"
    }
   ],
   "source": [
    "buildings.building.unique()"
   ]
  },
  {
   "cell_type": "code",
   "execution_count": 28,
   "id": "f92b0dd4-769d-4e67-9cee-b54972c7d551",
   "metadata": {},
   "outputs": [
    {
     "data": {
      "text/plain": [
       "geometry           26494\n",
       "building           26494\n",
       "building:levels      848\n",
       "height                39\n",
       "dtype: int64"
      ]
     },
     "execution_count": 28,
     "metadata": {},
     "output_type": "execute_result"
    }
   ],
   "source": [
    "buildings[buildings.building=='yes'].count()"
   ]
  },
  {
   "cell_type": "markdown",
   "id": "a2f10949-c7bb-46d8-85ff-1d0fb32715ba",
   "metadata": {},
   "source": [
    "## Summary"
   ]
  },
  {
   "cell_type": "code",
   "execution_count": 29,
   "id": "22765425-c890-46e4-9b03-8266d48f33d2",
   "metadata": {},
   "outputs": [
    {
     "data": {
      "image/png": "[encoded data removed]",
      "text/plain": [
       "<Figure size 750x550 with 1 Axes>"
      ]
     },
     "metadata": {},
     "output_type": "display_data"
    }
   ],
   "source": [
    "from matplotlib import pyplot as plt\n",
    "\n",
    "plt.rcParams[\"figure.figsize\"] = [7.50, 5.50]\n",
    "plt.rcParams[\"figure.autolayout\"] = True\n",
    "\n",
    "x = ['missing heights', 'missing levels', 'missing both']\n",
    "y = [len(missing_heights)/total_buildings*100.0, \n",
    "     len(missing_levels)/total_buildings*100.0, \n",
    "     len(missing_both)/total_buildings*100.0]\n",
    "\n",
    "width = 0.35\n",
    "fig, ax = plt.subplots()\n",
    "\n",
    "pps = ax.bar(x, y, width, align='center')\n",
    "\n",
    "for p in pps:\n",
    "   height = p.get_height()\n",
    "   ax.text(x=p.get_x() + p.get_width() / 2, y=height+.50,\n",
    "      s=f\"{height:.2f}%\",\n",
    "      ha='center')\n",
    "\n",
    "plt.show()"
   ]
  },
  {
   "cell_type": "code",
   "execution_count": null,
   "id": "22190bfc-18f2-44a1-86f9-03d9a1b1004e",
   "metadata": {},
   "outputs": [],
   "source": []
  }
 ],
 "metadata": {
  "kernelspec": {
   "display_name": "Python 3",
   "language": "python",
   "name": "python3"
  },
  "language_info": {
   "codemirror_mode": {
    "name": "ipython",
    "version": 3
   },
   "file_extension": ".py",
   "mimetype": "text/x-python",
   "name": "python",
   "nbconvert_exporter": "python",
   "pygments_lexer": "ipython3",
   "version": "3.10.6"
  }
 },
 "nbformat": 4,
 "nbformat_minor": 5
}
