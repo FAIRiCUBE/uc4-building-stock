{
 "cells": [
  {
   "cell_type": "markdown",
   "id": "0c32a679",
   "metadata": {},
   "source": [
    "# Estimation of building height using digital elevation data\n",
    "\n",
    "This work strives to test a hypothesis. The hypothesis is that a building height can be estimated by means of the difference between digital terrain model (DTM) and digital surface model (DSM). To test the hypothesis, city of Halle in Germany is considerd in combination with openly available data from Saxony-Anhalt (https://www.lvermgeo.sachsen-anhalt.de/de/kostenfreie_geobasisdaten_lvermgeo.html) and Open Street Map (https://www.openstreetmap.org). \n",
    "\n",
    "The following procedure is used to test the hypothesis. In the __first__ part, DSM, DTM, and geometry of the buildings are extracted. In the __second__ part, DSM and DTM data are intersected on building geometry and the differenced between the DSM and DTM heights are calculated. And in the __third__ part, a weighted average method is used to estimate flat height with confidence interval of buildings. "
   ]
  },
  {
   "cell_type": "code",
   "execution_count": 1,
   "id": "ae93eb30",
   "metadata": {},
   "outputs": [],
   "source": [
    "import geopandas as gpd\n",
    "import pandas as pd\n",
    "import osmnx as ox\n",
    "from shapely.geometry import LineString, Point, Polygon\n",
    "\n",
    "import os "
   ]
  },
  {
   "cell_type": "code",
   "execution_count": 2,
   "id": "0013be17",
   "metadata": {},
   "outputs": [],
   "source": [
    "# Toggle between users\n",
    "\n",
    "# Babak\n",
    "upath = r'.'"
   ]
  },
  {
   "cell_type": "markdown",
   "id": "f9d911db",
   "metadata": {},
   "source": [
    "## ''Part 1''"
   ]
  },
  {
   "cell_type": "markdown",
   "id": "2b78173f",
   "metadata": {},
   "source": [
    "#### Reading and concatination of DTM and DSM files"
   ]
  },
  {
   "cell_type": "code",
   "execution_count": 3,
   "id": "98ec5272-c911-476f-87bf-ab653999526b",
   "metadata": {},
   "outputs": [],
   "source": [
    "def get_file_list(srcdir) -> list:\n",
    "    return [os.path.join(srcdir, fn) for fn in os.listdir(srcdir) if os.path.isfile(os.path.join(srcdir, fn))]"
   ]
  },
  {
   "cell_type": "code",
   "execution_count": 4,
   "id": "6fbf98f1-d9e5-4088-9757-9805dc071cbb",
   "metadata": {},
   "outputs": [
    {
     "name": "stdout",
     "output_type": "stream",
     "text": [
      "CPU times: user 1.5 ms, sys: 733 µs, total: 2.23 ms\n",
      "Wall time: 2.52 ms\n"
     ]
    }
   ],
   "source": [
    "%%time\n",
    "# get list of DTM files in the following directory\n",
    "fd_dtm = os.path.join(upath, 'input', 'DTM')\n",
    "dtmfiles = get_file_list(fd_dtm)\n",
    "\n",
    "\n",
    "# get list of DSM files in the following directory\n",
    "fd_dsm = os.path.join(upath, 'input', 'DSM')\n",
    "dsmfiles = get_file_list(fd_dsm)"
   ]
  },
  {
   "cell_type": "code",
   "execution_count": 5,
   "id": "105c32a9",
   "metadata": {},
   "outputs": [
    {
     "name": "stdout",
     "output_type": "stream",
     "text": [
      "Index number of the read DTM file = 0\n"
     ]
    },
    {
     "name": "stderr",
     "output_type": "stream",
     "text": [
      "/home/wrfadmin/.local/lib/python3.10/site-packages/geopandas/array.py:1406: UserWarning: CRS not set for some of the concatenation inputs. Setting output's CRS as ETRS89 / UTM zone 32N (the single non-null crs provided).\n",
      "  warnings.warn(\n"
     ]
    },
    {
     "name": "stdout",
     "output_type": "stream",
     "text": [
      "Index number of the read DTM file = 1\n",
      "Index number of the read DTM file = 2\n",
      "Index number of the read DTM file = 3\n",
      "Index number of the read DTM file = 4\n",
      "Index number of the read DTM file = 5\n",
      "Index number of the read DTM file = 6\n",
      "Index number of the read DTM file = 7\n",
      "Index number of the read DTM file = 8\n",
      "Index number of the read DTM file = 9\n",
      "Index number of the read DTM file = 10\n",
      "Index number of the read DTM file = 11\n",
      "Index number of the read DTM file = 12\n",
      "Index number of the read DTM file = 13\n",
      "Index number of the read DTM file = 14\n",
      "Index number of the read DTM file = 15\n",
      "Index number of the read DTM file = 16\n",
      "Index number of the read DTM file = 17\n",
      "Index number of the read DTM file = 18\n",
      "Index number of the read DTM file = 19\n",
      "Index number of the read DTM file = 20\n",
      "Index number of the read DTM file = 21\n",
      "Index number of the read DTM file = 22\n",
      "Index number of the read DTM file = 23\n",
      "Index number of the read DTM file = 24\n",
      "Index number of the read DTM file = 25\n",
      "Index number of the read DTM file = 26\n",
      "Index number of the read DTM file = 27\n",
      "Index number of the read DTM file = 28\n",
      "Index number of the read DTM file = 29\n",
      "Index number of the read DSM file = 0\n"
     ]
    },
    {
     "name": "stderr",
     "output_type": "stream",
     "text": [
      "/home/wrfadmin/.local/lib/python3.10/site-packages/geopandas/array.py:1406: UserWarning: CRS not set for some of the concatenation inputs. Setting output's CRS as ETRS89 / UTM zone 32N (the single non-null crs provided).\n",
      "  warnings.warn(\n"
     ]
    },
    {
     "name": "stdout",
     "output_type": "stream",
     "text": [
      "Index number of the read DSM file = 1\n",
      "Index number of the read DSM file = 2\n",
      "Index number of the read DSM file = 3\n",
      "Index number of the read DSM file = 4\n",
      "Index number of the read DSM file = 5\n",
      "Index number of the read DSM file = 6\n",
      "Index number of the read DSM file = 7\n",
      "Index number of the read DSM file = 8\n",
      "Index number of the read DSM file = 9\n",
      "Index number of the read DSM file = 10\n",
      "Index number of the read DSM file = 11\n",
      "Index number of the read DSM file = 12\n",
      "Index number of the read DSM file = 13\n",
      "Index number of the read DSM file = 14\n",
      "Index number of the read DSM file = 15\n",
      "Index number of the read DSM file = 16\n",
      "Index number of the read DSM file = 17\n",
      "Index number of the read DSM file = 18\n",
      "Index number of the read DSM file = 19\n",
      "Index number of the read DSM file = 20\n",
      "Index number of the read DSM file = 21\n",
      "Index number of the read DSM file = 22\n",
      "Index number of the read DSM file = 23\n",
      "Index number of the read DSM file = 24\n",
      "Index number of the read DSM file = 25\n",
      "Index number of the read DSM file = 26\n",
      "Index number of the read DSM file = 27\n",
      "Index number of the read DSM file = 28\n",
      "Index number of the read DSM file = 29\n",
      "CPU times: user 1min 37s, sys: 39.1 s, total: 2min 16s\n",
      "Wall time: 2min 31s\n"
     ]
    }
   ],
   "source": [
    "%%time\n",
    "# extractin .xyz files asspacited with the DTM and DSM data and convert them to geo-files and later concat them.\n",
    "\n",
    "# geodataframe containg DTM and DSM\n",
    "gdtm = gpd.GeoDataFrame(columns = ['x','y','z','geometry'], geometry = 'geometry')\n",
    "gdsm = gpd.GeoDataFrame(columns = ['x','y','z','geometry'], geometry = 'geometry')\n",
    "\n",
    "for dtm in dtmfiles: #dtmfiles[:1]\n",
    "    print('Index number of the read DTM file = ' + str(dtmfiles.index(dtm)))\n",
    "    df = []\n",
    "    df = pd.read_table(dtm, delim_whitespace=True, names=['x', 'y', 'z'])\n",
    "    gdtm = pd.concat([gdtm,\n",
    "                      gpd.GeoDataFrame(df, \n",
    "                                       crs = 'epsg:25832', \n",
    "                                       geometry = gpd.points_from_xy(df.x,df.y))], \n",
    "                     ignore_index=True)\n",
    "\n",
    "for dsm in dsmfiles:\n",
    "    print('Index number of the read DSM file = ' + str(dsmfiles.index(dsm)))\n",
    "    df = []\n",
    "    df = pd.read_table(dsm, delim_whitespace=True, names=['x', 'y', 'z'])\n",
    "    gdsm = pd.concat([gdsm,\n",
    "                      gpd.GeoDataFrame(df, \n",
    "                                       crs = 'epsg:25832', \n",
    "                                       geometry = gpd.points_from_xy(df.x,df.y))], \n",
    "                     ignore_index=True)\n",
    "\n",
    "# .buffer(1,cap_style = 3)"
   ]
  },
  {
   "cell_type": "markdown",
   "id": "e124d295",
   "metadata": {},
   "source": [
    "#### Extraction of building geometries from openstreetmap"
   ]
  },
  {
   "cell_type": "code",
   "execution_count": 6,
   "id": "a8f53443",
   "metadata": {},
   "outputs": [
    {
     "name": "stdout",
     "output_type": "stream",
     "text": [
      "CPU times: user 1min, sys: 5.61 s, total: 1min 6s\n",
      "Wall time: 1min 6s\n"
     ]
    }
   ],
   "source": [
    "%%time\n",
    "# Setting a boundary box for the city of Halle in Germany\n",
    "# south, east, north, west = [51.3617,12.2793,51.5837,11.6651]\n",
    "south, east, north, west = (51.3435, 12.5023, 51.6020, 11.4419)\n",
    "\n",
    "# Extracting data associated with building\n",
    "buildings = ox.geometries_from_bbox(north, south, east, west, tags = {'building': True})\n",
    "\n",
    "# attributes of interest associated with buildings\n",
    "bcols = ['geometry', 'building', 'building:levels']\n",
    "bdata = buildings[bcols]\n",
    "\n",
    "# extracting only polygon geometries for buildigns\n",
    "bdata = bdata[bdata['geometry'].geom_type == 'Polygon']"
   ]
  },
  {
   "cell_type": "code",
   "execution_count": 7,
   "id": "d6858747-d6f6-4a5a-b22a-ea435174016e",
   "metadata": {
    "tags": []
   },
   "outputs": [
    {
     "data": {
      "text/plain": [
       "<Geographic 2D CRS: EPSG:4326>\n",
       "Name: WGS 84\n",
       "Axis Info [ellipsoidal]:\n",
       "- Lat[north]: Geodetic latitude (degree)\n",
       "- Lon[east]: Geodetic longitude (degree)\n",
       "Area of Use:\n",
       "- name: World.\n",
       "- bounds: (-180.0, -90.0, 180.0, 90.0)\n",
       "Datum: World Geodetic System 1984 ensemble\n",
       "- Ellipsoid: WGS 84\n",
       "- Prime Meridian: Greenwich"
      ]
     },
     "execution_count": 7,
     "metadata": {},
     "output_type": "execute_result"
    }
   ],
   "source": [
    "bdata.crs"
   ]
  },
  {
   "cell_type": "markdown",
   "id": "1449c1ce-5646-4d65-b040-1b407963d0c0",
   "metadata": {},
   "source": [
    "## Clipping"
   ]
  },
  {
   "cell_type": "code",
   "execution_count": 8,
   "id": "166c5878-98ba-450b-9cfe-2531e5d3529d",
   "metadata": {
    "tags": []
   },
   "outputs": [],
   "source": [
    "# Load administrative boundary \n",
    "border = gpd.read_file('halle.geojson')"
   ]
  },
  {
   "cell_type": "code",
   "execution_count": 9,
   "id": "ecb03f6b-5fc9-4d2f-98ad-a02d512d2973",
   "metadata": {
    "tags": []
   },
   "outputs": [
    {
     "data": {
      "text/plain": [
       "<Geographic 2D CRS: EPSG:4326>\n",
       "Name: WGS 84\n",
       "Axis Info [ellipsoidal]:\n",
       "- Lat[north]: Geodetic latitude (degree)\n",
       "- Lon[east]: Geodetic longitude (degree)\n",
       "Area of Use:\n",
       "- name: World.\n",
       "- bounds: (-180.0, -90.0, 180.0, 90.0)\n",
       "Datum: World Geodetic System 1984 ensemble\n",
       "- Ellipsoid: WGS 84\n",
       "- Prime Meridian: Greenwich"
      ]
     },
     "execution_count": 9,
     "metadata": {},
     "output_type": "execute_result"
    }
   ],
   "source": [
    "border.crs"
   ]
  },
  {
   "cell_type": "code",
   "execution_count": 10,
   "id": "57bec9f9-f51c-494a-a9f0-e9cb0f855d6a",
   "metadata": {
    "tags": []
   },
   "outputs": [
    {
     "name": "stderr",
     "output_type": "stream",
     "text": [
      "/home/wrfadmin/.local/lib/python3.10/site-packages/geopandas/tools/clip.py:67: DeprecationWarning: In a future version, `df.iloc[:, i] = newvals` will attempt to set the values inplace instead of always setting a new array. To retain the old behavior, use either `df[df.columns[i]] = newvals` or, if columns are non-unique, `df.isetitem(i, newvals)`\n",
      "  clipped.loc[\n"
     ]
    }
   ],
   "source": [
    "bdata = gpd.clip(bdata, border)"
   ]
  },
  {
   "cell_type": "code",
   "execution_count": 11,
   "id": "bd6c0319-7f98-4d7c-b3b0-6a4914af76c7",
   "metadata": {
    "tags": []
   },
   "outputs": [
    {
     "data": {
      "text/plain": [
       "<Geographic 2D CRS: EPSG:4326>\n",
       "Name: WGS 84\n",
       "Axis Info [ellipsoidal]:\n",
       "- Lat[north]: Geodetic latitude (degree)\n",
       "- Lon[east]: Geodetic longitude (degree)\n",
       "Area of Use:\n",
       "- name: World.\n",
       "- bounds: (-180.0, -90.0, 180.0, 90.0)\n",
       "Datum: World Geodetic System 1984 ensemble\n",
       "- Ellipsoid: WGS 84\n",
       "- Prime Meridian: Greenwich"
      ]
     },
     "execution_count": 11,
     "metadata": {},
     "output_type": "execute_result"
    }
   ],
   "source": [
    "bdata.crs"
   ]
  },
  {
   "cell_type": "code",
   "execution_count": 12,
   "id": "11267696-cd9c-4db7-9c4e-c76e7a03a59a",
   "metadata": {
    "tags": []
   },
   "outputs": [
    {
     "data": {
      "text/plain": [
       "40644"
      ]
     },
     "execution_count": 12,
     "metadata": {},
     "output_type": "execute_result"
    }
   ],
   "source": [
    "len(bdata)"
   ]
  },
  {
   "cell_type": "code",
   "execution_count": 13,
   "id": "f6059186-64cc-4950-b274-bfe0bb85fe6c",
   "metadata": {
    "tags": []
   },
   "outputs": [],
   "source": [
    "bdata = bdata.to_crs(epsg=25832)"
   ]
  },
  {
   "cell_type": "code",
   "execution_count": 14,
   "id": "31a84832-007a-4c70-8cd5-6bb6f7d29a88",
   "metadata": {
    "tags": []
   },
   "outputs": [
    {
     "data": {
      "text/plain": [
       "<Derived Projected CRS: EPSG:25832>\n",
       "Name: ETRS89 / UTM zone 32N\n",
       "Axis Info [cartesian]:\n",
       "- E[east]: Easting (metre)\n",
       "- N[north]: Northing (metre)\n",
       "Area of Use:\n",
       "- name: Europe between 6°E and 12°E: Austria; Belgium; Denmark - onshore and offshore; Germany - onshore and offshore; Norway including - onshore and offshore; Spain - offshore.\n",
       "- bounds: (6.0, 38.76, 12.01, 84.33)\n",
       "Coordinate Operation:\n",
       "- name: UTM zone 32N\n",
       "- method: Transverse Mercator\n",
       "Datum: European Terrestrial Reference System 1989 ensemble\n",
       "- Ellipsoid: GRS 1980\n",
       "- Prime Meridian: Greenwich"
      ]
     },
     "execution_count": 14,
     "metadata": {},
     "output_type": "execute_result"
    }
   ],
   "source": [
    "bdata.crs"
   ]
  },
  {
   "cell_type": "markdown",
   "id": "adc1b4ac",
   "metadata": {},
   "source": [
    "#### Carrying out a series of GIS processing"
   ]
  },
  {
   "cell_type": "code",
   "execution_count": 15,
   "id": "62678461",
   "metadata": {},
   "outputs": [
    {
     "name": "stdout",
     "output_type": "stream",
     "text": [
      "CPU times: user 8min 2s, sys: 40.9 s, total: 8min 43s\n",
      "Wall time: 9min 36s\n"
     ]
    }
   ],
   "source": [
    "%%time\n",
    "# droping DTM and DSM points that are not overlaying with building geometry\n",
    "# converting decimal degree to meter via \".to_crs(epsg=3763)\"\n",
    "# for i in ['gdtm','gdsm']:\n",
    "#     locals()['b_'+i] = gpd.overlay(bdata.to_crs(epsg=25832).reset_index(),\n",
    "#                                    locals()[i].set_crs(epsg=25832), \n",
    "#                                    how='intersection',\n",
    "#                                    keep_geom_type=False)\n",
    "for i in ['gdtm','gdsm']:\n",
    "    locals()['b_'+i] = gpd.overlay(bdata.reset_index(),\n",
    "                                   locals()[i].set_crs(epsg=25832), \n",
    "                                   how='intersection',\n",
    "                                   keep_geom_type=False)\n",
    "\n",
    "# buffering (2-by-2 meter) remaining points from the previous transformer that are within the geometry of buildings\n",
    "for i in ['b_gdtm','b_gdsm']:\n",
    "    dum = []\n",
    "    dum = locals()[i].copy()\n",
    "    \n",
    "    del dum['geometry']\n",
    "    dum['geometry'] = Polygon([(0, 0), (0, 0), (0, 0)])\n",
    "    dum['geometry'] = locals()[i].buffer(1,cap_style = 3)\n",
    "    locals()['b'+i] = dum\n",
    "\n",
    "# # filltering out buffered points that are not 100% within the building geometry\n",
    "# for i in ['bb_gdtm','bb_gdsm']:\n",
    "    \n",
    "#     dum = []\n",
    "#     dum = gpd.overlay(bdata.to_crs(epsg=25832).reset_index(),\n",
    "#                       locals()[i][['x','y','z','geometry']],\n",
    "#                       how='intersection',\n",
    "#                       keep_geom_type=False)\n",
    "    \n",
    "#     locals()['bbw'+i[-5:]] = dum[dum.area == 4]\n",
    "# filltering out buffered points that are not 100% within the building geometry\n",
    "for i in ['bb_gdtm','bb_gdsm']:\n",
    "    \n",
    "    dum = []\n",
    "    dum = gpd.overlay(bdata.reset_index(),\n",
    "                      locals()[i][['x','y','z','geometry']],\n",
    "                      how='intersection',\n",
    "                      keep_geom_type=False)\n",
    "    \n",
    "    locals()['bbw'+i[-5:]] = dum[dum.area == 4]\n",
    "\n",
    "\n",
    "# intersecting DTM and DSM\n",
    "dem = gpd.overlay(bbw_gdtm[['osmid','building','building:levels','x','y','z','geometry']],\n",
    "                  bbw_gdsm[['z','geometry']],\n",
    "                  how='intersection',\n",
    "                  keep_geom_type=False)\n",
    "\n",
    "# calculating the difference \n",
    "dem['z_meter'] = (dem['z_2']-dem['z_1']).astype(float)"
   ]
  },
  {
   "cell_type": "markdown",
   "id": "21242e16-b6c1-4d64-8ac5-4b763e61dd51",
   "metadata": {},
   "source": [
    "## Reproject "
   ]
  },
  {
   "cell_type": "code",
   "execution_count": 16,
   "id": "3657d4f2-57a0-4686-9433-c13985651a94",
   "metadata": {
    "tags": []
   },
   "outputs": [],
   "source": [
    "dem = dem.to_crs(epsg=3035)"
   ]
  },
  {
   "cell_type": "markdown",
   "id": "a4531729",
   "metadata": {},
   "source": [
    "#### Estimation of building height\n",
    "In this approach, the created DEM file is grouped by building's 'OSM ID's and then mean, median, min, and max are calculated."
   ]
  },
  {
   "cell_type": "code",
   "execution_count": 17,
   "id": "8cb99dc1",
   "metadata": {
    "scrolled": true
   },
   "outputs": [],
   "source": [
    "save_dir = '.'\n",
    "\n",
    "# dissolving the created \"dem\" dataframe by DTM x and y \n",
    "dem_diss_b = dem.dissolve(by=['osmid', 'building'], \n",
    "                        aggfunc = {'z_meter': 'mean'\n",
    "                                  })\n",
    "\n",
    "# save as shapefile\n",
    "dem_diss_b.to_file(os.path.join(upath , save_dir, 'dem_diss_b.shp'))"
   ]
  },
  {
   "cell_type": "code",
   "execution_count": 18,
   "id": "73c224b2-8bbc-44d1-86cd-c0b722490918",
   "metadata": {},
   "outputs": [],
   "source": [
    "# with open('dem_diss_b.geojson', 'w') as fout:\n",
    "#     fout.write(dem_diss_b.to_json())"
   ]
  },
  {
   "cell_type": "markdown",
   "id": "1cb099d3",
   "metadata": {},
   "source": [
    "#### CUBE representation of DEM  (creating a raster file using DTM as the reference geometry)\n",
    "In this approach, the created DEM file is grouped by DTM's 'x' and 'y' coordinates and later the mean of heights associated with DTM and DSM are calculated. NB. here, CUBEs that are not 2-by-2 are filtered out."
   ]
  },
  {
   "cell_type": "code",
   "execution_count": 19,
   "id": "a64e6471",
   "metadata": {},
   "outputs": [],
   "source": [
    "# dissolving the created \"dem\" dataframe by DTM x and y \n",
    "dem_diss_c = dem.dissolve(by=['x','y'], \n",
    "                          aggfunc = {'osmid': 'mean',\n",
    "                                     'building': 'first',\n",
    "                                     'z_1': 'mean',\n",
    "                                     'z_2': 'mean',\n",
    "                                     'z_meter': 'mean'\n",
    "                                    })\n",
    "# rename some columns\n",
    "dem_diss_c = dem_diss_c.rename(columns = {'z_1':'z_terrain',\n",
    "                                          'z_2': 'z_surface'})\n",
    "\n",
    "\n",
    "\n",
    "# save as shapefile\n",
    "dem_diss_c.to_file(os.path.join(upath , save_dir, 'dem_diss_c.shp'))"
   ]
  },
  {
   "cell_type": "code",
   "execution_count": 20,
   "id": "ce4e1efa-9126-42d6-8d34-105fe5a7ed72",
   "metadata": {
    "tags": []
   },
   "outputs": [
    {
     "data": {
      "text/plain": [
       "['geometry', 'osmid', 'building', 'z_terrain', 'z_surface', 'z_meter']"
      ]
     },
     "execution_count": 20,
     "metadata": {},
     "output_type": "execute_result"
    }
   ],
   "source": [
    "dem_diss_c.columns.tolist()"
   ]
  },
  {
   "cell_type": "markdown",
   "id": "174affe8-2703-49f3-aeff-94c7a7dfb541",
   "metadata": {},
   "source": [
    "## Rasterization"
   ]
  },
  {
   "cell_type": "code",
   "execution_count": 21,
   "id": "9d478d62-09c2-4cd9-a0cf-280ef45365e2",
   "metadata": {
    "tags": []
   },
   "outputs": [],
   "source": [
    "from geocube.api.core import make_geocube"
   ]
  },
  {
   "cell_type": "code",
   "execution_count": 22,
   "id": "6096cc3f-006e-4b7f-8dab-41c40ca55f88",
   "metadata": {
    "tags": []
   },
   "outputs": [],
   "source": [
    "# Rasterize\n",
    "rastheights = make_geocube(vector_data=dem_diss_c, measurements=['z_meter'], resolution=[-10, 10], fill=65535)"
   ]
  },
  {
   "cell_type": "code",
   "execution_count": 23,
   "id": "b9289a93-22f8-4102-a057-01e233917172",
   "metadata": {
    "tags": []
   },
   "outputs": [],
   "source": [
    "rastheights.rio.to_raster('dem_dtm_heights.tiff',  driver='GTiff')"
   ]
  },
  {
   "cell_type": "code",
   "execution_count": null,
   "id": "e08833ac-ec92-4f84-a965-e525326ce56e",
   "metadata": {},
   "outputs": [],
   "source": []
  }
 ],
 "metadata": {
  "kernelspec": {
   "display_name": "Python 3 (ipykernel)",
   "language": "python",
   "name": "python3"
  },
  "language_info": {
   "codemirror_mode": {
    "name": "ipython",
    "version": 3
   },
   "file_extension": ".py",
   "mimetype": "text/x-python",
   "name": "python",
   "nbconvert_exporter": "python",
   "pygments_lexer": "ipython3",
   "version": "3.10.6"
  }
 },
 "nbformat": 4,
 "nbformat_minor": 5
}
