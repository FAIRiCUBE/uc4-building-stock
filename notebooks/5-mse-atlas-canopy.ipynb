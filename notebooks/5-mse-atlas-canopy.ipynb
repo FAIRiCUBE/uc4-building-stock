{
 "cells": [
  {
   "cell_type": "markdown",
   "id": "7be17f54-e628-4cca-ae0a-1c480b13fe83",
   "metadata": {},
   "source": [
    "# COMPUTATION OF MSE BETWEEN ATLAS AND CANOPY DATA"
   ]
  },
  {
   "cell_type": "markdown",
   "id": "dbf802da-38ff-42d6-aa05-dd851879fea0",
   "metadata": {},
   "source": [
    "<div class=\"alert alert-block alert-warning\">\n",
    "    Purpose: Compute the Mean Squared Error (MSE) between the heights in the Halle urban atlas 2012 data layer and heights estimated as the difference between DEM and DTM.\n",
    "</div>"
   ]
  },
  {
   "cell_type": "code",
   "execution_count": 1,
   "id": "b733694e-0ee7-458f-a2b7-ad5f3e675c38",
   "metadata": {
    "tags": []
   },
   "outputs": [],
   "source": [
    "import enum\n",
    "import numpy as np\n",
    "from osgeo import gdal\n",
    "from osgeo.gdalconst import GA_ReadOnly\n",
    "import rasterio"
   ]
  },
  {
   "cell_type": "code",
   "execution_count": 2,
   "id": "a5a93498-f6e3-473e-8db1-c6432e469e53",
   "metadata": {
    "tags": []
   },
   "outputs": [],
   "source": [
    "def openRaster(fn, access=0):\n",
    "    ds = gdal.Open(fn, access)\n",
    "    if ds is None:\n",
    "        print(\"Error opening raster dataset\")\n",
    "    return ds\n",
    "    \n",
    "def getRasterBand(fn, band=1):\n",
    "    ds = openRaster(fn)\n",
    "    band = ds.GetRasterBand(1).ReadAsArray()\n",
    "    return band\n",
    "    \n",
    "def createRasterFromCopy(fn, ds, data, driverFmt=\"GTiff\"):\n",
    "    driver = gdal.GetDriverByName(driverFmt)\n",
    "    outds = driver.CreateCopy(fn, ds, strict=0)\n",
    "    outds.GetRasterBand(1).WriteArray(data)\n",
    "    ds=None\n",
    "    outds=None\n",
    "\n",
    "def plot(ds, title):\n",
    "    fig, ax = plt.subplots(figsize=(12, 10))\n",
    "    ds.plot(ax=ax)\n",
    "    ax.set_title(title)\n",
    "    ax.set_xlabel('Longitude [deg]')\n",
    "    ax.set_ylabel('Latitude [deg]')\n",
    "    \n",
    "class GdalDTypes(enum.Enum):\n",
    "    \"\"\" Class to map GDAL data types to numpy\"\"\"\n",
    "    uint8 = 1\n",
    "    int8 = 1\n",
    "    uint16 = 2\n",
    "    int16 = 3\n",
    "    uint32 = 4\n",
    "    int32 = 5\n",
    "    float32 = 6\n",
    "    float64 = 7\n",
    "    complex64 =  10\n",
    "    complex128 = 11\n",
    "    \n",
    "# TODO: Make a dataclass    \n",
    "def print_raster_info(ds, name=None):\n",
    "    if name: \n",
    "        print(name)\n",
    "    print(f'shape: {raster_shape(ds)}')\n",
    "    print(f'dtype: {raster_dtype(ds)}\\n')    \n",
    "    \n",
    "def raster_shape(ds):\n",
    "    return (ds.RasterCount, ds.RasterXSize, ds.RasterYSize)\n",
    "\n",
    "def raster_dtype(ds):\n",
    "    return GdalDTypes(ds.GetRasterBand(1).DataType).name"
   ]
  },
  {
   "cell_type": "code",
   "execution_count": 3,
   "id": "e1a936c6-79cc-417a-82b2-ae3c5aac3ffa",
   "metadata": {
    "tags": []
   },
   "outputs": [],
   "source": [
    "atlasimgpath = 'halle_urban_atlas_2012.tiff'\n",
    "canimgpath = 'dem_dtm_heights.tiff'"
   ]
  },
  {
   "cell_type": "code",
   "execution_count": 4,
   "id": "2d5fee48-8f39-4f95-8a64-fe2716f30709",
   "metadata": {
    "tags": []
   },
   "outputs": [],
   "source": [
    "atlasds = gdal.Open(atlasimgpath)\n",
    "canpyds = gdal.Open(canimgpath)"
   ]
  },
  {
   "cell_type": "markdown",
   "id": "36acb838-61c1-432d-b3ae-a826b71c8bb6",
   "metadata": {},
   "source": [
    "## Basic layer info"
   ]
  },
  {
   "cell_type": "code",
   "execution_count": 5,
   "id": "ca2a7926-05bf-4987-a4e5-6802501d2e12",
   "metadata": {
    "tags": []
   },
   "outputs": [
    {
     "name": "stdout",
     "output_type": "stream",
     "text": [
      "Atlas\n",
      "shape: (1, 1575, 1466)\n",
      "dtype: uint16\n",
      "\n"
     ]
    }
   ],
   "source": [
    "print_raster_info(atlasds, 'Atlas')"
   ]
  },
  {
   "cell_type": "code",
   "execution_count": 6,
   "id": "4594bc1c-1edc-445d-b41d-c28e96f20f04",
   "metadata": {
    "tags": []
   },
   "outputs": [
    {
     "name": "stdout",
     "output_type": "stream",
     "text": [
      "DEM-DTM\n",
      "shape: (1, 1202, 1011)\n",
      "dtype: float64\n",
      "\n"
     ]
    }
   ],
   "source": [
    "print_raster_info(canpyds, 'DEM-DTM')"
   ]
  },
  {
   "cell_type": "markdown",
   "id": "738598a6-2819-40eb-9469-ba7375636a5f",
   "metadata": {},
   "source": [
    "<font color=red> **REMARK:** The dtypes and shapes of the two raster layers are different</font>"
   ]
  },
  {
   "cell_type": "markdown",
   "id": "44be4712-6269-44ce-b4e4-617db8ab3b84",
   "metadata": {},
   "source": [
    "## Data type conversion"
   ]
  },
  {
   "cell_type": "code",
   "execution_count": 7,
   "id": "c4d44d47-10ca-48e8-993c-b8f48159447b",
   "metadata": {
    "tags": []
   },
   "outputs": [],
   "source": [
    "dstfile = \"uint16_dem_dtm_heights.tiff\""
   ]
  },
  {
   "cell_type": "code",
   "execution_count": 8,
   "id": "9b7dceb6-fee1-4875-aeb6-e71dc5616796",
   "metadata": {
    "tags": []
   },
   "outputs": [
    {
     "data": {
      "text/plain": [
       "osgeo.gdal.Dataset"
      ]
     },
     "execution_count": 8,
     "metadata": {},
     "output_type": "execute_result"
    }
   ],
   "source": [
    "type(canpyds)"
   ]
  },
  {
   "cell_type": "code",
   "execution_count": 9,
   "id": "1e57a5ed-ceea-4431-bd53-9fe0cb9738d3",
   "metadata": {
    "tags": []
   },
   "outputs": [],
   "source": [
    "srcdata = canpyds.ReadAsArray()"
   ]
  },
  {
   "cell_type": "code",
   "execution_count": 10,
   "id": "9b6855f9-b54b-4965-8793-676fe07c3066",
   "metadata": {
    "tags": []
   },
   "outputs": [
    {
     "data": {
      "text/plain": [
       "dtype('float64')"
      ]
     },
     "execution_count": 10,
     "metadata": {},
     "output_type": "execute_result"
    }
   ],
   "source": [
    "srcdata.dtype"
   ]
  },
  {
   "cell_type": "code",
   "execution_count": 11,
   "id": "36516274-b36b-4a46-b4a5-e1c7c4b2c3a6",
   "metadata": {
    "tags": []
   },
   "outputs": [],
   "source": [
    "dstdata = srcdata.astype('uint16')"
   ]
  },
  {
   "cell_type": "code",
   "execution_count": 12,
   "id": "86723f8b-512f-4214-bc47-b30d0922b28a",
   "metadata": {
    "tags": []
   },
   "outputs": [
    {
     "data": {
      "text/plain": [
       "array([[65535, 65535, 65535, ..., 65535, 65535, 65535],\n",
       "       [65535, 65535, 65535, ..., 65535, 65535, 65535],\n",
       "       [65535, 65535, 65535, ..., 65535, 65535, 65535],\n",
       "       ...,\n",
       "       [65535, 65535, 65535, ..., 65535, 65535, 65535],\n",
       "       [65535, 65535, 65535, ..., 65535, 65535, 65535],\n",
       "       [65535, 65535, 65535, ..., 65535, 65535, 65535]], dtype=uint16)"
      ]
     },
     "execution_count": 12,
     "metadata": {},
     "output_type": "execute_result"
    }
   ],
   "source": [
    "dstdata"
   ]
  },
  {
   "cell_type": "code",
   "execution_count": 13,
   "id": "f58efd94-b8bc-43f6-a7d7-3808637ea2cf",
   "metadata": {
    "tags": []
   },
   "outputs": [
    {
     "data": {
      "text/plain": [
       "(0, 65535)"
      ]
     },
     "execution_count": 13,
     "metadata": {},
     "output_type": "execute_result"
    }
   ],
   "source": [
    "dstdata.min(), dstdata.max()"
   ]
  },
  {
   "cell_type": "code",
   "execution_count": 14,
   "id": "973921f0-1498-44ef-b2da-74a668b907ce",
   "metadata": {
    "tags": []
   },
   "outputs": [],
   "source": [
    "# Get canopy parameters to be transfered to the new data type\n",
    "geotransform = canpyds.GetGeoTransform()\n",
    "spatialreference = canpyds.GetProjection()\n",
    "nband, ncol, nrow = raster_shape(canpyds)"
   ]
  },
  {
   "cell_type": "code",
   "execution_count": 15,
   "id": "d5eb18c4-e026-49a0-8500-eb98107544d1",
   "metadata": {
    "tags": []
   },
   "outputs": [],
   "source": [
    "# Parameters for output dataset\n",
    "driver_name = 'GTiff'\n",
    "driver = gdal.GetDriverByName(driver_name)\n",
    "dstds = driver.Create(dstfile, ncol, nrow, nband, gdal.GDT_UInt16)\n",
    "dstds.SetGeoTransform(geotransform)\n",
    "dstds.SetProjection(spatialreference)\n",
    "dstds.GetRasterBand(1).WriteArray(dstdata)\n",
    "dstds = None"
   ]
  },
  {
   "cell_type": "code",
   "execution_count": 16,
   "id": "9a8218f2-ee9e-4b08-8055-b0dbb1074ebc",
   "metadata": {
    "tags": []
   },
   "outputs": [],
   "source": [
    "uint16cands = gdal.Open(dstfile)"
   ]
  },
  {
   "cell_type": "code",
   "execution_count": 17,
   "id": "9f7f9d8f-af39-4e0f-899b-e7ff936d9d62",
   "metadata": {
    "tags": []
   },
   "outputs": [
    {
     "name": "stdout",
     "output_type": "stream",
     "text": [
      "shape: (1, 1202, 1011)\n",
      "dtype: uint16\n",
      "\n"
     ]
    }
   ],
   "source": [
    "print_raster_info(uint16cands)"
   ]
  },
  {
   "cell_type": "markdown",
   "id": "2be6c54d-0e2f-4709-a25c-2f08af7cd595",
   "metadata": {},
   "source": [
    "## Clipping of atlas tiff"
   ]
  },
  {
   "cell_type": "code",
   "execution_count": 18,
   "id": "9ed3c236-c175-42a6-aa60-3eeaca064505",
   "metadata": {
    "tags": []
   },
   "outputs": [
    {
     "name": "stdout",
     "output_type": "stream",
     "text": [
      "[4451610.0, 3148570.0, 4463630.0, 3158680.0]\n"
     ]
    }
   ],
   "source": [
    "geoTransform = canpyds.GetGeoTransform()\n",
    "minx = geoTransform[0]\n",
    "maxy = geoTransform[3]\n",
    "maxx = minx + geoTransform[1] * canpyds.RasterXSize\n",
    "miny = maxy + geoTransform[5] * canpyds.RasterYSize\n",
    "print([minx, miny, maxx, maxy])\n",
    "# canpyds = None"
   ]
  },
  {
   "cell_type": "code",
   "execution_count": 19,
   "id": "9a8ca5a7-9ad3-44e6-b94b-18d7a2a6441f",
   "metadata": {
    "tags": []
   },
   "outputs": [
    {
     "data": {
      "text/plain": [
       "[4451610.0, 3148570.0, 4463630.0, 3158680.0]"
      ]
     },
     "execution_count": 19,
     "metadata": {},
     "output_type": "execute_result"
    }
   ],
   "source": [
    "[minx, miny, maxx, maxy]"
   ]
  },
  {
   "cell_type": "code",
   "execution_count": 20,
   "id": "3b238133-f63e-4ca2-8d5f-9c71bdf4be28",
   "metadata": {
    "tags": []
   },
   "outputs": [],
   "source": [
    "# Hrizontal and vertical resolutions\n",
    "xRes = geoTransform[1]\n",
    "yRes = -geoTransform[5]"
   ]
  },
  {
   "cell_type": "code",
   "execution_count": 21,
   "id": "70af26b3-a8ab-4f07-9851-c8839c28fb64",
   "metadata": {
    "tags": []
   },
   "outputs": [
    {
     "data": {
      "text/plain": [
       "(10.0, 10.0)"
      ]
     },
     "execution_count": 21,
     "metadata": {},
     "output_type": "execute_result"
    }
   ],
   "source": [
    "xRes, yRes"
   ]
  },
  {
   "cell_type": "code",
   "execution_count": 22,
   "id": "5273e719-489c-4d04-a6a7-a08af8cda813",
   "metadata": {
    "tags": []
   },
   "outputs": [
    {
     "data": {
      "text/plain": [
       "\u001b[0;31mSignature:\u001b[0m \u001b[0mgdal\u001b[0m\u001b[0;34m.\u001b[0m\u001b[0mTranslate\u001b[0m\u001b[0;34m(\u001b[0m\u001b[0mdestName\u001b[0m\u001b[0;34m,\u001b[0m \u001b[0msrcDS\u001b[0m\u001b[0;34m,\u001b[0m \u001b[0;34m**\u001b[0m\u001b[0mkwargs\u001b[0m\u001b[0;34m)\u001b[0m\u001b[0;34m\u001b[0m\u001b[0;34m\u001b[0m\u001b[0m\n",
       "\u001b[0;31mDocstring:\u001b[0m\n",
       "Convert a dataset.\n",
       "Arguments are :\n",
       "  destName --- Output dataset name\n",
       "  srcDS --- a Dataset object or a filename\n",
       "Keyword arguments are :\n",
       "  options --- return of gdal.TranslateOptions(), string or array of strings\n",
       "  other keywords arguments of gdal.TranslateOptions()\n",
       "If options is provided as a gdal.TranslateOptions() object, other keywords are ignored. \n",
       "\u001b[0;31mFile:\u001b[0m      ~/.local/lib/python3.10/site-packages/osgeo/gdal.py\n",
       "\u001b[0;31mType:\u001b[0m      function"
      ]
     },
     "metadata": {},
     "output_type": "display_data"
    }
   ],
   "source": [
    "gdal.Translate?"
   ]
  },
  {
   "cell_type": "code",
   "execution_count": 23,
   "id": "4f1f3710-607c-414d-ae51-a47d5436f33f",
   "metadata": {
    "tags": []
   },
   "outputs": [
    {
     "data": {
      "text/plain": [
       "\u001b[0;31mSignature:\u001b[0m\n",
       "\u001b[0mgdal\u001b[0m\u001b[0;34m.\u001b[0m\u001b[0mTranslateOptions\u001b[0m\u001b[0;34m(\u001b[0m\u001b[0;34m\u001b[0m\n",
       "\u001b[0;34m\u001b[0m    \u001b[0moptions\u001b[0m\u001b[0;34m=\u001b[0m\u001b[0;32mNone\u001b[0m\u001b[0;34m,\u001b[0m\u001b[0;34m\u001b[0m\n",
       "\u001b[0;34m\u001b[0m    \u001b[0mformat\u001b[0m\u001b[0;34m=\u001b[0m\u001b[0;32mNone\u001b[0m\u001b[0;34m,\u001b[0m\u001b[0;34m\u001b[0m\n",
       "\u001b[0;34m\u001b[0m    \u001b[0moutputType\u001b[0m\u001b[0;34m=\u001b[0m\u001b[0;36m0\u001b[0m\u001b[0;34m,\u001b[0m\u001b[0;34m\u001b[0m\n",
       "\u001b[0;34m\u001b[0m    \u001b[0mbandList\u001b[0m\u001b[0;34m=\u001b[0m\u001b[0;32mNone\u001b[0m\u001b[0;34m,\u001b[0m\u001b[0;34m\u001b[0m\n",
       "\u001b[0;34m\u001b[0m    \u001b[0mmaskBand\u001b[0m\u001b[0;34m=\u001b[0m\u001b[0;32mNone\u001b[0m\u001b[0;34m,\u001b[0m\u001b[0;34m\u001b[0m\n",
       "\u001b[0;34m\u001b[0m    \u001b[0mwidth\u001b[0m\u001b[0;34m=\u001b[0m\u001b[0;36m0\u001b[0m\u001b[0;34m,\u001b[0m\u001b[0;34m\u001b[0m\n",
       "\u001b[0;34m\u001b[0m    \u001b[0mheight\u001b[0m\u001b[0;34m=\u001b[0m\u001b[0;36m0\u001b[0m\u001b[0;34m,\u001b[0m\u001b[0;34m\u001b[0m\n",
       "\u001b[0;34m\u001b[0m    \u001b[0mwidthPct\u001b[0m\u001b[0;34m=\u001b[0m\u001b[0;36m0.0\u001b[0m\u001b[0;34m,\u001b[0m\u001b[0;34m\u001b[0m\n",
       "\u001b[0;34m\u001b[0m    \u001b[0mheightPct\u001b[0m\u001b[0;34m=\u001b[0m\u001b[0;36m0.0\u001b[0m\u001b[0;34m,\u001b[0m\u001b[0;34m\u001b[0m\n",
       "\u001b[0;34m\u001b[0m    \u001b[0mxRes\u001b[0m\u001b[0;34m=\u001b[0m\u001b[0;36m0.0\u001b[0m\u001b[0;34m,\u001b[0m\u001b[0;34m\u001b[0m\n",
       "\u001b[0;34m\u001b[0m    \u001b[0myRes\u001b[0m\u001b[0;34m=\u001b[0m\u001b[0;36m0.0\u001b[0m\u001b[0;34m,\u001b[0m\u001b[0;34m\u001b[0m\n",
       "\u001b[0;34m\u001b[0m    \u001b[0mcreationOptions\u001b[0m\u001b[0;34m=\u001b[0m\u001b[0;32mNone\u001b[0m\u001b[0;34m,\u001b[0m\u001b[0;34m\u001b[0m\n",
       "\u001b[0;34m\u001b[0m    \u001b[0msrcWin\u001b[0m\u001b[0;34m=\u001b[0m\u001b[0;32mNone\u001b[0m\u001b[0;34m,\u001b[0m\u001b[0;34m\u001b[0m\n",
       "\u001b[0;34m\u001b[0m    \u001b[0mprojWin\u001b[0m\u001b[0;34m=\u001b[0m\u001b[0;32mNone\u001b[0m\u001b[0;34m,\u001b[0m\u001b[0;34m\u001b[0m\n",
       "\u001b[0;34m\u001b[0m    \u001b[0mprojWinSRS\u001b[0m\u001b[0;34m=\u001b[0m\u001b[0;32mNone\u001b[0m\u001b[0;34m,\u001b[0m\u001b[0;34m\u001b[0m\n",
       "\u001b[0;34m\u001b[0m    \u001b[0mstrict\u001b[0m\u001b[0;34m=\u001b[0m\u001b[0;32mFalse\u001b[0m\u001b[0;34m,\u001b[0m\u001b[0;34m\u001b[0m\n",
       "\u001b[0;34m\u001b[0m    \u001b[0munscale\u001b[0m\u001b[0;34m=\u001b[0m\u001b[0;32mFalse\u001b[0m\u001b[0;34m,\u001b[0m\u001b[0;34m\u001b[0m\n",
       "\u001b[0;34m\u001b[0m    \u001b[0mscaleParams\u001b[0m\u001b[0;34m=\u001b[0m\u001b[0;32mNone\u001b[0m\u001b[0;34m,\u001b[0m\u001b[0;34m\u001b[0m\n",
       "\u001b[0;34m\u001b[0m    \u001b[0mexponents\u001b[0m\u001b[0;34m=\u001b[0m\u001b[0;32mNone\u001b[0m\u001b[0;34m,\u001b[0m\u001b[0;34m\u001b[0m\n",
       "\u001b[0;34m\u001b[0m    \u001b[0moutputBounds\u001b[0m\u001b[0;34m=\u001b[0m\u001b[0;32mNone\u001b[0m\u001b[0;34m,\u001b[0m\u001b[0;34m\u001b[0m\n",
       "\u001b[0;34m\u001b[0m    \u001b[0mmetadataOptions\u001b[0m\u001b[0;34m=\u001b[0m\u001b[0;32mNone\u001b[0m\u001b[0;34m,\u001b[0m\u001b[0;34m\u001b[0m\n",
       "\u001b[0;34m\u001b[0m    \u001b[0moutputSRS\u001b[0m\u001b[0;34m=\u001b[0m\u001b[0;32mNone\u001b[0m\u001b[0;34m,\u001b[0m\u001b[0;34m\u001b[0m\n",
       "\u001b[0;34m\u001b[0m    \u001b[0mnogcp\u001b[0m\u001b[0;34m=\u001b[0m\u001b[0;32mFalse\u001b[0m\u001b[0;34m,\u001b[0m\u001b[0;34m\u001b[0m\n",
       "\u001b[0;34m\u001b[0m    \u001b[0mGCPs\u001b[0m\u001b[0;34m=\u001b[0m\u001b[0;32mNone\u001b[0m\u001b[0;34m,\u001b[0m\u001b[0;34m\u001b[0m\n",
       "\u001b[0;34m\u001b[0m    \u001b[0mnoData\u001b[0m\u001b[0;34m=\u001b[0m\u001b[0;32mNone\u001b[0m\u001b[0;34m,\u001b[0m\u001b[0;34m\u001b[0m\n",
       "\u001b[0;34m\u001b[0m    \u001b[0mrgbExpand\u001b[0m\u001b[0;34m=\u001b[0m\u001b[0;32mNone\u001b[0m\u001b[0;34m,\u001b[0m\u001b[0;34m\u001b[0m\n",
       "\u001b[0;34m\u001b[0m    \u001b[0mstats\u001b[0m\u001b[0;34m=\u001b[0m\u001b[0;32mFalse\u001b[0m\u001b[0;34m,\u001b[0m\u001b[0;34m\u001b[0m\n",
       "\u001b[0;34m\u001b[0m    \u001b[0mrat\u001b[0m\u001b[0;34m=\u001b[0m\u001b[0;32mTrue\u001b[0m\u001b[0;34m,\u001b[0m\u001b[0;34m\u001b[0m\n",
       "\u001b[0;34m\u001b[0m    \u001b[0mresampleAlg\u001b[0m\u001b[0;34m=\u001b[0m\u001b[0;32mNone\u001b[0m\u001b[0;34m,\u001b[0m\u001b[0;34m\u001b[0m\n",
       "\u001b[0;34m\u001b[0m    \u001b[0mcallback\u001b[0m\u001b[0;34m=\u001b[0m\u001b[0;32mNone\u001b[0m\u001b[0;34m,\u001b[0m\u001b[0;34m\u001b[0m\n",
       "\u001b[0;34m\u001b[0m    \u001b[0mcallback_data\u001b[0m\u001b[0;34m=\u001b[0m\u001b[0;32mNone\u001b[0m\u001b[0;34m,\u001b[0m\u001b[0;34m\u001b[0m\n",
       "\u001b[0;34m\u001b[0m\u001b[0;34m)\u001b[0m\u001b[0;34m\u001b[0m\u001b[0;34m\u001b[0m\u001b[0m\n",
       "\u001b[0;31mDocstring:\u001b[0m\n",
       "Create a TranslateOptions() object that can be passed to gdal.Translate()\n",
       "Keyword arguments are :\n",
       "  options --- can be be an array of strings, a string or let empty and filled from other keywords.\n",
       "  format --- output format (\"GTiff\", etc...)\n",
       "  outputType --- output type (gdalconst.GDT_Byte, etc...)\n",
       "  bandList --- array of band numbers (index start at 1)\n",
       "  maskBand --- mask band to generate or not (\"none\", \"auto\", \"mask\", 1, ...)\n",
       "  width --- width of the output raster in pixel\n",
       "  height --- height of the output raster in pixel\n",
       "  widthPct --- width of the output raster in percentage (100 = original width)\n",
       "  heightPct --- height of the output raster in percentage (100 = original height)\n",
       "  xRes --- output horizontal resolution\n",
       "  yRes --- output vertical resolution\n",
       "  creationOptions --- list of creation options\n",
       "  srcWin --- subwindow in pixels to extract: [left_x, top_y, width, height]\n",
       "  projWin --- subwindow in projected coordinates to extract: [ulx, uly, lrx, lry]\n",
       "  projWinSRS --- SRS in which projWin is expressed\n",
       "  strict --- strict mode\n",
       "  unscale --- unscale values with scale and offset metadata\n",
       "  scaleParams --- list of scale parameters, each of the form [src_min,src_max] or [src_min,src_max,dst_min,dst_max]\n",
       "  exponents --- list of exponentiation parameters\n",
       "  outputBounds --- assigned output bounds: [ulx, uly, lrx, lry]\n",
       "  metadataOptions --- list of metadata options\n",
       "  outputSRS --- assigned output SRS\n",
       "  nogcp --- ignore GCP in the raster\n",
       "  GCPs --- list of GCPs\n",
       "  noData --- nodata value (or \"none\" to unset it)\n",
       "  rgbExpand --- Color palette expansion mode: \"gray\", \"rgb\", \"rgba\"\n",
       "  stats --- whether to calculate statistics\n",
       "  rat --- whether to write source RAT\n",
       "  resampleAlg --- resampling mode\n",
       "  callback --- callback method\n",
       "  callback_data --- user data for callback\n",
       "\u001b[0;31mFile:\u001b[0m      ~/.local/lib/python3.10/site-packages/osgeo/gdal.py\n",
       "\u001b[0;31mType:\u001b[0m      function"
      ]
     },
     "metadata": {},
     "output_type": "display_data"
    }
   ],
   "source": [
    "gdal.TranslateOptions?"
   ]
  },
  {
   "cell_type": "code",
   "execution_count": 24,
   "id": "8b9c8217-3ada-4f9c-9a0c-27120bf4cdcb",
   "metadata": {
    "tags": []
   },
   "outputs": [
    {
     "name": "stdout",
     "output_type": "stream",
     "text": [
      "Atlas\n",
      "shape: (1, 1575, 1466)\n",
      "dtype: uint16\n",
      "\n"
     ]
    }
   ],
   "source": [
    "print_raster_info(atlasds, 'Atlas')"
   ]
  },
  {
   "cell_type": "code",
   "execution_count": 25,
   "id": "eec3a326-77df-4acd-8467-4bd804ac418b",
   "metadata": {
    "tags": []
   },
   "outputs": [
    {
     "name": "stdout",
     "output_type": "stream",
     "text": [
      "DEM-DTM\n",
      "shape: (1, 1202, 1011)\n",
      "dtype: float64\n",
      "\n"
     ]
    }
   ],
   "source": [
    "print_raster_info(canpyds, 'DEM-DTM')"
   ]
  },
  {
   "cell_type": "markdown",
   "id": "ff7325d8-d1c8-423c-bd11-0f8d97753bc6",
   "metadata": {},
   "source": [
    "**<font color=red>NOTE: </font>** <font color=red>The right order of coordinates to assign to the input image is: **ulx uly lrx lry**, i.e. upper-left x and y, lower-right x and y, as reported in gdal_translate documentation</font>"
   ]
  },
  {
   "cell_type": "code",
   "execution_count": 26,
   "id": "547aea40-66dc-41e9-9acf-26f4041e7f00",
   "metadata": {
    "tags": []
   },
   "outputs": [],
   "source": [
    "clipped_halle_urban_atlas_2012 = gdal.Translate(srcDS=atlasds, destName=\"clipped_halle_urban_atlas_2012.tiff\", projWin=[minx, maxy, maxx, miny], outputType=gdal.GDT_UInt16, format=\"GTiff\", noData=65535)"
   ]
  },
  {
   "cell_type": "code",
   "execution_count": 27,
   "id": "89ced0e8-f00d-46bc-ac81-9f627040af55",
   "metadata": {
    "tags": []
   },
   "outputs": [
    {
     "name": "stdout",
     "output_type": "stream",
     "text": [
      "Clipped atlas\n",
      "shape: (1, 1202, 1011)\n",
      "dtype: uint16\n",
      "\n"
     ]
    }
   ],
   "source": [
    "print_raster_info(clipped_halle_urban_atlas_2012, 'Clipped atlas')"
   ]
  },
  {
   "cell_type": "markdown",
   "id": "9f6eed45-1a00-4d75-8af8-6e04daa5d6d7",
   "metadata": {},
   "source": [
    "## Creation of binary mask"
   ]
  },
  {
   "cell_type": "code",
   "execution_count": 28,
   "id": "c48acaaf-0743-48a8-82da-c4d7b3367eaf",
   "metadata": {
    "tags": []
   },
   "outputs": [],
   "source": [
    "# Get the array data of each dataset\n",
    "atlasdata = clipped_halle_urban_atlas_2012.ReadAsArray()\n",
    "demdtmdata = uint16cands.ReadAsArray()"
   ]
  },
  {
   "cell_type": "code",
   "execution_count": 29,
   "id": "d2a8aa7f-653e-41be-8dc5-506a7a4ff8ad",
   "metadata": {
    "tags": []
   },
   "outputs": [
    {
     "data": {
      "text/plain": [
       "array([[65535, 65535, 65535, ..., 65535, 65535, 65535],\n",
       "       [65535, 65535, 65535, ..., 65535, 65535, 65535],\n",
       "       [65535, 65535, 65535, ..., 65535, 65535, 65535],\n",
       "       ...,\n",
       "       [65535, 65535, 65535, ..., 65535, 65535, 65535],\n",
       "       [65535, 65535, 65535, ..., 65535, 65535, 65535],\n",
       "       [65535, 65535, 65535, ..., 65535, 65535, 65535]], dtype=uint16)"
      ]
     },
     "execution_count": 29,
     "metadata": {},
     "output_type": "execute_result"
    }
   ],
   "source": [
    "atlasdata"
   ]
  },
  {
   "cell_type": "code",
   "execution_count": 30,
   "id": "f75b81af-0935-42f6-865f-8501c5aef2d2",
   "metadata": {
    "tags": []
   },
   "outputs": [
    {
     "data": {
      "text/plain": [
       "array([[65535, 65535, 65535, ..., 65535, 65535, 65535],\n",
       "       [65535, 65535, 65535, ..., 65535, 65535, 65535],\n",
       "       [65535, 65535, 65535, ..., 65535, 65535, 65535],\n",
       "       ...,\n",
       "       [65535, 65535, 65535, ..., 65535, 65535, 65535],\n",
       "       [65535, 65535, 65535, ..., 65535, 65535, 65535],\n",
       "       [65535, 65535, 65535, ..., 65535, 65535, 65535]], dtype=uint16)"
      ]
     },
     "execution_count": 30,
     "metadata": {},
     "output_type": "execute_result"
    }
   ],
   "source": [
    "demdtmdata"
   ]
  },
  {
   "cell_type": "code",
   "execution_count": 31,
   "id": "6dca3d77-737b-40c9-ac9c-59c1cfd574d9",
   "metadata": {
    "tags": []
   },
   "outputs": [],
   "source": [
    "# Create masks for valid values\n",
    "atlasmasked = np.ma.masked_where(65535, atlasdata)\n",
    "demdtmmasked = np.ma.masked_where(65535, demdtmdata)"
   ]
  },
  {
   "cell_type": "code",
   "execution_count": 32,
   "id": "84a55689-7d17-4c4a-9408-9cfdf44db44f",
   "metadata": {
    "tags": []
   },
   "outputs": [
    {
     "data": {
      "text/plain": [
       "masked_array(\n",
       "  data=[[--, --, --, ..., --, --, --],\n",
       "        [--, --, --, ..., --, --, --],\n",
       "        [--, --, --, ..., --, --, --],\n",
       "        ...,\n",
       "        [--, --, --, ..., --, --, --],\n",
       "        [--, --, --, ..., --, --, --],\n",
       "        [--, --, --, ..., --, --, --]],\n",
       "  mask=[[ True,  True,  True, ...,  True,  True,  True],\n",
       "        [ True,  True,  True, ...,  True,  True,  True],\n",
       "        [ True,  True,  True, ...,  True,  True,  True],\n",
       "        ...,\n",
       "        [ True,  True,  True, ...,  True,  True,  True],\n",
       "        [ True,  True,  True, ...,  True,  True,  True],\n",
       "        [ True,  True,  True, ...,  True,  True,  True]],\n",
       "  fill_value=999999,\n",
       "  dtype=uint16)"
      ]
     },
     "execution_count": 32,
     "metadata": {},
     "output_type": "execute_result"
    }
   ],
   "source": [
    "atlasmasked"
   ]
  },
  {
   "cell_type": "code",
   "execution_count": 33,
   "id": "553824a6-6bcb-4875-b3cd-ffaea4870e7f",
   "metadata": {
    "tags": []
   },
   "outputs": [
    {
     "data": {
      "text/plain": [
       "masked_array(\n",
       "  data=[[--, --, --, ..., --, --, --],\n",
       "        [--, --, --, ..., --, --, --],\n",
       "        [--, --, --, ..., --, --, --],\n",
       "        ...,\n",
       "        [--, --, --, ..., --, --, --],\n",
       "        [--, --, --, ..., --, --, --],\n",
       "        [--, --, --, ..., --, --, --]],\n",
       "  mask=[[ True,  True,  True, ...,  True,  True,  True],\n",
       "        [ True,  True,  True, ...,  True,  True,  True],\n",
       "        [ True,  True,  True, ...,  True,  True,  True],\n",
       "        ...,\n",
       "        [ True,  True,  True, ...,  True,  True,  True],\n",
       "        [ True,  True,  True, ...,  True,  True,  True],\n",
       "        [ True,  True,  True, ...,  True,  True,  True]],\n",
       "  fill_value=999999,\n",
       "  dtype=uint16)"
      ]
     },
     "execution_count": 33,
     "metadata": {},
     "output_type": "execute_result"
    }
   ],
   "source": [
    "demdtmmasked"
   ]
  },
  {
   "cell_type": "code",
   "execution_count": 34,
   "id": "fb6bbfa2-cd03-4e66-bf33-f8c93b166c7e",
   "metadata": {
    "tags": []
   },
   "outputs": [],
   "source": [
    "# Find the overlap of the two masked arrays\n",
    "overlapmask = np.bitwise_and(atlasmasked.mask, demdtmmasked.mask)"
   ]
  },
  {
   "cell_type": "code",
   "execution_count": 35,
   "id": "e7db05b7-4484-4a7c-a1d6-f2916a8a1048",
   "metadata": {
    "tags": []
   },
   "outputs": [
    {
     "data": {
      "text/plain": [
       "array([[ True,  True,  True, ...,  True,  True,  True],\n",
       "       [ True,  True,  True, ...,  True,  True,  True],\n",
       "       [ True,  True,  True, ...,  True,  True,  True],\n",
       "       ...,\n",
       "       [ True,  True,  True, ...,  True,  True,  True],\n",
       "       [ True,  True,  True, ...,  True,  True,  True],\n",
       "       [ True,  True,  True, ...,  True,  True,  True]])"
      ]
     },
     "execution_count": 35,
     "metadata": {},
     "output_type": "execute_result"
    }
   ],
   "source": [
    "overlapmask"
   ]
  },
  {
   "cell_type": "markdown",
   "id": "101ae7c9-64d0-4ed0-b58f-0973982f9367",
   "metadata": {},
   "source": [
    "## Compute MSE"
   ]
  },
  {
   "cell_type": "code",
   "execution_count": 36,
   "id": "d86f20ea-7e52-4566-90fe-09eb65b7937a",
   "metadata": {
    "tags": []
   },
   "outputs": [],
   "source": [
    "# Use the overlap to get data from each data layer\n",
    "demdtmoverdata = atlasmasked.data[overlapmask].reshape(overlapmask.shape)\n",
    "atlasoverdata = demdtmmasked.data[overlapmask].reshape(overlapmask.shape)"
   ]
  },
  {
   "cell_type": "code",
   "execution_count": 37,
   "id": "8ed74ea4-b5d6-4baa-b886-60385444731b",
   "metadata": {
    "tags": []
   },
   "outputs": [],
   "source": [
    "delta = demdtmoverdata - atlasoverdata\n",
    "delta2 = delta*delta"
   ]
  },
  {
   "cell_type": "code",
   "execution_count": 38,
   "id": "5440f810-2458-4ae2-86fa-455d1891520c",
   "metadata": {
    "tags": []
   },
   "outputs": [],
   "source": [
    "mse = delta2.mean()"
   ]
  },
  {
   "cell_type": "code",
   "execution_count": 39,
   "id": "f018ca44-91a3-4026-9d7a-ca769382c78e",
   "metadata": {
    "tags": []
   },
   "outputs": [
    {
     "data": {
      "text/plain": [
       "7.084522827927737"
      ]
     },
     "execution_count": 39,
     "metadata": {},
     "output_type": "execute_result"
    }
   ],
   "source": [
    "mse"
   ]
  },
  {
   "cell_type": "code",
   "execution_count": null,
   "id": "fdff8c3c-5b38-463d-af4f-1cb6dfc1a1f3",
   "metadata": {},
   "outputs": [],
   "source": []
  }
 ],
 "metadata": {
  "kernelspec": {
   "display_name": "Python 3 (ipykernel)",
   "language": "python",
   "name": "python3"
  },
  "language_info": {
   "codemirror_mode": {
    "name": "ipython",
    "version": 3
   },
   "file_extension": ".py",
   "mimetype": "text/x-python",
   "name": "python",
   "nbconvert_exporter": "python",
   "pygments_lexer": "ipython3",
   "version": "3.10.6"
  }
 },
 "nbformat": 4,
 "nbformat_minor": 5
}
